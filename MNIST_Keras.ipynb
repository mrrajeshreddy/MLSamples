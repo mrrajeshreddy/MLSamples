{
  "nbformat": 4,
  "nbformat_minor": 0,
  "metadata": {
    "colab": {
      "name": "MNIST_Keras.ipynb",
      "version": "0.3.2",
      "views": {},
      "default_view": {},
      "provenance": [],
      "collapsed_sections": []
    },
    "kernelspec": {
      "name": "python3",
      "display_name": "Python 3"
    },
    "accelerator": "GPU"
  },
  "cells": [
    {
      "metadata": {
        "id": "JhYMXpP1NnJS",
        "colab_type": "text"
      },
      "cell_type": "markdown",
      "source": [
        "# Deep learning 101\n",
        "## MNSIT classification using Keras"
      ]
    },
    {
      "metadata": {
        "id": "zgpHHtY_NyX2",
        "colab_type": "code",
        "colab": {
          "autoexec": {
            "startup": false,
            "wait_interval": 0
          }
        }
      },
      "cell_type": "code",
      "source": [
        "# Install Kears if its not already there\n",
        "#! pip install keras"
      ],
      "execution_count": 0,
      "outputs": []
    },
    {
      "metadata": {
        "id": "i7yqrhwdNg5W",
        "colab_type": "code",
        "colab": {
          "autoexec": {
            "startup": false,
            "wait_interval": 0
          },
          "output_extras": [
            {
              "item_id": 1
            }
          ],
          "base_uri": "https://localhost:8080/",
          "height": 34
        },
        "outputId": "fb9be1cc-b1f1-425f-ace9-343bc1b7f1dd",
        "executionInfo": {
          "status": "ok",
          "timestamp": 1519770574157,
          "user_tz": 0,
          "elapsed": 1209,
          "user": {
            "displayName": "Rajesh Reddy",
            "photoUrl": "//lh3.googleusercontent.com/-Cw04_nciGC0/AAAAAAAAAAI/AAAAAAABD-0/wfiNoPHmgi4/s50-c-k-no/photo.jpg",
            "userId": "106015002215140560112"
          }
        }
      },
      "cell_type": "code",
      "source": [
        "import numpy as np\n",
        "import matplotlib.pyplot as plt\n",
        "from keras.layers import Input, Dense\n",
        "from keras.utils import to_categorical\n",
        "from keras.models import Model"
      ],
      "execution_count": 2,
      "outputs": [
        {
          "output_type": "stream",
          "text": [
            "Using TensorFlow backend.\n"
          ],
          "name": "stderr"
        }
      ]
    },
    {
      "metadata": {
        "id": "K8xRKbCgOjEh",
        "colab_type": "text"
      },
      "cell_type": "markdown",
      "source": [
        "Read MNIST data from Keras"
      ]
    },
    {
      "metadata": {
        "id": "cAhMHAYmOiJK",
        "colab_type": "code",
        "colab": {
          "autoexec": {
            "startup": false,
            "wait_interval": 0
          },
          "output_extras": [
            {
              "item_id": 1
            }
          ],
          "base_uri": "https://localhost:8080/",
          "height": 51
        },
        "outputId": "d3e04864-16e0-4b30-d035-7ad2c1c28230",
        "executionInfo": {
          "status": "ok",
          "timestamp": 1519770578564,
          "user_tz": 0,
          "elapsed": 659,
          "user": {
            "displayName": "Rajesh Reddy",
            "photoUrl": "//lh3.googleusercontent.com/-Cw04_nciGC0/AAAAAAAAAAI/AAAAAAABD-0/wfiNoPHmgi4/s50-c-k-no/photo.jpg",
            "userId": "106015002215140560112"
          }
        }
      },
      "cell_type": "code",
      "source": [
        "from keras.datasets import mnist\n",
        "(trainImages, trainLabels), (testImages, testLabels) = mnist.load_data()\n",
        "print('Train image shape: ', trainImages.shape)\n",
        "print('Train labels shape: ', trainLabels.shape)"
      ],
      "execution_count": 3,
      "outputs": [
        {
          "output_type": "stream",
          "text": [
            "Train image shape:  (60000, 28, 28)\n",
            "Train labels shape:  (60000,)\n"
          ],
          "name": "stdout"
        }
      ]
    },
    {
      "metadata": {
        "id": "4xNXC4hYPQ6_",
        "colab_type": "text"
      },
      "cell_type": "markdown",
      "source": [
        "Display an example image"
      ]
    },
    {
      "metadata": {
        "id": "2iMyqJsBPMZ8",
        "colab_type": "code",
        "colab": {
          "autoexec": {
            "startup": false,
            "wait_interval": 0
          },
          "output_extras": [
            {
              "item_id": 1
            },
            {
              "item_id": 2
            }
          ],
          "base_uri": "https://localhost:8080/",
          "height": 364
        },
        "outputId": "aa265cc8-cf44-4138-cf38-5ff1a862c76f",
        "executionInfo": {
          "status": "ok",
          "timestamp": 1519770580291,
          "user_tz": 0,
          "elapsed": 472,
          "user": {
            "displayName": "Rajesh Reddy",
            "photoUrl": "//lh3.googleusercontent.com/-Cw04_nciGC0/AAAAAAAAAAI/AAAAAAABD-0/wfiNoPHmgi4/s50-c-k-no/photo.jpg",
            "userId": "106015002215140560112"
          }
        }
      },
      "cell_type": "code",
      "source": [
        "print('Digit: ', trainLabels[400])\n",
        "plt.imshow(trainImages[400])\n",
        "plt.show()"
      ],
      "execution_count": 4,
      "outputs": [
        {
          "output_type": "stream",
          "text": [
            "Digit:  2\n"
          ],
          "name": "stdout"
        },
        {
          "output_type": "display_data",
          "data": {
            "image/png": "[encoded data removed]",
            "text/plain": [
              "<matplotlib.figure.Figure at 0x7f4b03d72128>"
            ]
          },
          "metadata": {
            "tags": []
          }
        }
      ]
    },
    {
      "metadata": {
        "id": "aa2_0TfKPsC6",
        "colab_type": "text"
      },
      "cell_type": "markdown",
      "source": [
        "Reshape train and test images"
      ]
    },
    {
      "metadata": {
        "id": "IuqDXQTbPiQg",
        "colab_type": "code",
        "colab": {
          "autoexec": {
            "startup": false,
            "wait_interval": 0
          },
          "output_extras": [
            {
              "item_id": 1
            }
          ],
          "base_uri": "https://localhost:8080/",
          "height": 51
        },
        "outputId": "cf4d7f44-98a2-43ca-9f06-302d98f697de",
        "executionInfo": {
          "status": "ok",
          "timestamp": 1519770582153,
          "user_tz": 0,
          "elapsed": 478,
          "user": {
            "displayName": "Rajesh Reddy",
            "photoUrl": "//lh3.googleusercontent.com/-Cw04_nciGC0/AAAAAAAAAAI/AAAAAAABD-0/wfiNoPHmgi4/s50-c-k-no/photo.jpg",
            "userId": "106015002215140560112"
          }
        }
      },
      "cell_type": "code",
      "source": [
        "trainImages = trainImages.reshape(trainImages.shape[0], trainImages.shape[1]*trainImages.shape[2])\n",
        "trainImages = trainImages.astype(np.float32) / 255\n",
        "testImages = testImages.reshape(testImages.shape[0], testImages.shape[1]*testImages.shape[2])\n",
        "testImages = testImages.astype(np.float32) / 255\n",
        "print('Train shape: ', trainImages.shape)\n",
        "print('Test shape: ', testImages.shape)"
      ],
      "execution_count": 5,
      "outputs": [
        {
          "output_type": "stream",
          "text": [
            "Train shape:  (60000, 784)\n",
            "Test shape:  (10000, 784)\n"
          ],
          "name": "stdout"
        }
      ]
    },
    {
      "metadata": {
        "id": "yZ66e0pMQ0Bq",
        "colab_type": "text"
      },
      "cell_type": "markdown",
      "source": [
        "Encode labels"
      ]
    },
    {
      "metadata": {
        "id": "CEaA4cJYQUJH",
        "colab_type": "code",
        "colab": {
          "autoexec": {
            "startup": false,
            "wait_interval": 0
          },
          "output_extras": [
            {
              "item_id": 1
            }
          ],
          "base_uri": "https://localhost:8080/",
          "height": 51
        },
        "outputId": "636a7995-0588-4582-8cb9-6d556d4e81f2",
        "executionInfo": {
          "status": "ok",
          "timestamp": 1519770583950,
          "user_tz": 0,
          "elapsed": 500,
          "user": {
            "displayName": "Rajesh Reddy",
            "photoUrl": "//lh3.googleusercontent.com/-Cw04_nciGC0/AAAAAAAAAAI/AAAAAAABD-0/wfiNoPHmgi4/s50-c-k-no/photo.jpg",
            "userId": "106015002215140560112"
          }
        }
      },
      "cell_type": "code",
      "source": [
        "trainLabels = to_categorical(trainLabels)\n",
        "testLabels = to_categorical(testLabels)\n",
        "print(trainLabels[0])\n",
        "print(testLabels[0])"
      ],
      "execution_count": 6,
      "outputs": [
        {
          "output_type": "stream",
          "text": [
            "[0. 0. 0. 0. 0. 1. 0. 0. 0. 0.]\n",
            "[0. 0. 0. 0. 0. 0. 0. 1. 0. 0.]\n"
          ],
          "name": "stdout"
        }
      ]
    },
    {
      "metadata": {
        "id": "NjF6yEPER4Am",
        "colab_type": "text"
      },
      "cell_type": "markdown",
      "source": [
        "## Build model\n",
        "We will create a single layer with 512 units and connect that to a softmax activation.\n",
        "<br>Use categorical crossentropy loss function\n",
        "<br>Train the model using RMSProp "
      ]
    },
    {
      "metadata": {
        "id": "RWDU0MP9RQ_S",
        "colab_type": "code",
        "colab": {
          "autoexec": {
            "startup": false,
            "wait_interval": 0
          }
        }
      },
      "cell_type": "code",
      "source": [
        "X_input = Input(dtype=np.float32,shape=(28*28,))\n",
        "Y = Dense(512, activation='relu')(X_input)\n",
        "Y = Dense(10, activation='softmax')(Y)\n",
        "model = Model(inputs = X_input, outputs = Y)"
      ],
      "execution_count": 0,
      "outputs": []
    },
    {
      "metadata": {
        "id": "fPUQLQrqUnc_",
        "colab_type": "text"
      },
      "cell_type": "markdown",
      "source": [
        "Train the model using RMSProp"
      ]
    },
    {
      "metadata": {
        "id": "Z8q-8TYWX0Gn",
        "colab_type": "code",
        "colab": {
          "autoexec": {
            "startup": false,
            "wait_interval": 0
          }
        }
      },
      "cell_type": "code",
      "source": [
        "from keras import optimizers, losses"
      ],
      "execution_count": 0,
      "outputs": []
    },
    {
      "metadata": {
        "id": "OaQXQyFWUmdt",
        "colab_type": "code",
        "colab": {
          "autoexec": {
            "startup": false,
            "wait_interval": 0
          },
          "output_extras": [
            {
              "item_id": 48
            }
          ],
          "base_uri": "https://localhost:8080/",
          "height": 185
        },
        "outputId": "3ba0fd5e-f55f-4050-9229-d3e4a4bedb5c",
        "executionInfo": {
          "status": "ok",
          "timestamp": 1519770605534,
          "user_tz": 0,
          "elapsed": 12854,
          "user": {
            "displayName": "Rajesh Reddy",
            "photoUrl": "//lh3.googleusercontent.com/-Cw04_nciGC0/AAAAAAAAAAI/AAAAAAABD-0/wfiNoPHmgi4/s50-c-k-no/photo.jpg",
            "userId": "106015002215140560112"
          }
        }
      },
      "cell_type": "code",
      "source": [
        "model.compile(optimizer=optimizers.RMSprop(), loss=losses.categorical_crossentropy, metrics=['accuracy'])\n",
        "history = model.fit(x=trainImages, y=trainLabels, batch_size=128, epochs=5)"
      ],
      "execution_count": 9,
      "outputs": [
        {
          "output_type": "stream",
          "text": [
            "Epoch 1/5\n",
            "60000/60000 [==============================] - 3s 51us/step - loss: 0.2550 - acc: 0.9252\n",
            "Epoch 2/5\n",
            "60000/60000 [==============================] - 2s 38us/step - loss: 0.1039 - acc: 0.9692\n",
            "Epoch 3/5\n",
            "60000/60000 [==============================] - 2s 38us/step - loss: 0.0698 - acc: 0.9795\n",
            "Epoch 4/5\n",
            "60000/60000 [==============================] - 2s 38us/step - loss: 0.0500 - acc: 0.9851\n",
            "Epoch 5/5\n",
            "60000/60000 [==============================] - 2s 38us/step - loss: 0.0379 - acc: 0.9888\n"
          ],
          "name": "stdout"
        }
      ]
    },
    {
      "metadata": {
        "id": "N3r5PJSnW7B3",
        "colab_type": "text"
      },
      "cell_type": "markdown",
      "source": [
        "Evaluate model"
      ]
    },
    {
      "metadata": {
        "id": "6sVlpXVCVwTv",
        "colab_type": "code",
        "colab": {
          "autoexec": {
            "startup": false,
            "wait_interval": 0
          },
          "output_extras": [
            {
              "item_id": 4
            }
          ],
          "base_uri": "https://localhost:8080/",
          "height": 34
        },
        "outputId": "0f337793-e3f5-495d-a530-0abb8c4139b6",
        "executionInfo": {
          "status": "ok",
          "timestamp": 1519770610079,
          "user_tz": 0,
          "elapsed": 1064,
          "user": {
            "displayName": "Rajesh Reddy",
            "photoUrl": "//lh3.googleusercontent.com/-Cw04_nciGC0/AAAAAAAAAAI/AAAAAAABD-0/wfiNoPHmgi4/s50-c-k-no/photo.jpg",
            "userId": "106015002215140560112"
          }
        }
      },
      "cell_type": "code",
      "source": [
        "evel = model.evaluate(x=testImages, y=testLabels)"
      ],
      "execution_count": 10,
      "outputs": [
        {
          "output_type": "stream",
          "text": [
            "10000/10000 [==============================] - 1s 62us/step\n"
          ],
          "name": "stdout"
        }
      ]
    },
    {
      "metadata": {
        "id": "NF8oZw3hW6Mv",
        "colab_type": "code",
        "colab": {
          "autoexec": {
            "startup": false,
            "wait_interval": 0
          },
          "output_extras": [
            {
              "item_id": 1
            }
          ],
          "base_uri": "https://localhost:8080/",
          "height": 34
        },
        "outputId": "c8f2a52e-3ba8-4f39-c9ad-e5aedb7ec0c1",
        "executionInfo": {
          "status": "ok",
          "timestamp": 1519770614302,
          "user_tz": 0,
          "elapsed": 483,
          "user": {
            "displayName": "Rajesh Reddy",
            "photoUrl": "//lh3.googleusercontent.com/-Cw04_nciGC0/AAAAAAAAAAI/AAAAAAABD-0/wfiNoPHmgi4/s50-c-k-no/photo.jpg",
            "userId": "106015002215140560112"
          }
        }
      },
      "cell_type": "code",
      "source": [
        "print(evel)"
      ],
      "execution_count": 11,
      "outputs": [
        {
          "output_type": "stream",
          "text": [
            "[0.06416816953497473, 0.9807]\n"
          ],
          "name": "stdout"
        }
      ]
    }
  ]
}
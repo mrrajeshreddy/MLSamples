{
  "nbformat": 4,
  "nbformat_minor": 0,
  "metadata": {
    "colab": {
      "name": "ConvMNIST.ipynb",
      "version": "0.3.2",
      "views": {},
      "default_view": {},
      "provenance": [],
      "collapsed_sections": []
    },
    "kernelspec": {
      "name": "python3",
      "display_name": "Python 3"
    },
    "accelerator": "GPU"
  },
  "cells": [
    {
      "metadata": {
        "id": "GSg9CfCLZoyF",
        "colab_type": "text"
      },
      "cell_type": "markdown",
      "source": [
        "# MNIST classification using Convolutions\n",
        "\n",
        "\n",
        "---\n",
        "\n"
      ]
    },
    {
      "metadata": {
        "id": "1UFKWpF3Z6Hj",
        "colab_type": "code",
        "colab": {
          "autoexec": {
            "startup": false,
            "wait_interval": 0
          }
        }
      },
      "cell_type": "code",
      "source": [
        "# Install Kears if its not already there\n",
        "#! pip install keras"
      ],
      "execution_count": 0,
      "outputs": []
    },
    {
      "metadata": {
        "id": "YKz5d08gZHwo",
        "colab_type": "code",
        "colab": {
          "autoexec": {
            "startup": false,
            "wait_interval": 0
          },
          "output_extras": [
            {
              "item_id": 1
            }
          ],
          "base_uri": "https://localhost:8080/",
          "height": 34
        },
        "outputId": "4c335b84-bc9c-4f6a-e5aa-9a1696e00885",
        "executionInfo": {
          "status": "ok",
          "timestamp": 1519774656874,
          "user_tz": 0,
          "elapsed": 1217,
          "user": {
            "displayName": "Rajesh Reddy",
            "photoUrl": "//lh3.googleusercontent.com/-Cw04_nciGC0/AAAAAAAAAAI/AAAAAAABD-0/wfiNoPHmgi4/s50-c-k-no/photo.jpg",
            "userId": "106015002215140560112"
          }
        }
      },
      "cell_type": "code",
      "source": [
        "import numpy as np\n",
        "import matplotlib.pyplot as plt\n",
        "from keras.layers import Input, Conv2D, MaxPooling2D, Dense, Flatten, Dropout\n",
        "from keras.layers import ZeroPadding2D, Activation\n",
        "from keras.models import Model\n",
        "from keras import optimizers, losses\n",
        "from keras.utils import to_categorical\n",
        "from keras.datasets import mnist\n",
        "from keras import backend as K"
      ],
      "execution_count": 2,
      "outputs": [
        {
          "output_type": "stream",
          "text": [
            "Using TensorFlow backend.\n"
          ],
          "name": "stderr"
        }
      ]
    },
    {
      "metadata": {
        "id": "crF346ShbjA0",
        "colab_type": "code",
        "colab": {
          "autoexec": {
            "startup": false,
            "wait_interval": 0
          }
        }
      },
      "cell_type": "code",
      "source": [
        "K.set_image_data_format('channels_last')"
      ],
      "execution_count": 0,
      "outputs": []
    },
    {
      "metadata": {
        "id": "Xpivo9HpeJ5P",
        "colab_type": "text"
      },
      "cell_type": "markdown",
      "source": [
        "Prepare data\n",
        "* Read and reshape the images to have 1 channel\n",
        "* Encode categories to one hot code\n"
      ]
    },
    {
      "metadata": {
        "id": "cQaHRnWxbxTl",
        "colab_type": "code",
        "colab": {
          "autoexec": {
            "startup": false,
            "wait_interval": 0
          }
        }
      },
      "cell_type": "code",
      "source": [
        "(trainImages, trainLabels), (testImages, testLabels) = mnist.load_data()\n",
        "trainImages = trainImages.reshape(trainImages.shape[0], trainImages.shape[1],\n",
        "                                  trainImages.shape[2], 1)\n",
        "trainImages = trainImages.astype(np.float32) / 255\n",
        "testImages = testImages.reshape(testImages.shape[0], testImages.shape[1],\n",
        "                                testImages.shape[2], 1)\n",
        "testImages = testImages.astype(np.float32) / 255\n",
        "trainLabels = to_categorical(trainLabels)\n",
        "testLabels = to_categorical(testLabels)"
      ],
      "execution_count": 0,
      "outputs": []
    },
    {
      "metadata": {
        "id": "XLEpVmxEcdsP",
        "colab_type": "code",
        "colab": {
          "autoexec": {
            "startup": false,
            "wait_interval": 0
          },
          "output_extras": [
            {
              "item_id": 1
            },
            {
              "item_id": 2
            }
          ],
          "base_uri": "https://localhost:8080/",
          "height": 364
        },
        "outputId": "bfed1191-ee4c-40f1-926e-ecaebfb47248",
        "executionInfo": {
          "status": "ok",
          "timestamp": 1519774661567,
          "user_tz": 0,
          "elapsed": 497,
          "user": {
            "displayName": "Rajesh Reddy",
            "photoUrl": "//lh3.googleusercontent.com/-Cw04_nciGC0/AAAAAAAAAAI/AAAAAAABD-0/wfiNoPHmgi4/s50-c-k-no/photo.jpg",
            "userId": "106015002215140560112"
          }
        }
      },
      "cell_type": "code",
      "source": [
        "print(trainLabels[400])\n",
        "plt.imshow(trainImages[400,:,:,0])\n",
        "plt.show()"
      ],
      "execution_count": 5,
      "outputs": [
        {
          "output_type": "stream",
          "text": [
            "[0. 0. 1. 0. 0. 0. 0. 0. 0. 0.]\n"
          ],
          "name": "stdout"
        },
        {
          "output_type": "display_data",
          "data": {
            "image/png": "[encoded data removed]",
            "text/plain": [
              "<matplotlib.figure.Figure at 0x7f48adb69710>"
            ]
          },
          "metadata": {
            "tags": []
          }
        }
      ]
    },
    {
      "metadata": {
        "id": "RmaKu3lWfn2p",
        "colab_type": "text"
      },
      "cell_type": "markdown",
      "source": [
        "Build convolution model"
      ]
    },
    {
      "metadata": {
        "id": "pqeN_iJ7c0TI",
        "colab_type": "code",
        "colab": {
          "autoexec": {
            "startup": false,
            "wait_interval": 0
          }
        }
      },
      "cell_type": "code",
      "source": [
        "def build_model(input_shape=(28, 28, 1), num_classes=10):\n",
        "  X_input = Input(input_shape)\n",
        "  Y = ZeroPadding2D((3,3))(X_input)\n",
        "  \n",
        "  # Convolution Block\n",
        "  Y = Conv2D(32, kernel_size=(3,3), padding='valid')(Y)\n",
        "  Y = Activation('relu')(Y)\n",
        "  Y = Conv2D(64, kernel_size=(3,3), padding='valid')(Y)\n",
        "  Y = Activation('relu')(Y)\n",
        "  \n",
        "  # Max pooling\n",
        "  Y = MaxPooling2D(pool_size=(2,2))(Y)\n",
        "  \n",
        "  # Add drop out\n",
        "  Y = Dropout(0.25)(Y)\n",
        "  \n",
        "  # Flatten\n",
        "  Y = Flatten()(Y)\n",
        "  \n",
        "  # Fully connected network\n",
        "  Y = Dense(128)(Y)\n",
        "  Y = Activation('relu')(Y)\n",
        "  Y = Dropout(0.25)(Y)\n",
        "  Y = Dense(num_classes, activation='softmax')(Y)\n",
        "  \n",
        "  # Create model object\n",
        "  model = Model(inputs=X_input, outputs=Y)\n",
        "  \n",
        "  return model"
      ],
      "execution_count": 0,
      "outputs": []
    },
    {
      "metadata": {
        "id": "Z_X1WtV3kHQD",
        "colab_type": "code",
        "colab": {
          "autoexec": {
            "startup": false,
            "wait_interval": 0
          }
        }
      },
      "cell_type": "code",
      "source": [
        "K.clear_session()\n",
        "model = build_model()\n",
        "model.compile(optimizer=optimizers.Adam(),\n",
        "              loss=losses.categorical_crossentropy,\n",
        "              metrics=['accuracy'])"
      ],
      "execution_count": 0,
      "outputs": []
    },
    {
      "metadata": {
        "id": "89S0QldukRZM",
        "colab_type": "code",
        "colab": {
          "autoexec": {
            "startup": false,
            "wait_interval": 0
          },
          "output_extras": [
            {
              "item_id": 121
            },
            {
              "item_id": 217
            },
            {
              "item_id": 296
            },
            {
              "item_id": 415
            },
            {
              "item_id": 533
            },
            {
              "item_id": 569
            }
          ],
          "base_uri": "https://localhost:8080/",
          "height": 390
        },
        "outputId": "1e4a44ff-8c78-4dfb-da3f-7f78de24b22d",
        "executionInfo": {
          "status": "ok",
          "timestamp": 1519774968179,
          "user_tz": 0,
          "elapsed": 156660,
          "user": {
            "displayName": "Rajesh Reddy",
            "photoUrl": "//lh3.googleusercontent.com/-Cw04_nciGC0/AAAAAAAAAAI/AAAAAAABD-0/wfiNoPHmgi4/s50-c-k-no/photo.jpg",
            "userId": "106015002215140560112"
          }
        }
      },
      "cell_type": "code",
      "source": [
        "history = model.fit(x=trainImages, y=trainLabels, \n",
        "                    batch_size=128, \n",
        "                    epochs=10, \n",
        "                    validation_data=(testImages, testLabels))"
      ],
      "execution_count": 12,
      "outputs": [
        {
          "output_type": "stream",
          "text": [
            "Train on 60000 samples, validate on 10000 samples\n",
            "Epoch 1/10\n",
            "60000/60000 [==============================] - 16s 264us/step - loss: 0.1841 - acc: 0.9438 - val_loss: 0.0467 - val_acc: 0.9842\n",
            "Epoch 2/10\n",
            "57472/60000 [===========================>..] - ETA: 0s - loss: 0.0576 - acc: 0.9827"
          ],
          "name": "stdout"
        },
        {
          "output_type": "stream",
          "text": [
            "60000/60000 [==============================] - 16s 259us/step - loss: 0.0571 - acc: 0.9828 - val_loss: 0.0382 - val_acc: 0.9877\n",
            "Epoch 3/10\n",
            "60000/60000 [==============================] - 16s 263us/step - loss: 0.0401 - acc: 0.9871 - val_loss: 0.0346 - val_acc: 0.9870\n",
            "Epoch 4/10\n",
            "30592/60000 [==============>...............] - ETA: 7s - loss: 0.0310 - acc: 0.9905"
          ],
          "name": "stdout"
        },
        {
          "output_type": "stream",
          "text": [
            "60000/60000 [==============================] - 16s 259us/step - loss: 0.0322 - acc: 0.9900 - val_loss: 0.0307 - val_acc: 0.9894\n",
            "Epoch 5/10\n",
            "60000/60000 [==============================] - 16s 258us/step - loss: 0.0251 - acc: 0.9923 - val_loss: 0.0259 - val_acc: 0.9915\n",
            "Epoch 6/10\n",
            "25984/60000 [===========>..................] - ETA: 8s - loss: 0.0210 - acc: 0.9931"
          ],
          "name": "stdout"
        },
        {
          "output_type": "stream",
          "text": [
            "60000/60000 [==============================] - 16s 260us/step - loss: 0.0213 - acc: 0.9929 - val_loss: 0.0297 - val_acc: 0.9911\n",
            "Epoch 7/10\n",
            "60000/60000 [==============================] - 15s 257us/step - loss: 0.0180 - acc: 0.9940 - val_loss: 0.0313 - val_acc: 0.9909\n",
            "Epoch 8/10\n",
            "25216/60000 [===========>..................] - ETA: 8s - loss: 0.0192 - acc: 0.9940"
          ],
          "name": "stdout"
        },
        {
          "output_type": "stream",
          "text": [
            "60000/60000 [==============================] - 16s 258us/step - loss: 0.0175 - acc: 0.9943 - val_loss: 0.0356 - val_acc: 0.9903\n",
            "Epoch 9/10\n",
            "60000/60000 [==============================] - 15s 257us/step - loss: 0.0136 - acc: 0.9957 - val_loss: 0.0316 - val_acc: 0.9922\n",
            "Epoch 10/10\n",
            "25216/60000 [===========>..................] - ETA: 8s - loss: 0.0122 - acc: 0.9962"
          ],
          "name": "stdout"
        },
        {
          "output_type": "stream",
          "text": [
            "60000/60000 [==============================] - 15s 257us/step - loss: 0.0128 - acc: 0.9960 - val_loss: 0.0379 - val_acc: 0.9901\n"
          ],
          "name": "stdout"
        }
      ]
    },
    {
      "metadata": {
        "id": "yWkQqlzLqcLM",
        "colab_type": "text"
      },
      "cell_type": "markdown",
      "source": [
        "Evaluate model performance"
      ]
    },
    {
      "metadata": {
        "id": "Ysca6GRdkgtF",
        "colab_type": "code",
        "colab": {
          "autoexec": {
            "startup": false,
            "wait_interval": 0
          },
          "output_extras": [
            {
              "item_id": 7
            }
          ],
          "base_uri": "https://localhost:8080/",
          "height": 67
        },
        "outputId": "a36f7e89-26f7-4e0f-d839-9c3234821968",
        "executionInfo": {
          "status": "ok",
          "timestamp": 1519775086746,
          "user_tz": 0,
          "elapsed": 1917,
          "user": {
            "displayName": "Rajesh Reddy",
            "photoUrl": "//lh3.googleusercontent.com/-Cw04_nciGC0/AAAAAAAAAAI/AAAAAAABD-0/wfiNoPHmgi4/s50-c-k-no/photo.jpg",
            "userId": "106015002215140560112"
          }
        }
      },
      "cell_type": "code",
      "source": [
        "score = model.evaluate(testImages, testLabels)\n",
        "print('Test loss: ' + str(score[0]))\n",
        "print('Test accuracy: ' + str(score[1]))"
      ],
      "execution_count": 13,
      "outputs": [
        {
          "output_type": "stream",
          "text": [
            "10000/10000 [==============================] - 2s 159us/step\n",
            "Test loss: 0.03788170225611575\n",
            "Test accuracy: 0.9901\n"
          ],
          "name": "stdout"
        }
      ]
    },
    {
      "metadata": {
        "id": "sexUepUnmz0A",
        "colab_type": "code",
        "colab": {
          "autoexec": {
            "startup": false,
            "wait_interval": 0
          },
          "output_extras": [
            {
              "item_id": 1
            },
            {
              "item_id": 2
            },
            {
              "item_id": 3
            }
          ],
          "base_uri": "https://localhost:8080/",
          "height": 752
        },
        "outputId": "efee4197-bbc3-4ae3-b04b-7b8d9f491c04",
        "executionInfo": {
          "status": "ok",
          "timestamp": 1519775093282,
          "user_tz": 0,
          "elapsed": 849,
          "user": {
            "displayName": "Rajesh Reddy",
            "photoUrl": "//lh3.googleusercontent.com/-Cw04_nciGC0/AAAAAAAAAAI/AAAAAAABD-0/wfiNoPHmgi4/s50-c-k-no/photo.jpg",
            "userId": "106015002215140560112"
          }
        }
      },
      "cell_type": "code",
      "source": [
        "print(history.history.keys())\n",
        "plt.plot(history.history['acc'])\n",
        "plt.plot(history.history['val_acc'])\n",
        "plt.title('model accuracy')\n",
        "plt.ylabel('accuracy')\n",
        "plt.xlabel('epoch')\n",
        "plt.legend(['train', 'test'], loc='upper left')\n",
        "plt.show()\n",
        "# summarize history for loss\n",
        "plt.plot(history.history['loss'])\n",
        "plt.plot(history.history['val_loss'])\n",
        "plt.title('model loss')\n",
        "plt.ylabel('loss')\n",
        "plt.xlabel('epoch')\n",
        "plt.legend(['train', 'test'], loc='upper left')\n",
        "plt.show()"
      ],
      "execution_count": 14,
      "outputs": [
        {
          "output_type": "stream",
          "text": [
            "dict_keys(['val_loss', 'val_acc', 'loss', 'acc'])\n"
          ],
          "name": "stdout"
        },
        {
          "output_type": "display_data",
          "data": {
            "image/png": "[encoded data removed]",
            "text/plain": [
              "<matplotlib.figure.Figure at 0x7f486958a898>"
            ]
          },
          "metadata": {
            "tags": []
          }
        },
        {
          "output_type": "display_data",
          "data": {
            "image/png": "[encoded data removed]",
            "text/plain": [
              "<matplotlib.figure.Figure at 0x7f4869617278>"
            ]
          },
          "metadata": {
            "tags": []
          }
        }
      ]
    }
  ]
}
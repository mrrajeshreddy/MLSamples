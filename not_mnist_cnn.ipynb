{
  "nbformat": 4,
  "nbformat_minor": 0,
  "metadata": {
    "colab": {
      "name": "not_mnist_cnn.ipynb",
      "version": "0.3.2",
      "views": {},
      "default_view": {},
      "provenance": [],
      "collapsed_sections": []
    },
    "kernelspec": {
      "display_name": "Python 3",
      "language": "python",
      "name": "python3"
    },
    "accelerator": "GPU"
  },
  "cells": [
    {
      "metadata": {
        "id": "6YiZA-2QWYhe",
        "colab_type": "text"
      },
      "cell_type": "markdown",
      "source": [
        "# Conv network for Not-MNIST classification"
      ]
    },
    {
      "metadata": {
        "id": "T_bb9M_HWYhf",
        "colab_type": "text"
      },
      "cell_type": "markdown",
      "source": [
        "Load not mnist data which is already cleaned.\n",
        "    Full dataset can be donloaded from http://yaroslavvb.blogspot.ie/2011/09/notmnist-dataset.html"
      ]
    },
    {
      "metadata": {
        "id": "J-97V2HSWYhi",
        "colab_type": "code",
        "colab": {
          "autoexec": {
            "startup": false,
            "wait_interval": 0
          }
        }
      },
      "cell_type": "code",
      "source": [
        "from __future__ import print_function\n",
        "import numpy as np\n",
        "import tensorflow as tf\n",
        "from six.moves import cPickle as pickle\n",
        "from six.moves import range"
      ],
      "execution_count": 0,
      "outputs": []
    },
    {
      "metadata": {
        "id": "F6abIdOpWhWv",
        "colab_type": "code",
        "colab": {
          "autoexec": {
            "startup": false,
            "wait_interval": 0
          }
        }
      },
      "cell_type": "code",
      "source": [
        "path = './drive/MachineLearning/'"
      ],
      "execution_count": 0,
      "outputs": []
    },
    {
      "metadata": {
        "id": "GuKBx7vZWYhs",
        "colab_type": "code",
        "colab": {
          "autoexec": {
            "startup": false,
            "wait_interval": 0
          },
          "output_extras": [
            {
              "item_id": 1
            }
          ],
          "base_uri": "https://localhost:8080/",
          "height": 67
        },
        "outputId": "3d885ae8-011e-479d-9f6a-3b380072c945",
        "executionInfo": {
          "status": "ok",
          "timestamp": 1520974702901,
          "user_tz": 0,
          "elapsed": 7264,
          "user": {
            "displayName": "Rajesh Reddy",
            "photoUrl": "https://lh3.googleusercontent.com/a/default-user=s128",
            "userId": "103144225072240607929"
          }
        }
      },
      "cell_type": "code",
      "source": [
        "pickle_file = path + 'Datasets/notMNIST.pickle'\n",
        "\n",
        "with open(pickle_file, 'rb') as f:\n",
        "  save = pickle.load(f)\n",
        "  train_dataset = save['train_dataset']\n",
        "  train_labels = save['train_labels']\n",
        "  valid_dataset = save['valid_dataset']\n",
        "  valid_labels = save['valid_labels']\n",
        "  test_dataset = save['test_dataset']\n",
        "  test_labels = save['test_labels']\n",
        "  del save  # hint to help gc free up memory\n",
        "  print('Training set', train_dataset.shape, train_labels.shape)\n",
        "  print('Validation set', valid_dataset.shape, valid_labels.shape)\n",
        "  print('Test set', test_dataset.shape, test_labels.shape)"
      ],
      "execution_count": 23,
      "outputs": [
        {
          "output_type": "stream",
          "text": [
            "Training set (200000, 28, 28) (200000,)\n",
            "Validation set (10000, 28, 28) (10000,)\n",
            "Test set (10000, 28, 28) (10000,)\n"
          ],
          "name": "stdout"
        }
      ]
    },
    {
      "metadata": {
        "id": "8D9ayUOQWYhy",
        "colab_type": "text"
      },
      "cell_type": "markdown",
      "source": [
        "Create Model"
      ]
    },
    {
      "metadata": {
        "id": "HLS0tA5qWYhz",
        "colab_type": "code",
        "colab": {
          "autoexec": {
            "startup": false,
            "wait_interval": 0
          }
        }
      },
      "cell_type": "code",
      "source": [
        "input_shape = (train_dataset.shape[1], train_dataset.shape[2], 1)\n",
        "num_classes = 10"
      ],
      "execution_count": 0,
      "outputs": []
    },
    {
      "metadata": {
        "id": "90fvN0PIWYh4",
        "colab_type": "code",
        "colab": {
          "autoexec": {
            "startup": false,
            "wait_interval": 0
          }
        }
      },
      "cell_type": "code",
      "source": [
        "from keras.layers import Conv2D, MaxPool2D, Activation, BatchNormalization, Dense, Flatten\n",
        "from keras.layers import ZeroPadding2D, Dropout, Input\n",
        "from keras.models import Model\n",
        "from keras import backend as K"
      ],
      "execution_count": 0,
      "outputs": []
    },
    {
      "metadata": {
        "id": "HZvXCzE2WYh7",
        "colab_type": "code",
        "colab": {
          "autoexec": {
            "startup": false,
            "wait_interval": 0
          }
        }
      },
      "cell_type": "code",
      "source": [
        "def build_model(X, num_classes=10):\n",
        "    Y = ZeroPadding2D(padding=(2,2))(X)\n",
        "    Y = BatchNormalization()(Y)\n",
        "    Y = Conv2D(32, (1,1), strides=(1,1), padding='valid', activation='relu')(Y)\n",
        "    Y = Conv2D(32, (3,3), strides=(1,1), padding='valid', activation='relu')(Y)\n",
        "    Y = Dropout(rate=0.2)(Y)\n",
        "    Y = BatchNormalization()(Y)\n",
        "    Y = Conv2D(64, (3,3), strides=(3,3), padding='valid', activation='relu')(Y)\n",
        "    Y = Conv2D(64, (3,3), strides=(3,3), padding='valid', activation='relu')(Y)\n",
        "    Y = Dropout(rate=0.5)(Y)\n",
        "    Y = Flatten()(Y)\n",
        "    Y = Dense(512, activation='relu')(Y)\n",
        "    Y = Dense(num_classes)(Y)\n",
        "    Y = Activation('softmax')(Y)\n",
        "    model = Model(inputs=X, outputs=Y)\n",
        "    return model"
      ],
      "execution_count": 0,
      "outputs": []
    },
    {
      "metadata": {
        "id": "sBcREm7aWYib",
        "colab_type": "code",
        "colab": {
          "autoexec": {
            "startup": false,
            "wait_interval": 0
          }
        }
      },
      "cell_type": "code",
      "source": [
        "K.clear_session()\n",
        "X = Input(shape=(input_shape))\n",
        "model = build_model(X)"
      ],
      "execution_count": 0,
      "outputs": []
    },
    {
      "metadata": {
        "id": "Vihn6QeeWYie",
        "colab_type": "code",
        "colab": {
          "autoexec": {
            "startup": false,
            "wait_interval": 0
          },
          "output_extras": [
            {
              "item_id": 1
            }
          ],
          "base_uri": "https://localhost:8080/",
          "height": 605
        },
        "outputId": "cc9f5f6c-3155-4afb-890f-42f4cb7cbb2d",
        "executionInfo": {
          "status": "ok",
          "timestamp": 1520974709312,
          "user_tz": 0,
          "elapsed": 484,
          "user": {
            "displayName": "Rajesh Reddy",
            "photoUrl": "https://lh3.googleusercontent.com/a/default-user=s128",
            "userId": "103144225072240607929"
          }
        }
      },
      "cell_type": "code",
      "source": [
        "model.summary()"
      ],
      "execution_count": 28,
      "outputs": [
        {
          "output_type": "stream",
          "text": [
            "_________________________________________________________________\n",
            "Layer (type)                 Output Shape              Param #   \n",
            "=================================================================\n",
            "input_1 (InputLayer)         (None, 28, 28, 1)         0         \n",
            "_________________________________________________________________\n",
            "zero_padding2d_1 (ZeroPaddin (None, 32, 32, 1)         0         \n",
            "_________________________________________________________________\n",
            "batch_normalization_1 (Batch (None, 32, 32, 1)         4         \n",
            "_________________________________________________________________\n",
            "conv2d_1 (Conv2D)            (None, 32, 32, 32)        64        \n",
            "_________________________________________________________________\n",
            "conv2d_2 (Conv2D)            (None, 30, 30, 32)        9248      \n",
            "_________________________________________________________________\n",
            "dropout_1 (Dropout)          (None, 30, 30, 32)        0         \n",
            "_________________________________________________________________\n",
            "batch_normalization_2 (Batch (None, 30, 30, 32)        128       \n",
            "_________________________________________________________________\n",
            "conv2d_3 (Conv2D)            (None, 10, 10, 64)        18496     \n",
            "_________________________________________________________________\n",
            "conv2d_4 (Conv2D)            (None, 3, 3, 64)          36928     \n",
            "_________________________________________________________________\n",
            "dropout_2 (Dropout)          (None, 3, 3, 64)          0         \n",
            "_________________________________________________________________\n",
            "flatten_1 (Flatten)          (None, 576)               0         \n",
            "_________________________________________________________________\n",
            "dense_1 (Dense)              (None, 512)               295424    \n",
            "_________________________________________________________________\n",
            "dense_2 (Dense)              (None, 10)                5130      \n",
            "_________________________________________________________________\n",
            "activation_1 (Activation)    (None, 10)                0         \n",
            "=================================================================\n",
            "Total params: 365,422\n",
            "Trainable params: 365,356\n",
            "Non-trainable params: 66\n",
            "_________________________________________________________________\n"
          ],
          "name": "stdout"
        }
      ]
    },
    {
      "metadata": {
        "id": "V16NfH5hWYij",
        "colab_type": "text"
      },
      "cell_type": "markdown",
      "source": [
        "Reshape and prepare data for training"
      ]
    },
    {
      "metadata": {
        "id": "v3B19XRwWYik",
        "colab_type": "code",
        "colab": {
          "autoexec": {
            "startup": false,
            "wait_interval": 0
          }
        }
      },
      "cell_type": "code",
      "source": [
        "train_dataset = train_dataset.reshape((train_dataset.shape[0], train_dataset.shape[1], train_dataset.shape[2], 1))\n",
        "valid_dataset = valid_dataset.reshape((valid_dataset.shape[0], valid_dataset.shape[1], valid_dataset.shape[2], 1))\n",
        "test_dataset = test_dataset.reshape((test_dataset.shape[0], test_dataset.shape[1], test_dataset.shape[2], 1)) "
      ],
      "execution_count": 0,
      "outputs": []
    },
    {
      "metadata": {
        "id": "YUlXGUtzWYip",
        "colab_type": "code",
        "colab": {
          "autoexec": {
            "startup": false,
            "wait_interval": 0
          }
        }
      },
      "cell_type": "code",
      "source": [
        "from keras.utils import to_categorical"
      ],
      "execution_count": 0,
      "outputs": []
    },
    {
      "metadata": {
        "id": "jd1e7iC6WYit",
        "colab_type": "code",
        "colab": {
          "autoexec": {
            "startup": false,
            "wait_interval": 0
          }
        }
      },
      "cell_type": "code",
      "source": [
        "train_labels = to_categorical(train_labels)\n",
        "valid_labels = to_categorical(valid_labels)\n",
        "test_labels = to_categorical(test_labels)"
      ],
      "execution_count": 0,
      "outputs": []
    },
    {
      "metadata": {
        "id": "tjS2IHWvWYi0",
        "colab_type": "text"
      },
      "cell_type": "markdown",
      "source": [
        "Create tensorboard callback"
      ]
    },
    {
      "metadata": {
        "id": "Lc_ibByKWYi2",
        "colab_type": "code",
        "colab": {
          "autoexec": {
            "startup": false,
            "wait_interval": 0
          }
        }
      },
      "cell_type": "code",
      "source": [
        "from keras import callbacks"
      ],
      "execution_count": 0,
      "outputs": []
    },
    {
      "metadata": {
        "id": "vCuuRo3_WYi9",
        "colab_type": "code",
        "colab": {
          "autoexec": {
            "startup": false,
            "wait_interval": 0
          }
        }
      },
      "cell_type": "code",
      "source": [
        "callback_dir = path + 'logs'\n",
        "callback = callbacks.TensorBoard(log_dir=callback_dir,\n",
        "                                 histogram_freq=0,\n",
        "                                 batch_size=32,\n",
        "                                 write_graph=False,\n",
        "                                 write_grads=True,\n",
        "                                 write_images=True,\n",
        "                                 embeddings_freq=0,\n",
        "                                 embeddings_layer_names=None,\n",
        "                                 embeddings_metadata=True)"
      ],
      "execution_count": 0,
      "outputs": []
    },
    {
      "metadata": {
        "id": "9Q7DMJSUWYjk",
        "colab_type": "text"
      },
      "cell_type": "markdown",
      "source": [
        "Start training"
      ]
    },
    {
      "metadata": {
        "id": "Lb0M73UlWYjs",
        "colab_type": "code",
        "colab": {
          "autoexec": {
            "startup": false,
            "wait_interval": 0
          }
        }
      },
      "cell_type": "code",
      "source": [
        "from keras.optimizers import Adam\n",
        "from keras.losses import categorical_crossentropy"
      ],
      "execution_count": 0,
      "outputs": []
    },
    {
      "metadata": {
        "id": "_QRS_UdYWYkJ",
        "colab_type": "code",
        "colab": {
          "autoexec": {
            "startup": false,
            "wait_interval": 0
          }
        }
      },
      "cell_type": "code",
      "source": [
        "model.compile(optimizer=Adam(),\n",
        "              loss=categorical_crossentropy,\n",
        "              metrics=['accuracy'])"
      ],
      "execution_count": 0,
      "outputs": []
    },
    {
      "metadata": {
        "id": "4LIMpiLaWYkO",
        "colab_type": "code",
        "colab": {
          "autoexec": {
            "startup": false,
            "wait_interval": 0
          },
          "output_extras": [
            {
              "item_id": 155
            },
            {
              "item_id": 255
            },
            {
              "item_id": 419
            },
            {
              "item_id": 445
            },
            {
              "item_id": 512
            },
            {
              "item_id": 600
            },
            {
              "item_id": 627
            },
            {
              "item_id": 694
            },
            {
              "item_id": 783
            },
            {
              "item_id": 809
            },
            {
              "item_id": 984
            },
            {
              "item_id": 1316
            },
            {
              "item_id": 1412
            },
            {
              "item_id": 1657
            },
            {
              "item_id": 1987
            },
            {
              "item_id": 2081
            },
            {
              "item_id": 2323
            },
            {
              "item_id": 2648
            },
            {
              "item_id": 2741
            },
            {
              "item_id": 2981
            },
            {
              "item_id": 3311
            },
            {
              "item_id": 3405
            },
            {
              "item_id": 3648
            },
            {
              "item_id": 3973
            },
            {
              "item_id": 4065
            },
            {
              "item_id": 4305
            },
            {
              "item_id": 4627
            },
            {
              "item_id": 4719
            },
            {
              "item_id": 4956
            },
            {
              "item_id": 5274
            },
            {
              "item_id": 5365
            },
            {
              "item_id": 5599
            },
            {
              "item_id": 5913
            },
            {
              "item_id": 6005
            },
            {
              "item_id": 6233
            },
            {
              "item_id": 6545
            },
            {
              "item_id": 6634
            },
            {
              "item_id": 6865
            },
            {
              "item_id": 7173
            },
            {
              "item_id": 7262
            },
            {
              "item_id": 7490
            },
            {
              "item_id": 7781
            },
            {
              "item_id": 7868
            },
            {
              "item_id": 8093
            },
            {
              "item_id": 8395
            },
            {
              "item_id": 8481
            },
            {
              "item_id": 8704
            },
            {
              "item_id": 8996
            },
            {
              "item_id": 9080
            },
            {
              "item_id": 9300
            },
            {
              "item_id": 9595
            },
            {
              "item_id": 9680
            },
            {
              "item_id": 9899
            },
            {
              "item_id": 10189
            },
            {
              "item_id": 10273
            },
            {
              "item_id": 10415
            },
            {
              "item_id": 10504
            },
            {
              "item_id": 10531
            },
            {
              "item_id": 10606
            },
            {
              "item_id": 10633
            },
            {
              "item_id": 10704
            },
            {
              "item_id": 10735
            },
            {
              "item_id": 10968
            },
            {
              "item_id": 11011
            },
            {
              "item_id": 11255
            },
            {
              "item_id": 11334
            },
            {
              "item_id": 11597
            },
            {
              "item_id": 11675
            },
            {
              "item_id": 11936
            },
            {
              "item_id": 12014
            },
            {
              "item_id": 12272
            },
            {
              "item_id": 12350
            },
            {
              "item_id": 12594
            },
            {
              "item_id": 12680
            },
            {
              "item_id": 12942
            },
            {
              "item_id": 13019
            },
            {
              "item_id": 13273
            },
            {
              "item_id": 13349
            },
            {
              "item_id": 13603
            },
            {
              "item_id": 13679
            },
            {
              "item_id": 13930
            },
            {
              "item_id": 13931
            }
          ],
          "base_uri": "https://localhost:8080/",
          "height": 1734
        },
        "outputId": "eed43fd3-fb58-468d-fd2e-c2e987efa675",
        "executionInfo": {
          "status": "ok",
          "timestamp": 1520979999965,
          "user_tz": 0,
          "elapsed": 4759562,
          "user": {
            "displayName": "Rajesh Reddy",
            "photoUrl": "https://lh3.googleusercontent.com/a/default-user=s128",
            "userId": "103144225072240607929"
          }
        }
      },
      "cell_type": "code",
      "source": [
        "history = model.fit(x=train_dataset,\n",
        "                    y=train_labels,\n",
        "                    batch_size=32,\n",
        "                    epochs=50,\n",
        "                    validation_data=[valid_dataset, valid_labels],\n",
        "                    callbacks=[callback])"
      ],
      "execution_count": 60,
      "outputs": [
        {
          "output_type": "stream",
          "text": [
            "Train on 200000 samples, validate on 10000 samples\n",
            "Epoch 1/50\n",
            " 85248/200000 [===========>..................] - ETA: 53s - loss: 0.5759 - acc: 0.8265"
          ],
          "name": "stdout"
        },
        {
          "output_type": "stream",
          "text": [
            "200000/200000 [==============================] - 91s 457us/step - loss: 0.4955 - acc: 0.8500 - val_loss: 0.3611 - val_acc: 0.8925\n",
            "Epoch 2/50\n",
            " 12544/200000 [>.............................] - ETA: 1:23 - loss: 0.4075 - acc: 0.8766"
          ],
          "name": "stdout"
        },
        {
          "output_type": "stream",
          "text": [
            "199936/200000 [============================>.] - ETA: 0s - loss: 0.3835 - acc: 0.8825"
          ],
          "name": "stdout"
        },
        {
          "output_type": "stream",
          "text": [
            "200000/200000 [==============================] - 89s 443us/step - loss: 0.3835 - acc: 0.8825 - val_loss: 0.3373 - val_acc: 0.8989\n",
            "Epoch 3/50\n",
            " 55712/200000 [=======>......................] - ETA: 1:03 - loss: 0.3567 - acc: 0.8894"
          ],
          "name": "stdout"
        },
        {
          "output_type": "stream",
          "text": [
            "200000/200000 [==============================] - 89s 446us/step - loss: 0.3526 - acc: 0.8914 - val_loss: 0.3239 - val_acc: 0.9070\n",
            "Epoch 4/50\n",
            "  1440/200000 [..............................] - ETA: 1:29 - loss: 0.3551 - acc: 0.8972"
          ],
          "name": "stdout"
        },
        {
          "output_type": "stream",
          "text": [
            "199872/200000 [============================>.] - ETA: 0s - loss: 0.3302 - acc: 0.8984"
          ],
          "name": "stdout"
        },
        {
          "output_type": "stream",
          "text": [
            "200000/200000 [==============================] - 90s 448us/step - loss: 0.3302 - acc: 0.8984 - val_loss: 0.2954 - val_acc: 0.9116\n",
            "Epoch 5/50\n",
            " 55744/200000 [=======>......................] - ETA: 1:04 - loss: 0.3133 - acc: 0.9033"
          ],
          "name": "stdout"
        },
        {
          "output_type": "stream",
          "text": [
            "200000/200000 [==============================] - 90s 448us/step - loss: 0.3168 - acc: 0.9021 - val_loss: 0.2875 - val_acc: 0.9115\n",
            "Epoch 6/50\n",
            "  1440/200000 [..............................] - ETA: 1:29 - loss: 0.3319 - acc: 0.9021"
          ],
          "name": "stdout"
        },
        {
          "output_type": "stream",
          "text": [
            "199904/200000 [============================>.] - ETA: 0s - loss: 0.3059 - acc: 0.9050"
          ],
          "name": "stdout"
        },
        {
          "output_type": "stream",
          "text": [
            "200000/200000 [==============================] - 89s 447us/step - loss: 0.3059 - acc: 0.9050 - val_loss: 0.2790 - val_acc: 0.9156\n",
            "Epoch 7/50\n",
            " 55712/200000 [=======>......................] - ETA: 1:03 - loss: 0.2954 - acc: 0.9092"
          ],
          "name": "stdout"
        },
        {
          "output_type": "stream",
          "text": [
            "200000/200000 [==============================] - 89s 445us/step - loss: 0.2975 - acc: 0.9079 - val_loss: 0.2904 - val_acc: 0.9146\n",
            "Epoch 8/50\n",
            "  1440/200000 [..............................] - ETA: 1:29 - loss: 0.2709 - acc: 0.9194"
          ],
          "name": "stdout"
        },
        {
          "output_type": "stream",
          "text": [
            "199872/200000 [============================>.] - ETA: 0s - loss: 0.2906 - acc: 0.9097"
          ],
          "name": "stdout"
        },
        {
          "output_type": "stream",
          "text": [
            "200000/200000 [==============================] - 89s 444us/step - loss: 0.2907 - acc: 0.9096 - val_loss: 0.3075 - val_acc: 0.9139\n",
            "Epoch 9/50\n",
            " 55680/200000 [=======>......................] - ETA: 1:03 - loss: 0.2787 - acc: 0.9132"
          ],
          "name": "stdout"
        },
        {
          "output_type": "stream",
          "text": [
            "200000/200000 [==============================] - 89s 446us/step - loss: 0.2832 - acc: 0.9116 - val_loss: 0.2730 - val_acc: 0.9195\n",
            "Epoch 10/50\n",
            "  1312/200000 [..............................] - ETA: 1:30 - loss: 0.2664 - acc: 0.9184"
          ],
          "name": "stdout"
        },
        {
          "output_type": "stream",
          "text": [
            "199904/200000 [============================>.] - ETA: 0s - loss: 0.2805 - acc: 0.9121"
          ],
          "name": "stdout"
        },
        {
          "output_type": "stream",
          "text": [
            "200000/200000 [==============================] - 89s 446us/step - loss: 0.2805 - acc: 0.9121 - val_loss: 0.2657 - val_acc: 0.9185\n",
            "Epoch 11/50\n",
            " 55520/200000 [=======>......................] - ETA: 1:03 - loss: 0.2716 - acc: 0.9145"
          ],
          "name": "stdout"
        },
        {
          "output_type": "stream",
          "text": [
            "200000/200000 [==============================] - 89s 445us/step - loss: 0.2767 - acc: 0.9134 - val_loss: 0.2652 - val_acc: 0.9200\n",
            "Epoch 12/50\n",
            "  1312/200000 [..............................] - ETA: 1:28 - loss: 0.3089 - acc: 0.9062"
          ],
          "name": "stdout"
        },
        {
          "output_type": "stream",
          "text": [
            "199968/200000 [============================>.] - ETA: 0s - loss: 0.2727 - acc: 0.9144"
          ],
          "name": "stdout"
        },
        {
          "output_type": "stream",
          "text": [
            "200000/200000 [==============================] - 89s 445us/step - loss: 0.2727 - acc: 0.9144 - val_loss: 0.2648 - val_acc: 0.9188\n",
            "Epoch 13/50\n",
            " 55584/200000 [=======>......................] - ETA: 1:03 - loss: 0.2635 - acc: 0.9161"
          ],
          "name": "stdout"
        },
        {
          "output_type": "stream",
          "text": [
            "200000/200000 [==============================] - 89s 445us/step - loss: 0.2690 - acc: 0.9160 - val_loss: 0.2683 - val_acc: 0.9208\n",
            "Epoch 14/50\n",
            "  1440/200000 [..............................] - ETA: 1:30 - loss: 0.2681 - acc: 0.9153"
          ],
          "name": "stdout"
        },
        {
          "output_type": "stream",
          "text": [
            "199872/200000 [============================>.] - ETA: 0s - loss: 0.2665 - acc: 0.9165"
          ],
          "name": "stdout"
        },
        {
          "output_type": "stream",
          "text": [
            "200000/200000 [==============================] - 91s 456us/step - loss: 0.2665 - acc: 0.9165 - val_loss: 0.2910 - val_acc: 0.9158\n",
            "Epoch 15/50\n",
            " 55360/200000 [=======>......................] - ETA: 1:05 - loss: 0.2594 - acc: 0.9177"
          ],
          "name": "stdout"
        },
        {
          "output_type": "stream",
          "text": [
            "200000/200000 [==============================] - 91s 456us/step - loss: 0.2635 - acc: 0.9168 - val_loss: 0.2924 - val_acc: 0.9164\n",
            "Epoch 16/50\n",
            "  1056/200000 [..............................] - ETA: 1:32 - loss: 0.2713 - acc: 0.9119"
          ],
          "name": "stdout"
        },
        {
          "output_type": "stream",
          "text": [
            "199968/200000 [============================>.] - ETA: 0s - loss: 0.2615 - acc: 0.9175"
          ],
          "name": "stdout"
        },
        {
          "output_type": "stream",
          "text": [
            "200000/200000 [==============================] - 91s 454us/step - loss: 0.2615 - acc: 0.9175 - val_loss: 0.2553 - val_acc: 0.9225\n",
            "Epoch 17/50\n",
            " 55456/200000 [=======>......................] - ETA: 1:04 - loss: 0.2512 - acc: 0.9211"
          ],
          "name": "stdout"
        },
        {
          "output_type": "stream",
          "text": [
            "200000/200000 [==============================] - 91s 454us/step - loss: 0.2587 - acc: 0.9185 - val_loss: 0.2639 - val_acc: 0.9218\n",
            "Epoch 18/50\n",
            "  1184/200000 [..............................] - ETA: 1:31 - loss: 0.2503 - acc: 0.9215"
          ],
          "name": "stdout"
        },
        {
          "output_type": "stream",
          "text": [
            "199904/200000 [============================>.] - ETA: 0s - loss: 0.2576 - acc: 0.9186"
          ],
          "name": "stdout"
        },
        {
          "output_type": "stream",
          "text": [
            "200000/200000 [==============================] - 91s 456us/step - loss: 0.2576 - acc: 0.9186 - val_loss: 0.2719 - val_acc: 0.9197\n",
            "Epoch 19/50\n",
            " 55488/200000 [=======>......................] - ETA: 1:04 - loss: 0.2510 - acc: 0.9209"
          ],
          "name": "stdout"
        },
        {
          "output_type": "stream",
          "text": [
            "200000/200000 [==============================] - 91s 454us/step - loss: 0.2565 - acc: 0.9196 - val_loss: 0.2539 - val_acc: 0.9241\n",
            "Epoch 20/50\n",
            "  1280/200000 [..............................] - ETA: 1:32 - loss: 0.2700 - acc: 0.9133"
          ],
          "name": "stdout"
        },
        {
          "output_type": "stream",
          "text": [
            "199968/200000 [============================>.] - ETA: 0s - loss: 0.2540 - acc: 0.9202"
          ],
          "name": "stdout"
        },
        {
          "output_type": "stream",
          "text": [
            "200000/200000 [==============================] - 91s 454us/step - loss: 0.2540 - acc: 0.9202 - val_loss: 0.2727 - val_acc: 0.9184\n",
            "Epoch 21/50\n",
            " 55392/200000 [=======>......................] - ETA: 1:04 - loss: 0.2476 - acc: 0.9214"
          ],
          "name": "stdout"
        },
        {
          "output_type": "stream",
          "text": [
            "200000/200000 [==============================] - 91s 454us/step - loss: 0.2533 - acc: 0.9203 - val_loss: 0.2533 - val_acc: 0.9244\n",
            "Epoch 22/50\n",
            "  1152/200000 [..............................] - ETA: 1:31 - loss: 0.2192 - acc: 0.9358"
          ],
          "name": "stdout"
        },
        {
          "output_type": "stream",
          "text": [
            "199968/200000 [============================>.] - ETA: 0s - loss: 0.2517 - acc: 0.9207"
          ],
          "name": "stdout"
        },
        {
          "output_type": "stream",
          "text": [
            "200000/200000 [==============================] - 91s 454us/step - loss: 0.2517 - acc: 0.9207 - val_loss: 0.2591 - val_acc: 0.9210\n",
            "Epoch 23/50\n",
            " 54912/200000 [=======>......................] - ETA: 1:07 - loss: 0.2387 - acc: 0.9250"
          ],
          "name": "stdout"
        },
        {
          "output_type": "stream",
          "text": [
            "200000/200000 [==============================] - 92s 459us/step - loss: 0.2495 - acc: 0.9210 - val_loss: 0.2564 - val_acc: 0.9234\n",
            "Epoch 24/50\n",
            "   928/200000 [..............................] - ETA: 1:32 - loss: 0.3378 - acc: 0.8944"
          ],
          "name": "stdout"
        },
        {
          "output_type": "stream",
          "text": [
            "199936/200000 [============================>.] - ETA: 0s - loss: 0.2473 - acc: 0.9217"
          ],
          "name": "stdout"
        },
        {
          "output_type": "stream",
          "text": [
            "200000/200000 [==============================] - 91s 455us/step - loss: 0.2473 - acc: 0.9217 - val_loss: 0.2557 - val_acc: 0.9218\n",
            "Epoch 25/50\n",
            " 55328/200000 [=======>......................] - ETA: 1:05 - loss: 0.2406 - acc: 0.9239"
          ],
          "name": "stdout"
        },
        {
          "output_type": "stream",
          "text": [
            "200000/200000 [==============================] - 91s 456us/step - loss: 0.2483 - acc: 0.9217 - val_loss: 0.2551 - val_acc: 0.9240\n",
            "Epoch 26/50\n",
            "  1184/200000 [..............................] - ETA: 1:31 - loss: 0.2442 - acc: 0.9223"
          ],
          "name": "stdout"
        },
        {
          "output_type": "stream",
          "text": [
            "199904/200000 [============================>.] - ETA: 0s - loss: 0.2446 - acc: 0.9227"
          ],
          "name": "stdout"
        },
        {
          "output_type": "stream",
          "text": [
            "200000/200000 [==============================] - 91s 455us/step - loss: 0.2446 - acc: 0.9227 - val_loss: 0.2557 - val_acc: 0.9222\n",
            "Epoch 27/50\n",
            " 55424/200000 [=======>......................] - ETA: 1:05 - loss: 0.2383 - acc: 0.9253"
          ],
          "name": "stdout"
        },
        {
          "output_type": "stream",
          "text": [
            "200000/200000 [==============================] - 91s 455us/step - loss: 0.2429 - acc: 0.9233 - val_loss: 0.2587 - val_acc: 0.9215\n",
            "Epoch 28/50\n",
            "  1184/200000 [..............................] - ETA: 1:29 - loss: 0.2412 - acc: 0.9231"
          ],
          "name": "stdout"
        },
        {
          "output_type": "stream",
          "text": [
            "199968/200000 [============================>.] - ETA: 0s - loss: 0.2437 - acc: 0.9238"
          ],
          "name": "stdout"
        },
        {
          "output_type": "stream",
          "text": [
            "200000/200000 [==============================] - 91s 454us/step - loss: 0.2437 - acc: 0.9238 - val_loss: 0.2585 - val_acc: 0.9212\n",
            "Epoch 29/50\n",
            " 55360/200000 [=======>......................] - ETA: 1:05 - loss: 0.2351 - acc: 0.9259"
          ],
          "name": "stdout"
        },
        {
          "output_type": "stream",
          "text": [
            "200000/200000 [==============================] - 91s 455us/step - loss: 0.2426 - acc: 0.9231 - val_loss: 0.2600 - val_acc: 0.9203\n",
            "Epoch 30/50\n",
            "  1152/200000 [..............................] - ETA: 1:33 - loss: 0.2385 - acc: 0.9323"
          ],
          "name": "stdout"
        },
        {
          "output_type": "stream",
          "text": [
            "199968/200000 [============================>.] - ETA: 0s - loss: 0.2420 - acc: 0.9237"
          ],
          "name": "stdout"
        },
        {
          "output_type": "stream",
          "text": [
            "200000/200000 [==============================] - 91s 454us/step - loss: 0.2420 - acc: 0.9236 - val_loss: 0.2629 - val_acc: 0.9223\n",
            "Epoch 31/50\n",
            " 55424/200000 [=======>......................] - ETA: 1:05 - loss: 0.2368 - acc: 0.9263"
          ],
          "name": "stdout"
        },
        {
          "output_type": "stream",
          "text": [
            "200000/200000 [==============================] - 91s 456us/step - loss: 0.2411 - acc: 0.9242 - val_loss: 0.2612 - val_acc: 0.9213\n",
            "Epoch 32/50\n",
            "  1312/200000 [..............................] - ETA: 1:30 - loss: 0.2239 - acc: 0.9268"
          ],
          "name": "stdout"
        },
        {
          "output_type": "stream",
          "text": [
            "199904/200000 [============================>.] - ETA: 0s - loss: 0.2396 - acc: 0.9248"
          ],
          "name": "stdout"
        },
        {
          "output_type": "stream",
          "text": [
            "200000/200000 [==============================] - 91s 454us/step - loss: 0.2396 - acc: 0.9248 - val_loss: 0.2546 - val_acc: 0.9219\n",
            "Epoch 33/50\n",
            " 55424/200000 [=======>......................] - ETA: 1:04 - loss: 0.2301 - acc: 0.9273"
          ],
          "name": "stdout"
        },
        {
          "output_type": "stream",
          "text": [
            "200000/200000 [==============================] - 91s 454us/step - loss: 0.2402 - acc: 0.9245 - val_loss: 0.2523 - val_acc: 0.9246\n",
            "Epoch 34/50\n",
            "  1184/200000 [..............................] - ETA: 1:30 - loss: 0.2280 - acc: 0.9282"
          ],
          "name": "stdout"
        },
        {
          "output_type": "stream",
          "text": [
            "199968/200000 [============================>.] - ETA: 0s - loss: 0.2384 - acc: 0.9246"
          ],
          "name": "stdout"
        },
        {
          "output_type": "stream",
          "text": [
            "200000/200000 [==============================] - 91s 454us/step - loss: 0.2384 - acc: 0.9246 - val_loss: 0.2474 - val_acc: 0.9251\n",
            "Epoch 35/50\n",
            " 55424/200000 [=======>......................] - ETA: 1:04 - loss: 0.2346 - acc: 0.9254"
          ],
          "name": "stdout"
        },
        {
          "output_type": "stream",
          "text": [
            "200000/200000 [==============================] - 91s 454us/step - loss: 0.2386 - acc: 0.9244 - val_loss: 0.2770 - val_acc: 0.9202\n",
            "Epoch 36/50\n",
            "  1312/200000 [..............................] - ETA: 1:31 - loss: 0.2333 - acc: 0.9253"
          ],
          "name": "stdout"
        },
        {
          "output_type": "stream",
          "text": [
            "199872/200000 [============================>.] - ETA: 0s - loss: 0.2369 - acc: 0.9250"
          ],
          "name": "stdout"
        },
        {
          "output_type": "stream",
          "text": [
            "200000/200000 [==============================] - 90s 452us/step - loss: 0.2369 - acc: 0.9251 - val_loss: 0.2579 - val_acc: 0.9223\n",
            "Epoch 37/50\n",
            " 55488/200000 [=======>......................] - ETA: 1:04 - loss: 0.2321 - acc: 0.9268"
          ],
          "name": "stdout"
        },
        {
          "output_type": "stream",
          "text": [
            "200000/200000 [==============================] - 91s 453us/step - loss: 0.2368 - acc: 0.9250 - val_loss: 0.2541 - val_acc: 0.9235\n",
            "Epoch 38/50\n",
            "  1312/200000 [..............................] - ETA: 1:31 - loss: 0.1862 - acc: 0.9383"
          ],
          "name": "stdout"
        },
        {
          "output_type": "stream",
          "text": [
            "199936/200000 [============================>.] - ETA: 0s - loss: 0.2360 - acc: 0.9258"
          ],
          "name": "stdout"
        },
        {
          "output_type": "stream",
          "text": [
            "200000/200000 [==============================] - 91s 455us/step - loss: 0.2360 - acc: 0.9258 - val_loss: 0.2521 - val_acc: 0.9234\n",
            "Epoch 39/50\n",
            " 53728/200000 [=======>......................] - ETA: 1:09 - loss: 0.2278 - acc: 0.9283"
          ],
          "name": "stdout"
        },
        {
          "output_type": "stream",
          "text": [
            "199936/200000 [============================>.] - ETA: 0s - loss: 0.2330 - acc: 0.9265"
          ],
          "name": "stdout"
        },
        {
          "output_type": "stream",
          "text": [
            "200000/200000 [==============================] - 101s 503us/step - loss: 0.2331 - acc: 0.9265 - val_loss: 0.2508 - val_acc: 0.9238\n",
            "Epoch 40/50\n",
            " 51104/200000 [======>.......................] - ETA: 1:15 - loss: 0.2287 - acc: 0.9277"
          ],
          "name": "stdout"
        },
        {
          "output_type": "stream",
          "text": [
            "186848/200000 [===========================>..] - ETA: 6s - loss: 0.2328 - acc: 0.9264"
          ],
          "name": "stdout"
        },
        {
          "output_type": "stream",
          "text": [
            "200000/200000 [==============================] - 105s 523us/step - loss: 0.2334 - acc: 0.9263 - val_loss: 0.2546 - val_acc: 0.9243\n",
            "Epoch 41/50\n",
            " 39328/200000 [====>.........................] - ETA: 1:27 - loss: 0.2314 - acc: 0.9270"
          ],
          "name": "stdout"
        },
        {
          "output_type": "stream",
          "text": [
            "199904/200000 [============================>.] - ETA: 0s - loss: 0.2324 - acc: 0.9270"
          ],
          "name": "stdout"
        },
        {
          "output_type": "stream",
          "text": [
            "200000/200000 [==============================] - 110s 551us/step - loss: 0.2324 - acc: 0.9270 - val_loss: 0.2531 - val_acc: 0.9236\n",
            "Epoch 42/50\n",
            " 45856/200000 [=====>........................] - ETA: 1:22 - loss: 0.2279 - acc: 0.9271"
          ],
          "name": "stdout"
        },
        {
          "output_type": "stream",
          "text": [
            "199968/200000 [============================>.] - ETA: 0s - loss: 0.2339 - acc: 0.9261"
          ],
          "name": "stdout"
        },
        {
          "output_type": "stream",
          "text": [
            "200000/200000 [==============================] - 108s 541us/step - loss: 0.2339 - acc: 0.9261 - val_loss: 0.2581 - val_acc: 0.9222\n",
            "Epoch 43/50\n",
            " 45152/200000 [=====>........................] - ETA: 1:23 - loss: 0.2256 - acc: 0.9286"
          ],
          "name": "stdout"
        },
        {
          "output_type": "stream",
          "text": [
            "199904/200000 [============================>.] - ETA: 0s - loss: 0.2315 - acc: 0.9273"
          ],
          "name": "stdout"
        },
        {
          "output_type": "stream",
          "text": [
            "200000/200000 [==============================] - 109s 544us/step - loss: 0.2315 - acc: 0.9273 - val_loss: 0.2568 - val_acc: 0.9235\n",
            "Epoch 44/50\n",
            " 44992/200000 [=====>........................] - ETA: 1:23 - loss: 0.2223 - acc: 0.9297"
          ],
          "name": "stdout"
        },
        {
          "output_type": "stream",
          "text": [
            "199936/200000 [============================>.] - ETA: 0s - loss: 0.2313 - acc: 0.9266"
          ],
          "name": "stdout"
        },
        {
          "output_type": "stream",
          "text": [
            "200000/200000 [==============================] - 109s 543us/step - loss: 0.2313 - acc: 0.9266 - val_loss: 0.2538 - val_acc: 0.9227\n",
            "Epoch 45/50\n",
            " 45504/200000 [=====>........................] - ETA: 1:22 - loss: 0.2218 - acc: 0.9303"
          ],
          "name": "stdout"
        },
        {
          "output_type": "stream",
          "text": [
            "199936/200000 [============================>.] - ETA: 0s - loss: 0.2320 - acc: 0.9266"
          ],
          "name": "stdout"
        },
        {
          "output_type": "stream",
          "text": [
            "200000/200000 [==============================] - 109s 543us/step - loss: 0.2320 - acc: 0.9266 - val_loss: 0.2490 - val_acc: 0.9234\n",
            "Epoch 46/50\n",
            " 44992/200000 [=====>........................] - ETA: 1:23 - loss: 0.2260 - acc: 0.9293"
          ],
          "name": "stdout"
        },
        {
          "output_type": "stream",
          "text": [
            "192160/200000 [===========================>..] - ETA: 4s - loss: 0.2302 - acc: 0.9273"
          ],
          "name": "stdout"
        },
        {
          "output_type": "stream",
          "text": [
            "200000/200000 [==============================] - 108s 542us/step - loss: 0.2307 - acc: 0.9272 - val_loss: 0.2581 - val_acc: 0.9229\n",
            "Epoch 47/50\n",
            " 41888/200000 [=====>........................] - ETA: 1:25 - loss: 0.2210 - acc: 0.9303"
          ],
          "name": "stdout"
        },
        {
          "output_type": "stream",
          "text": [
            "199968/200000 [============================>.] - ETA: 0s - loss: 0.2305 - acc: 0.9275"
          ],
          "name": "stdout"
        },
        {
          "output_type": "stream",
          "text": [
            "200000/200000 [==============================] - 109s 543us/step - loss: 0.2305 - acc: 0.9275 - val_loss: 0.2530 - val_acc: 0.9225\n",
            "Epoch 48/50\n",
            " 45184/200000 [=====>........................] - ETA: 1:23 - loss: 0.2254 - acc: 0.9287"
          ],
          "name": "stdout"
        },
        {
          "output_type": "stream",
          "text": [
            "199904/200000 [============================>.] - ETA: 0s - loss: 0.2293 - acc: 0.9275"
          ],
          "name": "stdout"
        },
        {
          "output_type": "stream",
          "text": [
            "200000/200000 [==============================] - 109s 544us/step - loss: 0.2293 - acc: 0.9275 - val_loss: 0.2551 - val_acc: 0.9236\n",
            "Epoch 49/50\n",
            " 45088/200000 [=====>........................] - ETA: 1:23 - loss: 0.2256 - acc: 0.9292"
          ],
          "name": "stdout"
        },
        {
          "output_type": "stream",
          "text": [
            "199936/200000 [============================>.] - ETA: 0s - loss: 0.2290 - acc: 0.9279"
          ],
          "name": "stdout"
        },
        {
          "output_type": "stream",
          "text": [
            "200000/200000 [==============================] - 109s 544us/step - loss: 0.2289 - acc: 0.9279 - val_loss: 0.2495 - val_acc: 0.9252\n",
            "Epoch 50/50\n",
            " 45216/200000 [=====>........................] - ETA: 1:22 - loss: 0.2173 - acc: 0.9316"
          ],
          "name": "stdout"
        },
        {
          "output_type": "stream",
          "text": [
            "199904/200000 [============================>.] - ETA: 0s - loss: 0.2278 - acc: 0.9284"
          ],
          "name": "stdout"
        },
        {
          "output_type": "stream",
          "text": [
            "\b\b\b\b\b\b\b\b\b\b\b\b\b\b\b\b\b\b\b\b\b\b\b\b\b\b\b\b\b\b\b\b\b\b\b\b\b\b\b\b\b\b\b\b\b\b\b\b\b\b\b\b\b\b\b\b\b\b\b\b\b\b\b\b\b\b\b\b\b\b\b\b\b\b\b\b\b\b\b\b\b\b\b\b\b\r200000/200000 [==============================] - 109s 544us/step - loss: 0.2278 - acc: 0.9284 - val_loss: 0.2561 - val_acc: 0.9210\n"
          ],
          "name": "stdout"
        }
      ]
    },
    {
      "metadata": {
        "id": "BhIFiq1apGg4",
        "colab_type": "text"
      },
      "cell_type": "markdown",
      "source": [
        "Save Model"
      ]
    },
    {
      "metadata": {
        "id": "S3oW0uWBWYkd",
        "colab_type": "code",
        "colab": {
          "autoexec": {
            "startup": false,
            "wait_interval": 0
          }
        }
      },
      "cell_type": "code",
      "source": [
        "save_path = path + 'models/not_mnist_cnn_2.hdf5'\n",
        "model.save(save_path, include_optimizer=True)"
      ],
      "execution_count": 0,
      "outputs": []
    },
    {
      "metadata": {
        "id": "bwzW9uR3pHoH",
        "colab_type": "text"
      },
      "cell_type": "markdown",
      "source": [
        "Plot history"
      ]
    },
    {
      "metadata": {
        "id": "klIOpKJtpL3C",
        "colab_type": "code",
        "colab": {
          "autoexec": {
            "startup": false,
            "wait_interval": 0
          }
        }
      },
      "cell_type": "code",
      "source": [
        "import matplotlib.pyplot as plt"
      ],
      "execution_count": 0,
      "outputs": []
    },
    {
      "metadata": {
        "id": "uiTdzItco8A9",
        "colab_type": "code",
        "colab": {
          "autoexec": {
            "startup": false,
            "wait_interval": 0
          },
          "output_extras": [
            {
              "item_id": 1
            },
            {
              "item_id": 2
            },
            {
              "item_id": 3
            }
          ],
          "base_uri": "https://localhost:8080/",
          "height": 752
        },
        "outputId": "54133ebd-9be1-4219-9a85-05d3db4f0a8f",
        "executionInfo": {
          "status": "ok",
          "timestamp": 1520980006398,
          "user_tz": 0,
          "elapsed": 1075,
          "user": {
            "displayName": "Rajesh Reddy",
            "photoUrl": "https://lh3.googleusercontent.com/a/default-user=s128",
            "userId": "103144225072240607929"
          }
        }
      },
      "cell_type": "code",
      "source": [
        "# Plot the graph\n",
        "print(history.history.keys())\n",
        "plt.plot(history.history['acc'])\n",
        "plt.plot(history.history['val_acc'])\n",
        "plt.title('model accuracy')\n",
        "plt.ylabel('accuracy')\n",
        "plt.xlabel('epoch')\n",
        "plt.legend(['train', 'test'], loc='upper left')\n",
        "plt.show()\n",
        "# summarize history for loss\n",
        "plt.plot(history.history['loss'])\n",
        "plt.plot(history.history['val_loss'])\n",
        "plt.title('model loss')\n",
        "plt.ylabel('loss')\n",
        "plt.xlabel('epoch')\n",
        "plt.legend(['train', 'test'], loc='upper left')\n",
        "plt.show()"
      ],
      "execution_count": 63,
      "outputs": [
        {
          "output_type": "stream",
          "text": [
            "dict_keys(['val_loss', 'val_acc', 'loss', 'acc'])\n"
          ],
          "name": "stdout"
        },
        {
          "output_type": "display_data",
          "data": {
            "image/png": "[encoded data removed]",
            "text/plain": [
              "<matplotlib.figure.Figure at 0x7fdfea260c88>"
            ]
          },
          "metadata": {
            "tags": []
          }
        },
        {
          "output_type": "display_data",
          "data": {
            "image/png": "[encoded data removed]",
            "text/plain": [
              "<matplotlib.figure.Figure at 0x7fdfe882cf28>"
            ]
          },
          "metadata": {
            "tags": []
          }
        }
      ]
    },
    {
      "metadata": {
        "id": "BzHzYdjgpU4b",
        "colab_type": "text"
      },
      "cell_type": "markdown",
      "source": [
        "Test accuracy"
      ]
    },
    {
      "metadata": {
        "id": "JvAqzamhpKbl",
        "colab_type": "code",
        "colab": {
          "autoexec": {
            "startup": false,
            "wait_interval": 0
          },
          "output_extras": [
            {
              "item_id": 7
            },
            {
              "item_id": 8
            }
          ],
          "base_uri": "https://localhost:8080/",
          "height": 51
        },
        "outputId": "5a3e4aaa-8f72-4b12-e981-92c55448eb8c",
        "executionInfo": {
          "status": "ok",
          "timestamp": 1520980505579,
          "user_tz": 0,
          "elapsed": 1839,
          "user": {
            "displayName": "Rajesh Reddy",
            "photoUrl": "https://lh3.googleusercontent.com/a/default-user=s128",
            "userId": "103144225072240607929"
          }
        }
      },
      "cell_type": "code",
      "source": [
        "model.evaluate(test_dataset, test_labels)"
      ],
      "execution_count": 64,
      "outputs": [
        {
          "output_type": "stream",
          "text": [
            "10000/10000 [==============================] - 2s 153us/step\n"
          ],
          "name": "stdout"
        },
        {
          "output_type": "execute_result",
          "data": {
            "text/plain": [
              "[0.10710327399279922, 0.9687]"
            ]
          },
          "metadata": {
            "tags": []
          },
          "execution_count": 64
        }
      ]
    },
    {
      "metadata": {
        "id": "ObORLXz2gKyB",
        "colab_type": "code",
        "colab": {
          "autoexec": {
            "startup": false,
            "wait_interval": 0
          },
          "output_extras": [
            {
              "item_id": 1
            }
          ],
          "base_uri": "https://localhost:8080/",
          "height": 252
        },
        "outputId": "e0bea731-fb32-4395-d138-cefa06cf4137",
        "executionInfo": {
          "status": "ok",
          "timestamp": 1520983265929,
          "user_tz": 0,
          "elapsed": 510,
          "user": {
            "displayName": "Rajesh Reddy",
            "photoUrl": "https://lh3.googleusercontent.com/a/default-user=s128",
            "userId": "103144225072240607929"
          }
        }
      },
      "cell_type": "code",
      "source": [
        "layers_dict = dict([layer.name, layer] for layer in model.layers)\n",
        "layers_dict"
      ],
      "execution_count": 153,
      "outputs": [
        {
          "output_type": "execute_result",
          "data": {
            "text/plain": [
              "{'activation_1': <keras.layers.core.Activation at 0x7fdff3967b38>,\n",
              " 'batch_normalization_1': <keras.layers.normalization.BatchNormalization at 0x7fdff44f1cf8>,\n",
              " 'batch_normalization_2': <keras.layers.normalization.BatchNormalization at 0x7fdff3b6e390>,\n",
              " 'conv2d_1': <keras.layers.convolutional.Conv2D at 0x7fdff4433da0>,\n",
              " 'conv2d_2': <keras.layers.convolutional.Conv2D at 0x7fdff4510f98>,\n",
              " 'conv2d_3': <keras.layers.convolutional.Conv2D at 0x7fdff3b5e5c0>,\n",
              " 'conv2d_4': <keras.layers.convolutional.Conv2D at 0x7fdff3b15588>,\n",
              " 'dense_1': <keras.layers.core.Dense at 0x7fdff3a08780>,\n",
              " 'dense_2': <keras.layers.core.Dense at 0x7fdff39d1e48>,\n",
              " 'dropout_1': <keras.layers.core.Dropout at 0x7fdff3bf64a8>,\n",
              " 'dropout_2': <keras.layers.core.Dropout at 0x7fdff3a81eb8>,\n",
              " 'flatten_1': <keras.layers.core.Flatten at 0x7fdff39dc208>,\n",
              " 'input_1': <keras.engine.topology.InputLayer at 0x7fdff45115c0>,\n",
              " 'zero_padding2d_1': <keras.layers.convolutional.ZeroPadding2D at 0x7fdff4511748>}"
            ]
          },
          "metadata": {
            "tags": []
          },
          "execution_count": 153
        }
      ]
    },
    {
      "metadata": {
        "id": "-t1kEeI0g1az",
        "colab_type": "code",
        "colab": {
          "autoexec": {
            "startup": false,
            "wait_interval": 0
          }
        }
      },
      "cell_type": "code",
      "source": [
        "layer_output = layers_dict['batch_normalization_1'].output"
      ],
      "execution_count": 0,
      "outputs": []
    },
    {
      "metadata": {
        "id": "SBL1c2cag-dZ",
        "colab_type": "code",
        "colab": {
          "autoexec": {
            "startup": false,
            "wait_interval": 0
          }
        }
      },
      "cell_type": "code",
      "source": [
        "input_img = model.input\n",
        "iterate = K.function([input_img],\n",
        "                     [layers_dict['batch_normalization_1'].output,\n",
        "                      layers_dict['zero_padding2d_1'].output])"
      ],
      "execution_count": 0,
      "outputs": []
    },
    {
      "metadata": {
        "id": "GyPNYOMlomgi",
        "colab_type": "code",
        "colab": {
          "autoexec": {
            "startup": false,
            "wait_interval": 0
          }
        }
      },
      "cell_type": "code",
      "source": [
        "input_image_data = train_dataset[500]\n",
        "input_image_data = input_image_data.reshape((1,28,28,1))"
      ],
      "execution_count": 0,
      "outputs": []
    },
    {
      "metadata": {
        "id": "v53PE5E1o3Dq",
        "colab_type": "code",
        "colab": {
          "autoexec": {
            "startup": false,
            "wait_interval": 0
          },
          "output_extras": [
            {
              "item_id": 1
            }
          ],
          "base_uri": "https://localhost:8080/",
          "height": 34
        },
        "outputId": "1807ed10-8536-4d69-a328-b1d0c7ce66e1",
        "executionInfo": {
          "status": "ok",
          "timestamp": 1520984074198,
          "user_tz": 0,
          "elapsed": 1168,
          "user": {
            "displayName": "Rajesh Reddy",
            "photoUrl": "https://lh3.googleusercontent.com/a/default-user=s128",
            "userId": "103144225072240607929"
          }
        }
      },
      "cell_type": "code",
      "source": [
        "output_dtls1, output_dtls2 = np.array(iterate([input_image_data]))\n",
        "output_dtls1.shape"
      ],
      "execution_count": 221,
      "outputs": [
        {
          "output_type": "execute_result",
          "data": {
            "text/plain": [
              "(1, 32, 32, 1)"
            ]
          },
          "metadata": {
            "tags": []
          },
          "execution_count": 221
        }
      ]
    },
    {
      "metadata": {
        "id": "oHlBti9in1PH",
        "colab_type": "code",
        "colab": {
          "autoexec": {
            "startup": false,
            "wait_interval": 0
          },
          "output_extras": [
            {
              "item_id": 1
            }
          ],
          "base_uri": "https://localhost:8080/",
          "height": 117
        },
        "outputId": "abf43990-4e6f-44f2-d111-2d24ac61197c",
        "executionInfo": {
          "status": "ok",
          "timestamp": 1520984239712,
          "user_tz": 0,
          "elapsed": 513,
          "user": {
            "displayName": "Rajesh Reddy",
            "photoUrl": "https://lh3.googleusercontent.com/a/default-user=s128",
            "userId": "103144225072240607929"
          }
        }
      },
      "cell_type": "code",
      "source": [
        "fig = plt.figure(figsize=(4,4))\n",
        "fig.add_subplot(1, 3, 1)\n",
        "plt.imshow(train_dataset[500, :, :, 0])\n",
        "fig.add_subplot(1, 3, 2)\n",
        "plt.imshow(output_dtls1[0, :, :, 0])\n",
        "fig.add_subplot(1, 3, 3)\n",
        "plt.imshow(output_dtls2[0, :, :, 0])\n",
        "plt.axis('off')\n",
        "fig.subplots_adjust(hspace=0.5)\n",
        "plt.show()"
      ],
      "execution_count": 228,
      "outputs": [
        {
          "output_type": "display_data",
          "data": {
            "image/png": "[encoded data removed]",
            "text/plain": [
              "<matplotlib.figure.Figure at 0x7fdfe5405550>"
            ]
          },
          "metadata": {
            "tags": []
          }
        }
      ]
    }
  ]
}
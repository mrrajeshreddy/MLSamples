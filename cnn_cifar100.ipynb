{
  "nbformat": 4,
  "nbformat_minor": 0,
  "metadata": {
    "colab": {
      "name": "cnn_cifar100.ipynb",
      "version": "0.3.2",
      "views": {},
      "default_view": {},
      "provenance": [],
      "collapsed_sections": []
    },
    "kernelspec": {
      "name": "python3",
      "display_name": "Python 3"
    },
    "accelerator": "GPU"
  },
  "cells": [
    {
      "metadata": {
        "id": "Tgw-IieDjlSg",
        "colab_type": "text"
      },
      "cell_type": "markdown",
      "source": [
        "# Conv NN to classify CIFAR-100 images\n",
        "Dataset of 50,000 32x32 color training images, labeled over 100 categories, and 10,000 test images."
      ]
    },
    {
      "metadata": {
        "id": "On9-4ALpcXZk",
        "colab_type": "code",
        "colab": {
          "autoexec": {
            "startup": false,
            "wait_interval": 0
          },
          "output_extras": [
            {
              "item_id": 4
            }
          ],
          "base_uri": "https://localhost:8080/",
          "height": 168
        },
        "outputId": "14a13fff-8cc4-4e7b-d48d-33569286bcc3",
        "executionInfo": {
          "status": "ok",
          "timestamp": 1519894275182,
          "user_tz": 0,
          "elapsed": 2690,
          "user": {
            "displayName": "Rajesh Reddy",
            "photoUrl": "//lh3.googleusercontent.com/-Cw04_nciGC0/AAAAAAAAAAI/AAAAAAABD-0/wfiNoPHmgi4/s50-c-k-no/photo.jpg",
            "userId": "106015002215140560112"
          }
        }
      },
      "cell_type": "code",
      "source": [
        "!pip install keras"
      ],
      "execution_count": 1,
      "outputs": [
        {
          "output_type": "stream",
          "text": [
            "Collecting keras\n",
            "  Downloading Keras-2.1.4-py2.py3-none-any.whl (322kB)\n",
            "\u001b[K    100% |████████████████████████████████| 327kB 2.3MB/s \n",
            "\u001b[?25hRequirement already satisfied: pyyaml in /usr/local/lib/python3.6/dist-packages (from keras)\n",
            "Requirement already satisfied: scipy>=0.14 in /usr/local/lib/python3.6/dist-packages (from keras)\n",
            "Requirement already satisfied: six>=1.9.0 in /usr/local/lib/python3.6/dist-packages (from keras)\n",
            "Requirement already satisfied: numpy>=1.9.1 in /usr/local/lib/python3.6/dist-packages (from keras)\n",
            "Installing collected packages: keras\n",
            "Successfully installed keras-2.1.4\n"
          ],
          "name": "stdout"
        }
      ]
    },
    {
      "metadata": {
        "id": "hO-9lrbgj_0P",
        "colab_type": "text"
      },
      "cell_type": "markdown",
      "source": [
        "### Import dataset"
      ]
    },
    {
      "metadata": {
        "id": "BQ5j3--ycJHN",
        "colab_type": "code",
        "colab": {
          "autoexec": {
            "startup": false,
            "wait_interval": 0
          },
          "output_extras": [
            {
              "item_id": 1
            }
          ],
          "base_uri": "https://localhost:8080/",
          "height": 34
        },
        "outputId": "e049df58-1962-40b8-a2d5-35ddb71e8b95",
        "executionInfo": {
          "status": "ok",
          "timestamp": 1519894287977,
          "user_tz": 0,
          "elapsed": 7451,
          "user": {
            "displayName": "Rajesh Reddy",
            "photoUrl": "//lh3.googleusercontent.com/-Cw04_nciGC0/AAAAAAAAAAI/AAAAAAABD-0/wfiNoPHmgi4/s50-c-k-no/photo.jpg",
            "userId": "106015002215140560112"
          }
        }
      },
      "cell_type": "code",
      "source": [
        "import numpy as np\n",
        "import matplotlib.pyplot as plt\n",
        "from keras.datasets import  cifar100"
      ],
      "execution_count": 2,
      "outputs": [
        {
          "output_type": "stream",
          "text": [
            "Using TensorFlow backend.\n"
          ],
          "name": "stderr"
        }
      ]
    },
    {
      "metadata": {
        "id": "_TtIuYmacjvP",
        "colab_type": "code",
        "colab": {
          "autoexec": {
            "startup": false,
            "wait_interval": 0
          },
          "output_extras": [
            {
              "item_id": 54
            }
          ],
          "base_uri": "https://localhost:8080/",
          "height": 51
        },
        "outputId": "24989161-4ae9-41e0-8d6f-1a1c8f548775",
        "executionInfo": {
          "status": "ok",
          "timestamp": 1519894304816,
          "user_tz": 0,
          "elapsed": 15956,
          "user": {
            "displayName": "Rajesh Reddy",
            "photoUrl": "//lh3.googleusercontent.com/-Cw04_nciGC0/AAAAAAAAAAI/AAAAAAABD-0/wfiNoPHmgi4/s50-c-k-no/photo.jpg",
            "userId": "106015002215140560112"
          }
        }
      },
      "cell_type": "code",
      "source": [
        "(trainImages, trainLabels), (testImages, testLabels) = cifar100.load_data()"
      ],
      "execution_count": 3,
      "outputs": [
        {
          "output_type": "stream",
          "text": [
            "Downloading data from https://www.cs.toronto.edu/~kriz/cifar-100-python.tar.gz\n",
            "169009152/169001437 [==============================] - 13s 0us/step\n"
          ],
          "name": "stdout"
        }
      ]
    },
    {
      "metadata": {
        "id": "5QlQj6-GcuuW",
        "colab_type": "code",
        "colab": {
          "autoexec": {
            "startup": false,
            "wait_interval": 0
          },
          "output_extras": [
            {
              "item_id": 1
            }
          ],
          "base_uri": "https://localhost:8080/",
          "height": 84
        },
        "outputId": "899d1e9e-7b92-46d8-b4ea-8e89ce95c7af",
        "executionInfo": {
          "status": "ok",
          "timestamp": 1519894306752,
          "user_tz": 0,
          "elapsed": 469,
          "user": {
            "displayName": "Rajesh Reddy",
            "photoUrl": "//lh3.googleusercontent.com/-Cw04_nciGC0/AAAAAAAAAAI/AAAAAAABD-0/wfiNoPHmgi4/s50-c-k-no/photo.jpg",
            "userId": "106015002215140560112"
          }
        }
      },
      "cell_type": "code",
      "source": [
        "print(trainImages.shape)\n",
        "print(trainLabels.shape)\n",
        "print(testImages.shape)\n",
        "print(testImages.shape)"
      ],
      "execution_count": 4,
      "outputs": [
        {
          "output_type": "stream",
          "text": [
            "(50000, 32, 32, 3)\n",
            "(50000, 1)\n",
            "(10000, 32, 32, 3)\n",
            "(10000, 32, 32, 3)\n"
          ],
          "name": "stdout"
        }
      ]
    },
    {
      "metadata": {
        "id": "fc5bOZGvd0Pr",
        "colab_type": "code",
        "colab": {
          "autoexec": {
            "startup": false,
            "wait_interval": 0
          },
          "output_extras": [
            {
              "item_id": 1
            }
          ],
          "base_uri": "https://localhost:8080/",
          "height": 226
        },
        "outputId": "742bdd4c-843f-4ea6-9947-dab1058ab06c",
        "executionInfo": {
          "status": "ok",
          "timestamp": 1519894309704,
          "user_tz": 0,
          "elapsed": 808,
          "user": {
            "displayName": "Rajesh Reddy",
            "photoUrl": "//lh3.googleusercontent.com/-Cw04_nciGC0/AAAAAAAAAAI/AAAAAAABD-0/wfiNoPHmgi4/s50-c-k-no/photo.jpg",
            "userId": "106015002215140560112"
          }
        }
      },
      "cell_type": "code",
      "source": [
        "fig = plt.figure(figsize=(3,3))\n",
        "fig_col = 2\n",
        "fig_row = 2\n",
        "fig.add_subplot(fig_row, fig_col, 1)\n",
        "plt.imshow(trainImages[1000])\n",
        "plt.title(trainLabels[1000])\n",
        "fig.add_subplot(fig_row, fig_col, 2)\n",
        "plt.imshow(trainImages[10000])\n",
        "plt.title(trainLabels[10000])\n",
        "fig.add_subplot(fig_row, fig_col, 3)\n",
        "plt.imshow(testImages[1000])\n",
        "plt.title(testLabels[1000])\n",
        "fig.add_subplot(fig_row, fig_col, 4)\n",
        "plt.imshow(testImages[5000])\n",
        "plt.title(testLabels[5000])\n",
        "fig.subplots_adjust(hspace=0.8, wspace=0.5)\n",
        "plt.show()"
      ],
      "execution_count": 5,
      "outputs": [
        {
          "output_type": "display_data",
          "data": {
            "image/png": "[encoded data removed]",
            "text/plain": [
              "<matplotlib.figure.Figure at 0x7f84fd784748>"
            ]
          },
          "metadata": {
            "tags": []
          }
        }
      ]
    },
    {
      "metadata": {
        "id": "-DO_-ipPkTap",
        "colab_type": "text"
      },
      "cell_type": "markdown",
      "source": [
        "### Prepare dataset"
      ]
    },
    {
      "metadata": {
        "id": "1IoRkgwBke7P",
        "colab_type": "code",
        "colab": {
          "autoexec": {
            "startup": false,
            "wait_interval": 0
          }
        }
      },
      "cell_type": "code",
      "source": [
        "from keras.utils import to_categorical"
      ],
      "execution_count": 0,
      "outputs": []
    },
    {
      "metadata": {
        "id": "Cv42e9MQfLPD",
        "colab_type": "code",
        "colab": {
          "autoexec": {
            "startup": false,
            "wait_interval": 0
          },
          "output_extras": [
            {
              "item_id": 1
            }
          ],
          "base_uri": "https://localhost:8080/",
          "height": 84
        },
        "outputId": "10c5b427-97df-4263-c6bb-fdcff7d6258f",
        "executionInfo": {
          "status": "ok",
          "timestamp": 1519894313612,
          "user_tz": 0,
          "elapsed": 898,
          "user": {
            "displayName": "Rajesh Reddy",
            "photoUrl": "//lh3.googleusercontent.com/-Cw04_nciGC0/AAAAAAAAAAI/AAAAAAABD-0/wfiNoPHmgi4/s50-c-k-no/photo.jpg",
            "userId": "106015002215140560112"
          }
        }
      },
      "cell_type": "code",
      "source": [
        "trainImages = trainImages.astype(np.float32) / 255\n",
        "trainLabels = to_categorical(trainLabels, num_classes=100)\n",
        "testImages = testImages.astype(np.float32) / 255\n",
        "testLabels = to_categorical(testLabels, num_classes=100)\n",
        "print(trainImages.shape)\n",
        "print(trainLabels.shape)\n",
        "print(testImages.shape)\n",
        "print(testLabels.shape)"
      ],
      "execution_count": 7,
      "outputs": [
        {
          "output_type": "stream",
          "text": [
            "(50000, 32, 32, 3)\n",
            "(50000, 100)\n",
            "(10000, 32, 32, 3)\n",
            "(10000, 100)\n"
          ],
          "name": "stdout"
        }
      ]
    },
    {
      "metadata": {
        "id": "HE0YXkWsmo2u",
        "colab_type": "text"
      },
      "cell_type": "markdown",
      "source": [
        "### Prepare the model"
      ]
    },
    {
      "metadata": {
        "id": "DOR9IoDXl56D",
        "colab_type": "code",
        "colab": {
          "autoexec": {
            "startup": false,
            "wait_interval": 0
          }
        }
      },
      "cell_type": "code",
      "source": [
        "from keras.layers import Conv2D, MaxPooling2D\n",
        "from keras.layers import Activation, Dropout\n",
        "from keras.layers import Dense, Flatten\n",
        "from keras.layers import ZeroPadding2D, Input\n",
        "from keras.layers import BatchNormalization\n",
        "from keras import optimizers, losses\n",
        "from keras.models import Model\n",
        "from keras import backend as K\n"
      ],
      "execution_count": 0,
      "outputs": []
    },
    {
      "metadata": {
        "id": "x-m0ZL9An8Bf",
        "colab_type": "code",
        "colab": {
          "autoexec": {
            "startup": false,
            "wait_interval": 0
          }
        }
      },
      "cell_type": "code",
      "source": [
        "K.set_image_data_format('channels_last')"
      ],
      "execution_count": 0,
      "outputs": []
    },
    {
      "metadata": {
        "id": "lbeIPsjroNKw",
        "colab_type": "code",
        "colab": {
          "autoexec": {
            "startup": false,
            "wait_interval": 0
          },
          "output_extras": [
            {
              "item_id": 1
            }
          ],
          "base_uri": "https://localhost:8080/",
          "height": 34
        },
        "outputId": "fd1e50ce-8e05-45c7-93ad-03a2069ea966",
        "executionInfo": {
          "status": "ok",
          "timestamp": 1519894369390,
          "user_tz": 0,
          "elapsed": 478,
          "user": {
            "displayName": "Rajesh Reddy",
            "photoUrl": "//lh3.googleusercontent.com/-Cw04_nciGC0/AAAAAAAAAAI/AAAAAAABD-0/wfiNoPHmgi4/s50-c-k-no/photo.jpg",
            "userId": "106015002215140560112"
          }
        }
      },
      "cell_type": "code",
      "source": [
        "m, h, w, c = trainImages.shape\n",
        "input_shape = (h, w, c)\n",
        "print(input_shape)"
      ],
      "execution_count": 10,
      "outputs": [
        {
          "output_type": "stream",
          "text": [
            "(32, 32, 3)\n"
          ],
          "name": "stdout"
        }
      ]
    },
    {
      "metadata": {
        "id": "F7c5b0cmor4L",
        "colab_type": "code",
        "colab": {
          "autoexec": {
            "startup": false,
            "wait_interval": 0
          }
        }
      },
      "cell_type": "code",
      "source": [
        "def create_model(input_shape=(32, 32, 3), num_classes=100):\n",
        "  # Create input tensor\n",
        "  X = Input(input_shape)\n",
        "  Y = ZeroPadding2D((3,3))(X)\n",
        "  \n",
        "  # add conv layers\n",
        "  Y = Conv2D(128, (3, 3), padding='same')(Y)\n",
        "  Y = Activation('relu')(Y)\n",
        "  Y = Conv2D(128, (3, 3), padding='valid')(Y)\n",
        "  Y = Activation('relu')(Y)\n",
        "  Y = MaxPooling2D(pool_size=(2, 2))(Y)\n",
        "  Y = Dropout(rate=0.1)(Y)\n",
        "  Y = BatchNormalization(axis=3)(Y)\n",
        "  \n",
        "  Y = Conv2D(256, (3, 3), padding='same')(Y)\n",
        "  Y = Activation('relu')(Y)\n",
        "  Y = Conv2D(256, (3, 3), padding='valid')(Y)\n",
        "  Y = Activation('relu')(Y)\n",
        "  Y = MaxPooling2D(pool_size=(2, 2))(Y)\n",
        "  Y = Dropout(rate=0.25)(Y)\n",
        "  Y = BatchNormalization(axis=3)(Y)\n",
        "  \n",
        "  Y = Conv2D(512, (3, 3), padding='same')(Y)\n",
        "  Y = Activation('relu')(Y)\n",
        "  Y = Conv2D(512, (3, 3), padding='valid')(Y)\n",
        "  Y = Activation('relu')(Y)\n",
        "  Y = MaxPooling2D(pool_size=(2, 2))(Y)\n",
        "  Y = Dropout(rate=0.5)(Y)\n",
        "  Y = BatchNormalization(axis=3)(Y)\n",
        "  \n",
        "  # Fully conncted layer\n",
        "  Y = Flatten()(Y)\n",
        "  Y = Dense(1024)(Y)\n",
        "  Y = Activation('relu')(Y)\n",
        "  Y = Dropout(rate=0.5)(Y)\n",
        "  Y = Dense(num_classes)(Y)\n",
        "  Y = Activation('softmax')(Y)\n",
        "  \n",
        "  model = Model(inputs=X, outputs=Y)\n",
        "  return model"
      ],
      "execution_count": 0,
      "outputs": []
    },
    {
      "metadata": {
        "id": "w1tqZXkLsJR4",
        "colab_type": "code",
        "colab": {
          "autoexec": {
            "startup": false,
            "wait_interval": 0
          }
        }
      },
      "cell_type": "code",
      "source": [
        "K.clear_session()\n",
        "model = create_model(input_shape, num_classes=100)"
      ],
      "execution_count": 0,
      "outputs": []
    },
    {
      "metadata": {
        "id": "z9YC6gUfu0C2",
        "colab_type": "text"
      },
      "cell_type": "markdown",
      "source": [
        "### Compile and fit the model"
      ]
    },
    {
      "metadata": {
        "id": "al4dK5knsQ22",
        "colab_type": "code",
        "colab": {
          "autoexec": {
            "startup": false,
            "wait_interval": 0
          }
        }
      },
      "cell_type": "code",
      "source": [
        "model.compile(optimizer=optimizers.Adam(),\n",
        "              loss=losses.categorical_crossentropy,\n",
        "              metrics=['accuracy'])"
      ],
      "execution_count": 0,
      "outputs": []
    },
    {
      "metadata": {
        "id": "so3pWg0otNSP",
        "colab_type": "code",
        "colab": {
          "autoexec": {
            "startup": false,
            "wait_interval": 0
          },
          "output_extras": [
            {
              "item_id": 457
            },
            {
              "item_id": 956
            },
            {
              "item_id": 1330
            },
            {
              "item_id": 1888
            },
            {
              "item_id": 2288
            },
            {
              "item_id": 2845
            },
            {
              "item_id": 3245
            },
            {
              "item_id": 3799
            },
            {
              "item_id": 4198
            },
            {
              "item_id": 4748
            },
            {
              "item_id": 5141
            },
            {
              "item_id": 5684
            },
            {
              "item_id": 6042
            },
            {
              "item_id": 6187
            },
            {
              "item_id": 6293
            },
            {
              "item_id": 6437
            },
            {
              "item_id": 6542
            },
            {
              "item_id": 6688
            },
            {
              "item_id": 6831
            },
            {
              "item_id": 6976
            },
            {
              "item_id": 7082
            },
            {
              "item_id": 7228
            },
            {
              "item_id": 7333
            },
            {
              "item_id": 7768
            },
            {
              "item_id": 8025
            },
            {
              "item_id": 8180
            },
            {
              "item_id": 8292
            },
            {
              "item_id": 8446
            },
            {
              "item_id": 8558
            },
            {
              "item_id": 8713
            },
            {
              "item_id": 8826
            },
            {
              "item_id": 8979
            },
            {
              "item_id": 9090
            },
            {
              "item_id": 9174
            }
          ],
          "base_uri": "https://localhost:8080/",
          "height": 1734
        },
        "outputId": "12bee1e2-ab21-4fc1-9b8a-11a4de2ce404",
        "executionInfo": {
          "status": "ok",
          "timestamp": 1519898907373,
          "user_tz": 0,
          "elapsed": 4423832,
          "user": {
            "displayName": "Rajesh Reddy",
            "photoUrl": "//lh3.googleusercontent.com/-Cw04_nciGC0/AAAAAAAAAAI/AAAAAAABD-0/wfiNoPHmgi4/s50-c-k-no/photo.jpg",
            "userId": "106015002215140560112"
          }
        }
      },
      "cell_type": "code",
      "source": [
        "history = model.fit(x=trainImages,\n",
        "                    y=trainLabels,\n",
        "                    batch_size=128,\n",
        "                    epochs=50,\n",
        "                    validation_data=(testImages, testLabels))"
      ],
      "execution_count": 14,
      "outputs": [
        {
          "output_type": "stream",
          "text": [
            "Train on 50000 samples, validate on 10000 samples\n",
            "Epoch 1/50\n",
            "50000/50000 [==============================] - 93s 2ms/step - loss: 4.2048 - acc: 0.0742 - val_loss: 3.6755 - val_acc: 0.1435\n",
            "Epoch 2/50\n",
            "19328/50000 [==========>...................] - ETA: 50s - loss: 3.6731 - acc: 0.1391"
          ],
          "name": "stdout"
        },
        {
          "output_type": "stream",
          "text": [
            "50000/50000 [==============================] - 87s 2ms/step - loss: 3.5383 - acc: 0.1602 - val_loss: 3.2612 - val_acc: 0.2064\n",
            "Epoch 3/50\n",
            "45952/50000 [==========================>...] - ETA: 6s - loss: 3.1073 - acc: 0.2362"
          ],
          "name": "stdout"
        },
        {
          "output_type": "stream",
          "text": [
            "50000/50000 [==============================] - 87s 2ms/step - loss: 3.0962 - acc: 0.2385 - val_loss: 2.9804 - val_acc: 0.2603\n",
            "Epoch 4/50\n",
            "50000/50000 [==============================] - 87s 2ms/step - loss: 2.7404 - acc: 0.3034 - val_loss: 2.5086 - val_acc: 0.3513\n",
            "Epoch 5/50\n",
            " 3584/50000 [=>............................] - ETA: 1:16 - loss: 2.4951 - acc: 0.3530"
          ],
          "name": "stdout"
        },
        {
          "output_type": "stream",
          "text": [
            "50000/50000 [==============================] - 87s 2ms/step - loss: 2.4699 - acc: 0.3590 - val_loss: 2.2313 - val_acc: 0.4131\n",
            "Epoch 6/50\n",
            "39936/50000 [======================>.......] - ETA: 16s - loss: 2.2691 - acc: 0.4001"
          ],
          "name": "stdout"
        },
        {
          "output_type": "stream",
          "text": [
            "50000/50000 [==============================] - 87s 2ms/step - loss: 2.2631 - acc: 0.4026 - val_loss: 2.1454 - val_acc: 0.4379\n",
            "Epoch 7/50\n",
            "50000/50000 [==============================] - 87s 2ms/step - loss: 2.0884 - acc: 0.4387 - val_loss: 1.9402 - val_acc: 0.4816\n",
            "Epoch 8/50\n",
            " 2176/50000 [>.............................] - ETA: 1:18 - loss: 1.8891 - acc: 0.4899"
          ],
          "name": "stdout"
        },
        {
          "output_type": "stream",
          "text": [
            "50000/50000 [==============================] - 87s 2ms/step - loss: 1.9305 - acc: 0.4754 - val_loss: 1.9424 - val_acc: 0.4741\n",
            "Epoch 9/50\n",
            "39424/50000 [======================>.......] - ETA: 17s - loss: 1.8075 - acc: 0.5022"
          ],
          "name": "stdout"
        },
        {
          "output_type": "stream",
          "text": [
            "50000/50000 [==============================] - 87s 2ms/step - loss: 1.8063 - acc: 0.5014 - val_loss: 1.8949 - val_acc: 0.4879\n",
            "Epoch 10/50\n",
            "50000/50000 [==============================] - 87s 2ms/step - loss: 1.6712 - acc: 0.5347 - val_loss: 1.7845 - val_acc: 0.5203\n",
            "Epoch 11/50\n",
            " 1920/50000 [>.............................] - ETA: 1:18 - loss: 1.4973 - acc: 0.5609"
          ],
          "name": "stdout"
        },
        {
          "output_type": "stream",
          "text": [
            "50000/50000 [==============================] - 87s 2ms/step - loss: 1.5692 - acc: 0.5605 - val_loss: 1.7480 - val_acc: 0.5325\n",
            "Epoch 12/50\n",
            "39168/50000 [======================>.......] - ETA: 17s - loss: 1.4422 - acc: 0.5896"
          ],
          "name": "stdout"
        },
        {
          "output_type": "stream",
          "text": [
            "50000/50000 [==============================] - 87s 2ms/step - loss: 1.4603 - acc: 0.5846 - val_loss: 1.6086 - val_acc: 0.5606\n",
            "Epoch 13/50\n",
            "50000/50000 [==============================] - 87s 2ms/step - loss: 1.3759 - acc: 0.6042 - val_loss: 1.6544 - val_acc: 0.5559\n",
            "Epoch 14/50\n",
            " 1920/50000 [>.............................] - ETA: 1:18 - loss: 1.2430 - acc: 0.6391"
          ],
          "name": "stdout"
        },
        {
          "output_type": "stream",
          "text": [
            "50000/50000 [==============================] - 87s 2ms/step - loss: 1.3009 - acc: 0.6217 - val_loss: 1.6385 - val_acc: 0.5652\n",
            "Epoch 15/50\n",
            "39168/50000 [======================>.......] - ETA: 17s - loss: 1.2276 - acc: 0.6410"
          ],
          "name": "stdout"
        },
        {
          "output_type": "stream",
          "text": [
            "50000/50000 [==============================] - 87s 2ms/step - loss: 1.2355 - acc: 0.6394 - val_loss: 1.5763 - val_acc: 0.5713\n",
            "Epoch 16/50\n",
            "50000/50000 [==============================] - 87s 2ms/step - loss: 1.1492 - acc: 0.6611 - val_loss: 1.4889 - val_acc: 0.5921\n",
            "Epoch 17/50\n",
            " 1920/50000 [>.............................] - ETA: 1:18 - loss: 1.0125 - acc: 0.6990"
          ],
          "name": "stdout"
        },
        {
          "output_type": "stream",
          "text": [
            "50000/50000 [==============================] - 87s 2ms/step - loss: 1.0889 - acc: 0.6751 - val_loss: 1.5391 - val_acc: 0.5926\n",
            "Epoch 18/50\n",
            "39168/50000 [======================>.......] - ETA: 17s - loss: 1.0073 - acc: 0.6968"
          ],
          "name": "stdout"
        },
        {
          "output_type": "stream",
          "text": [
            "50000/50000 [==============================] - 87s 2ms/step - loss: 1.0197 - acc: 0.6941 - val_loss: 1.5378 - val_acc: 0.5897\n",
            "Epoch 19/50\n",
            "50000/50000 [==============================] - 87s 2ms/step - loss: 0.9793 - acc: 0.7066 - val_loss: 1.5422 - val_acc: 0.6001\n",
            "Epoch 20/50\n",
            " 1920/50000 [>.............................] - ETA: 1:19 - loss: 0.8807 - acc: 0.7234"
          ],
          "name": "stdout"
        },
        {
          "output_type": "stream",
          "text": [
            "50000/50000 [==============================] - 87s 2ms/step - loss: 0.9165 - acc: 0.7223 - val_loss: 1.4912 - val_acc: 0.6029\n",
            "Epoch 21/50\n",
            "39168/50000 [======================>.......] - ETA: 17s - loss: 0.8618 - acc: 0.7383"
          ],
          "name": "stdout"
        },
        {
          "output_type": "stream",
          "text": [
            "50000/50000 [==============================] - 87s 2ms/step - loss: 0.8722 - acc: 0.7361 - val_loss: 1.5472 - val_acc: 0.5935\n",
            "Epoch 22/50\n",
            "50000/50000 [==============================] - 87s 2ms/step - loss: 0.8352 - acc: 0.7447 - val_loss: 1.4602 - val_acc: 0.6068\n",
            "Epoch 23/50\n",
            " 1920/50000 [>.............................] - ETA: 1:19 - loss: 0.7266 - acc: 0.7776"
          ],
          "name": "stdout"
        },
        {
          "output_type": "stream",
          "text": [
            "50000/50000 [==============================] - 87s 2ms/step - loss: 0.7918 - acc: 0.7553 - val_loss: 1.5297 - val_acc: 0.5987\n",
            "Epoch 24/50\n",
            "39168/50000 [======================>.......] - ETA: 17s - loss: 0.7416 - acc: 0.7712"
          ],
          "name": "stdout"
        },
        {
          "output_type": "stream",
          "text": [
            "50000/50000 [==============================] - 87s 2ms/step - loss: 0.7565 - acc: 0.7662 - val_loss: 1.5527 - val_acc: 0.6021\n",
            "Epoch 25/50\n",
            "50000/50000 [==============================] - 87s 2ms/step - loss: 0.7252 - acc: 0.7738 - val_loss: 1.5220 - val_acc: 0.6040\n",
            "Epoch 26/50\n",
            " 1920/50000 [>.............................] - ETA: 1:18 - loss: 0.6197 - acc: 0.8078"
          ],
          "name": "stdout"
        },
        {
          "output_type": "stream",
          "text": [
            "50000/50000 [==============================] - 87s 2ms/step - loss: 0.6819 - acc: 0.7858 - val_loss: 1.4864 - val_acc: 0.6145\n",
            "Epoch 27/50\n",
            "39168/50000 [======================>.......] - ETA: 17s - loss: 0.6522 - acc: 0.7952"
          ],
          "name": "stdout"
        },
        {
          "output_type": "stream",
          "text": [
            "50000/50000 [==============================] - 87s 2ms/step - loss: 0.6605 - acc: 0.7935 - val_loss: 1.4934 - val_acc: 0.6184\n",
            "Epoch 28/50\n",
            "50000/50000 [==============================] - 87s 2ms/step - loss: 0.6430 - acc: 0.7992 - val_loss: 1.5737 - val_acc: 0.6115\n",
            "Epoch 29/50\n",
            " 1920/50000 [>.............................] - ETA: 1:18 - loss: 0.5669 - acc: 0.8208"
          ],
          "name": "stdout"
        },
        {
          "output_type": "stream",
          "text": [
            "50000/50000 [==============================] - 87s 2ms/step - loss: 0.6091 - acc: 0.8098 - val_loss: 1.4686 - val_acc: 0.6270\n",
            "Epoch 30/50\n",
            "39168/50000 [======================>.......] - ETA: 17s - loss: 0.5820 - acc: 0.8162"
          ],
          "name": "stdout"
        },
        {
          "output_type": "stream",
          "text": [
            "50000/50000 [==============================] - 87s 2ms/step - loss: 0.5884 - acc: 0.8145 - val_loss: 1.4977 - val_acc: 0.6155\n",
            "Epoch 31/50\n",
            "50000/50000 [==============================] - 87s 2ms/step - loss: 0.5621 - acc: 0.8206 - val_loss: 1.5288 - val_acc: 0.6139\n",
            "Epoch 32/50\n",
            " 1920/50000 [>.............................] - ETA: 1:18 - loss: 0.4913 - acc: 0.8542"
          ],
          "name": "stdout"
        },
        {
          "output_type": "stream",
          "text": [
            "50000/50000 [==============================] - 87s 2ms/step - loss: 0.5499 - acc: 0.8272 - val_loss: 1.5009 - val_acc: 0.6126\n",
            "Epoch 33/50\n",
            "39168/50000 [======================>.......] - ETA: 17s - loss: 0.5170 - acc: 0.8354"
          ],
          "name": "stdout"
        },
        {
          "output_type": "stream",
          "text": [
            "50000/50000 [==============================] - 87s 2ms/step - loss: 0.5279 - acc: 0.8314 - val_loss: 1.5223 - val_acc: 0.6201\n",
            "Epoch 34/50\n",
            "50000/50000 [==============================] - 87s 2ms/step - loss: 0.5044 - acc: 0.8404 - val_loss: 1.5475 - val_acc: 0.6213\n",
            "Epoch 35/50\n",
            " 1920/50000 [>.............................] - ETA: 1:18 - loss: 0.4702 - acc: 0.8521"
          ],
          "name": "stdout"
        },
        {
          "output_type": "stream",
          "text": [
            "50000/50000 [==============================] - 87s 2ms/step - loss: 0.4952 - acc: 0.8420 - val_loss: 1.5247 - val_acc: 0.6268\n",
            "Epoch 36/50\n",
            "39168/50000 [======================>.......] - ETA: 18s - loss: 0.4640 - acc: 0.8506"
          ],
          "name": "stdout"
        },
        {
          "output_type": "stream",
          "text": [
            "50000/50000 [==============================] - 89s 2ms/step - loss: 0.4753 - acc: 0.8484 - val_loss: 1.5124 - val_acc: 0.6278\n",
            "Epoch 37/50\n",
            "50000/50000 [==============================] - 89s 2ms/step - loss: 0.4718 - acc: 0.8501 - val_loss: 1.5222 - val_acc: 0.6278\n",
            "Epoch 38/50\n",
            " 1920/50000 [>.............................] - ETA: 1:19 - loss: 0.3976 - acc: 0.8714"
          ],
          "name": "stdout"
        },
        {
          "output_type": "stream",
          "text": [
            "50000/50000 [==============================] - 92s 2ms/step - loss: 0.4441 - acc: 0.8591 - val_loss: 1.5491 - val_acc: 0.6299\n",
            "Epoch 39/50\n",
            "39168/50000 [======================>.......] - ETA: 18s - loss: 0.4283 - acc: 0.8655"
          ],
          "name": "stdout"
        },
        {
          "output_type": "stream",
          "text": [
            "50000/50000 [==============================] - 93s 2ms/step - loss: 0.4347 - acc: 0.8631 - val_loss: 1.5125 - val_acc: 0.6265\n",
            "Epoch 40/50\n",
            "50000/50000 [==============================] - 93s 2ms/step - loss: 0.4288 - acc: 0.8646 - val_loss: 1.5125 - val_acc: 0.6381\n",
            "Epoch 41/50\n",
            " 1920/50000 [>.............................] - ETA: 1:26 - loss: 0.3646 - acc: 0.8865"
          ],
          "name": "stdout"
        },
        {
          "output_type": "stream",
          "text": [
            "50000/50000 [==============================] - 93s 2ms/step - loss: 0.4159 - acc: 0.8667 - val_loss: 1.5024 - val_acc: 0.6391\n",
            "Epoch 42/50\n",
            "39168/50000 [======================>.......] - ETA: 18s - loss: 0.4004 - acc: 0.8721"
          ],
          "name": "stdout"
        },
        {
          "output_type": "stream",
          "text": [
            "50000/50000 [==============================] - 92s 2ms/step - loss: 0.4063 - acc: 0.8700 - val_loss: 1.5424 - val_acc: 0.6368\n",
            "Epoch 43/50\n",
            "50000/50000 [==============================] - 93s 2ms/step - loss: 0.3938 - acc: 0.8746 - val_loss: 1.5904 - val_acc: 0.6258\n",
            "Epoch 44/50\n",
            " 1920/50000 [>.............................] - ETA: 1:21 - loss: 0.3573 - acc: 0.8854"
          ],
          "name": "stdout"
        },
        {
          "output_type": "stream",
          "text": [
            "50000/50000 [==============================] - 92s 2ms/step - loss: 0.3834 - acc: 0.8783 - val_loss: 1.6196 - val_acc: 0.6194\n",
            "Epoch 45/50\n",
            "39168/50000 [======================>.......] - ETA: 19s - loss: 0.3733 - acc: 0.8809"
          ],
          "name": "stdout"
        },
        {
          "output_type": "stream",
          "text": [
            "50000/50000 [==============================] - 93s 2ms/step - loss: 0.3797 - acc: 0.8786 - val_loss: 1.5952 - val_acc: 0.6299\n",
            "Epoch 46/50\n",
            "50000/50000 [==============================] - 92s 2ms/step - loss: 0.3668 - acc: 0.8830 - val_loss: 1.5639 - val_acc: 0.6337\n",
            "Epoch 47/50\n",
            " 1920/50000 [>.............................] - ETA: 1:25 - loss: 0.3478 - acc: 0.8870"
          ],
          "name": "stdout"
        },
        {
          "output_type": "stream",
          "text": [
            "50000/50000 [==============================] - 92s 2ms/step - loss: 0.3564 - acc: 0.8863 - val_loss: 1.5482 - val_acc: 0.6355\n",
            "Epoch 48/50\n",
            "39168/50000 [======================>.......] - ETA: 18s - loss: 0.3471 - acc: 0.8871"
          ],
          "name": "stdout"
        },
        {
          "output_type": "stream",
          "text": [
            "50000/50000 [==============================] - 92s 2ms/step - loss: 0.3537 - acc: 0.8855 - val_loss: 1.5435 - val_acc: 0.6376\n",
            "Epoch 49/50\n",
            "50000/50000 [==============================] - 92s 2ms/step - loss: 0.3403 - acc: 0.8911 - val_loss: 1.5907 - val_acc: 0.6286\n",
            "Epoch 50/50\n",
            " 1920/50000 [>.............................] - ETA: 1:22 - loss: 0.3112 - acc: 0.9016"
          ],
          "name": "stdout"
        },
        {
          "output_type": "stream",
          "text": [
            "50000/50000 [==============================] - 91s 2ms/step - loss: 0.3402 - acc: 0.8918 - val_loss: 1.5466 - val_acc: 0.6334\n"
          ],
          "name": "stdout"
        }
      ]
    },
    {
      "metadata": {
        "id": "HgM4GtayzxHC",
        "colab_type": "code",
        "colab": {
          "autoexec": {
            "startup": false,
            "wait_interval": 0
          },
          "output_extras": [
            {
              "item_id": 1
            },
            {
              "item_id": 2
            },
            {
              "item_id": 3
            }
          ],
          "base_uri": "https://localhost:8080/",
          "height": 752
        },
        "outputId": "80667aff-fa24-4906-9448-e3f1247c1f3a",
        "executionInfo": {
          "status": "ok",
          "timestamp": 1519898934339,
          "user_tz": 0,
          "elapsed": 915,
          "user": {
            "displayName": "Rajesh Reddy",
            "photoUrl": "//lh3.googleusercontent.com/-Cw04_nciGC0/AAAAAAAAAAI/AAAAAAABD-0/wfiNoPHmgi4/s50-c-k-no/photo.jpg",
            "userId": "106015002215140560112"
          }
        }
      },
      "cell_type": "code",
      "source": [
        "# Plot the graph\n",
        "print(history.history.keys())\n",
        "plt.plot(history.history['acc'])\n",
        "plt.plot(history.history['val_acc'])\n",
        "plt.title('model accuracy')\n",
        "plt.ylabel('accuracy')\n",
        "plt.xlabel('epoch')\n",
        "plt.legend(['train', 'test'], loc='upper left')\n",
        "plt.show()\n",
        "# summarize history for loss\n",
        "plt.plot(history.history['loss'])\n",
        "plt.plot(history.history['val_loss'])\n",
        "plt.title('model loss')\n",
        "plt.ylabel('loss')\n",
        "plt.xlabel('epoch')\n",
        "plt.legend(['train', 'test'], loc='upper left')\n",
        "plt.show()"
      ],
      "execution_count": 15,
      "outputs": [
        {
          "output_type": "stream",
          "text": [
            "dict_keys(['val_loss', 'val_acc', 'loss', 'acc'])\n"
          ],
          "name": "stdout"
        },
        {
          "output_type": "display_data",
          "data": {
            "image/png": "[encoded data removed]",
            "text/plain": [
              "<matplotlib.figure.Figure at 0x7f84b8112a58>"
            ]
          },
          "metadata": {
            "tags": []
          }
        },
        {
          "output_type": "display_data",
          "data": {
            "image/png": "[encoded data removed]",
            "text/plain": [
              "<matplotlib.figure.Figure at 0x7f84b8149780>"
            ]
          },
          "metadata": {
            "tags": []
          }
        }
      ]
    }
  ]
}
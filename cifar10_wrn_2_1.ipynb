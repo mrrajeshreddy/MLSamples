{
  "nbformat": 4,
  "nbformat_minor": 0,
  "metadata": {
    "colab": {
      "name": "cifar10_wrn_2_1.ipynb",
      "version": "0.3.2",
      "views": {},
      "default_view": {},
      "provenance": [],
      "collapsed_sections": []
    },
    "kernelspec": {
      "name": "python3",
      "display_name": "Python 3"
    },
    "accelerator": "GPU"
  },
  "cells": [
    {
      "metadata": {
        "id": "RECp6wA6WQhv",
        "colab_type": "text"
      },
      "cell_type": "markdown",
      "source": [
        "# CIFAR10 data classification using Wide Residual Network"
      ]
    },
    {
      "metadata": {
        "id": "zBp9vCoCWoZp",
        "colab_type": "text"
      },
      "cell_type": "markdown",
      "source": [
        "#### Install necessary packeg to run in Google Colab"
      ]
    },
    {
      "metadata": {
        "id": "Duq3ljm610PS",
        "colab_type": "code",
        "colab": {
          "autoexec": {
            "startup": false,
            "wait_interval": 0
          },
          "output_extras": [
            {
              "item_id": 1
            }
          ],
          "base_uri": "https://localhost:8080/",
          "height": 84
        },
        "outputId": "6880583e-4743-45e1-dbda-e499b08a0c10",
        "executionInfo": {
          "status": "ok",
          "timestamp": 1520288741612,
          "user_tz": 0,
          "elapsed": 1723,
          "user": {
            "displayName": "Rajesh Reddy",
            "photoUrl": "https://lh3.googleusercontent.com/a/default-user=s128",
            "userId": "103144225072240607929"
          }
        }
      },
      "cell_type": "code",
      "source": [
        "#!pip install keras\n",
        "#apt-get -qq install -y graphviz && pip install -q pydot\n",
        "!ls -l ./drive/MachineLearning/models/"
      ],
      "execution_count": 1,
      "outputs": [
        {
          "output_type": "stream",
          "text": [
            "total 283576\r\n",
            "-rw-r--r-- 1 root root    633755 Mar  5 22:22 cifar10_simple_wrn1.png\r\n",
            "-rw-r--r-- 1 root root 289161688 Mar  4 20:13 cifar10_simple_wrn.hdf5\r\n",
            "-rw-r--r-- 1 root root    586234 Mar  5 20:55 cifar10_simple_wrn.png\r\n"
          ],
          "name": "stdout"
        }
      ]
    },
    {
      "metadata": {
        "id": "x2I0h278WrcY",
        "colab_type": "text"
      },
      "cell_type": "markdown",
      "source": [
        "## Import cifar10 from Keras dataset"
      ]
    },
    {
      "metadata": {
        "id": "2THkHAHR9fs8",
        "colab_type": "code",
        "colab": {
          "autoexec": {
            "startup": false,
            "wait_interval": 0
          },
          "output_extras": [
            {
              "item_id": 1
            }
          ],
          "base_uri": "https://localhost:8080/",
          "height": 34
        },
        "outputId": "b1fa7338-fdc8-4e44-9833-5043d85a5c63",
        "executionInfo": {
          "status": "ok",
          "timestamp": 1520288744619,
          "user_tz": 0,
          "elapsed": 1249,
          "user": {
            "displayName": "Rajesh Reddy",
            "photoUrl": "https://lh3.googleusercontent.com/a/default-user=s128",
            "userId": "103144225072240607929"
          }
        }
      },
      "cell_type": "code",
      "source": [
        "import numpy as np\n",
        "import matplotlib.pyplot as plt\n",
        "from keras.datasets import cifar10\n",
        "import keras.backend as K\n",
        "import pickle"
      ],
      "execution_count": 2,
      "outputs": [
        {
          "output_type": "stream",
          "text": [
            "Using TensorFlow backend.\n"
          ],
          "name": "stderr"
        }
      ]
    },
    {
      "metadata": {
        "id": "UR7EPpgO9xP_",
        "colab_type": "code",
        "colab": {
          "autoexec": {
            "startup": false,
            "wait_interval": 0
          }
        }
      },
      "cell_type": "code",
      "source": [
        "K.set_image_data_format('channels_last')"
      ],
      "execution_count": 0,
      "outputs": []
    },
    {
      "metadata": {
        "id": "Wgr5Vu4c9133",
        "colab_type": "code",
        "colab": {
          "autoexec": {
            "startup": false,
            "wait_interval": 0
          },
          "output_extras": [
            {
              "item_id": 1
            }
          ],
          "base_uri": "https://localhost:8080/",
          "height": 51
        },
        "outputId": "12ce5a39-6776-44f7-873a-0044aae5252c",
        "executionInfo": {
          "status": "ok",
          "timestamp": 1520288750246,
          "user_tz": 0,
          "elapsed": 674,
          "user": {
            "displayName": "Rajesh Reddy",
            "photoUrl": "https://lh3.googleusercontent.com/a/default-user=s128",
            "userId": "103144225072240607929"
          }
        }
      },
      "cell_type": "code",
      "source": [
        "(trainImages, trainLabels), (testImages, testLabels) = cifar10.load_data()\n",
        "print(('Training Images', trainImages.shape),('Training Labels',trainLabels.shape))\n",
        "print(('Test Images', testImages.shape),('Test Labels',testLabels.shape))"
      ],
      "execution_count": 4,
      "outputs": [
        {
          "output_type": "stream",
          "text": [
            "('Training Images', (50000, 32, 32, 3)) ('Training Labels', (50000, 1))\n",
            "('Test Images', (10000, 32, 32, 3)) ('Test Labels', (10000, 1))\n"
          ],
          "name": "stdout"
        }
      ]
    },
    {
      "metadata": {
        "id": "ZWSyqAgO-B0I",
        "colab_type": "code",
        "colab": {
          "autoexec": {
            "startup": false,
            "wait_interval": 0
          }
        }
      },
      "cell_type": "code",
      "source": [
        "def load_labels():\n",
        "  #execute this command for the path\n",
        "  #!ls ~/.keras/datasets/cifar-10-batches-py/batches.meta \n",
        "  filename = '/content/.keras/datasets/cifar-10-batches-py/batches.meta'\n",
        "  labelsdict = None\n",
        "  labels = []\n",
        "  with open(filename, 'rb') as file:\n",
        "    labelsdict = pickle.load(file,encoding='bytes')\n",
        "  labels = [ x.decode('utf-8') for x in labelsdict[b'label_names'] ]\n",
        "  return labels"
      ],
      "execution_count": 0,
      "outputs": []
    },
    {
      "metadata": {
        "id": "Z1ABPoGs-wIo",
        "colab_type": "code",
        "colab": {
          "autoexec": {
            "startup": false,
            "wait_interval": 0
          },
          "output_extras": [
            {
              "item_id": 1
            }
          ],
          "base_uri": "https://localhost:8080/",
          "height": 34
        },
        "outputId": "29d97c12-e080-438f-a0a3-03d9010c1af6",
        "executionInfo": {
          "status": "ok",
          "timestamp": 1520288757304,
          "user_tz": 0,
          "elapsed": 489,
          "user": {
            "displayName": "Rajesh Reddy",
            "photoUrl": "https://lh3.googleusercontent.com/a/default-user=s128",
            "userId": "103144225072240607929"
          }
        }
      },
      "cell_type": "code",
      "source": [
        "labels = load_labels()\n",
        "print(labels)"
      ],
      "execution_count": 6,
      "outputs": [
        {
          "output_type": "stream",
          "text": [
            "['airplane', 'automobile', 'bird', 'cat', 'deer', 'dog', 'frog', 'horse', 'ship', 'truck']\n"
          ],
          "name": "stdout"
        }
      ]
    },
    {
      "metadata": {
        "id": "cI0ZZElS7GWv",
        "colab_type": "text"
      },
      "cell_type": "markdown",
      "source": [
        "#### Visualize training data"
      ]
    },
    {
      "metadata": {
        "id": "cmqoP7cR3shf",
        "colab_type": "code",
        "colab": {
          "autoexec": {
            "startup": false,
            "wait_interval": 0
          },
          "output_extras": [
            {
              "item_id": 1
            }
          ],
          "base_uri": "https://localhost:8080/",
          "height": 51
        },
        "outputId": "1b27c5d3-3664-4a99-db5c-2aba7ce96425",
        "executionInfo": {
          "status": "ok",
          "timestamp": 1520288760174,
          "user_tz": 0,
          "elapsed": 502,
          "user": {
            "displayName": "Rajesh Reddy",
            "photoUrl": "https://lh3.googleusercontent.com/a/default-user=s128",
            "userId": "103144225072240607929"
          }
        }
      },
      "cell_type": "code",
      "source": [
        "print(trainLabels.shape)\n",
        "idx = np.where(trainLabels[:]==0)[0][0]\n",
        "print(idx)"
      ],
      "execution_count": 7,
      "outputs": [
        {
          "output_type": "stream",
          "text": [
            "(50000, 1)\n",
            "29\n"
          ],
          "name": "stdout"
        }
      ]
    },
    {
      "metadata": {
        "id": "Zwn3-xHo-yvq",
        "colab_type": "code",
        "colab": {
          "autoexec": {
            "startup": false,
            "wait_interval": 0
          },
          "output_extras": [
            {
              "item_id": 1
            }
          ],
          "base_uri": "https://localhost:8080/",
          "height": 226
        },
        "outputId": "427c58c5-7b79-4d67-933a-d48238bdaa09",
        "executionInfo": {
          "status": "ok",
          "timestamp": 1520288762611,
          "user_tz": 0,
          "elapsed": 1167,
          "user": {
            "displayName": "Rajesh Reddy",
            "photoUrl": "https://lh3.googleusercontent.com/a/default-user=s128",
            "userId": "103144225072240607929"
          }
        }
      },
      "cell_type": "code",
      "source": [
        "fig = plt.figure(figsize=(8,3))\n",
        "figrows = 2\n",
        "figcols = 5\n",
        "for i in range(10):\n",
        "  fig.add_subplot(figrows, figcols, 1 + i)\n",
        "  idx = np.where(trainLabels[:]==i)[0][0]\n",
        "  plt.imshow(trainImages[idx])\n",
        "  plt.title(labels[trainLabels[idx][0]])\n",
        "  plt.axis('off')\n",
        "fig.subplots_adjust(hspace=0.5)\n",
        "plt.show()"
      ],
      "execution_count": 8,
      "outputs": [
        {
          "output_type": "display_data",
          "data": {
            "image/png": "[encoded data removed]",
            "text/plain": [
              "<matplotlib.figure.Figure at 0x7fbb817d0898>"
            ]
          },
          "metadata": {
            "tags": []
          }
        }
      ]
    },
    {
      "metadata": {
        "id": "NCLMpsN6W5Yk",
        "colab_type": "text"
      },
      "cell_type": "markdown",
      "source": [
        "## Prepare data"
      ]
    },
    {
      "metadata": {
        "id": "p_MpkrpIPABJ",
        "colab_type": "text"
      },
      "cell_type": "markdown",
      "source": [
        "Checking for GPU"
      ]
    },
    {
      "metadata": {
        "id": "DE9xrm-N-926",
        "colab_type": "code",
        "colab": {
          "autoexec": {
            "startup": false,
            "wait_interval": 0
          }
        }
      },
      "cell_type": "code",
      "source": [
        "from keras.utils import to_categorical"
      ],
      "execution_count": 0,
      "outputs": []
    },
    {
      "metadata": {
        "id": "n2stUjki_Bxo",
        "colab_type": "code",
        "colab": {
          "autoexec": {
            "startup": false,
            "wait_interval": 0
          }
        }
      },
      "cell_type": "code",
      "source": [
        "trainImages = trainImages.astype(np.float32) / 255\n",
        "trainLabels = to_categorical(trainLabels, num_classes=10)\n",
        "testImages = testImages.astype(np.float32) / 255\n",
        "testLabels = to_categorical(testLabels, num_classes=10)"
      ],
      "execution_count": 0,
      "outputs": []
    },
    {
      "metadata": {
        "id": "q0FFiM-bXUfT",
        "colab_type": "code",
        "colab": {
          "autoexec": {
            "startup": false,
            "wait_interval": 0
          },
          "output_extras": [
            {
              "item_id": 1
            }
          ],
          "base_uri": "https://localhost:8080/",
          "height": 51
        },
        "outputId": "9efb6d65-bb57-4659-ae02-0c9f3e04455d",
        "executionInfo": {
          "status": "ok",
          "timestamp": 1520288772699,
          "user_tz": 0,
          "elapsed": 551,
          "user": {
            "displayName": "Rajesh Reddy",
            "photoUrl": "https://lh3.googleusercontent.com/a/default-user=s128",
            "userId": "103144225072240607929"
          }
        }
      },
      "cell_type": "code",
      "source": [
        "print(('Train Images', trainImages.shape), ('Train Labels', trainLabels.shape))\n",
        "print(('Test Images', testImages.shape), ('Test Labels', testLabels.shape))"
      ],
      "execution_count": 11,
      "outputs": [
        {
          "output_type": "stream",
          "text": [
            "('Train Images', (50000, 32, 32, 3)) ('Train Labels', (50000, 10))\n",
            "('Test Images', (10000, 32, 32, 3)) ('Test Labels', (10000, 10))\n"
          ],
          "name": "stdout"
        }
      ]
    },
    {
      "metadata": {
        "id": "gWV0NraRXA33",
        "colab_type": "text"
      },
      "cell_type": "markdown",
      "source": [
        "## Create WRN model\n",
        "This is based on WRN described in https://arxiv.org/abs/1605.07146"
      ]
    },
    {
      "metadata": {
        "id": "vrrL5cBF_F5x",
        "colab_type": "code",
        "colab": {
          "autoexec": {
            "startup": false,
            "wait_interval": 0
          }
        }
      },
      "cell_type": "code",
      "source": [
        "from keras.layers import Input, ZeroPadding2D\n",
        "from keras.layers import Conv2D, Activation\n",
        "from keras.layers import MaxPooling2D, Dropout, BatchNormalization\n",
        "from keras.layers import Flatten, Dense\n",
        "from keras.models import Model\n",
        "from keras.layers import Add"
      ],
      "execution_count": 0,
      "outputs": []
    },
    {
      "metadata": {
        "id": "dOTxgU61_LYW",
        "colab_type": "code",
        "colab": {
          "autoexec": {
            "startup": false,
            "wait_interval": 0
          }
        }
      },
      "cell_type": "code",
      "source": [
        "def create_wrn(input_shape=(32,32,3), num_classes=10,n=2, k=1):\n",
        "  \n",
        "  def _conv1(X):\n",
        "    X = Conv2D(16, (3, 3), padding='same')(X)\n",
        "    X = BatchNormalization(axis=3)(X)\n",
        "    X = Activation('relu')(X)\n",
        "    return X\n",
        "  \n",
        "  def _conv2(X, k=1):\n",
        "    X_save = X\n",
        "    \n",
        "    X = Conv2D(16*k, (3, 3), padding='same')(X)\n",
        "    X = Dropout(0.2)(X)\n",
        "    X = Activation('relu')(X)\n",
        "    X = Conv2D(16*k, (5, 5), padding='valid')(X)\n",
        "    \n",
        "    X_save = Conv2D(16*k, (5, 5), padding='valid')(X_save)\n",
        "    \n",
        "    X = Add()([X, X_save])\n",
        "    \n",
        "    X = BatchNormalization(axis=3)(X)\n",
        "    X = Activation('relu')(X)\n",
        "    return X\n",
        "  \n",
        "  def _conv3(X, k=1):\n",
        "    X_save = X\n",
        "    \n",
        "    X = Conv2D(32*k, (3, 3), padding='same')(X)\n",
        "    X = Dropout(0.2)(X)\n",
        "    X = Activation('relu')(X)\n",
        "    X = Conv2D(32*k, (5, 5), padding='valid')(X)\n",
        "    \n",
        "    X_save = Conv2D(32*k, (5, 5), padding='valid')(X_save)\n",
        "    \n",
        "    X = Add()([X, X_save])\n",
        "    \n",
        "    X = BatchNormalization(axis=3)(X)\n",
        "    X = Activation('relu')(X)\n",
        "    \n",
        "    return X\n",
        "  \n",
        "  def _conv4(X, k=1):\n",
        "    X_save = X\n",
        "    \n",
        "    X = Conv2D(64*k, (3, 3), padding='same')(X)\n",
        "    X = Dropout(0.2)(X)\n",
        "    X = Activation('relu')(X)\n",
        "    X = Conv2D(64*k, (5, 5), padding='valid')(X)\n",
        "    \n",
        "    X_save = Conv2D(64*k, (5, 5), padding='valid')(X_save)\n",
        "    \n",
        "    X = Add()([X, X_save])\n",
        "    \n",
        "    X = BatchNormalization(axis=3)(X)\n",
        "    X = Activation('relu')(X)\n",
        "    return X\n",
        "  \n",
        "  X = Input(input_shape)\n",
        "  \n",
        "  #Y = ZeroPadding2D(padding=(3,3))(X)\n",
        "  Y = BatchNormalization(axis=3)(X)\n",
        "  \n",
        "  Y = _conv1(Y)\n",
        "  for _ in range(n):\n",
        "    Y = _conv2(Y,k)\n",
        "  for _ in range(n):\n",
        "    Y = _conv3(Y,k)\n",
        "  for _ in range(n):\n",
        "    Y = _conv4(Y,k)\n",
        "  \n",
        "  Y = MaxPooling2D((8,8))(Y)\n",
        "  \n",
        "  Y = Flatten()(Y)\n",
        "  Y = Dense(num_classes)(Y)\n",
        "  Y = Activation('softmax')(Y)\n",
        "  \n",
        "  model = Model(inputs=X, outputs=Y)\n",
        "  return model\n",
        "    "
      ],
      "execution_count": 0,
      "outputs": []
    },
    {
      "metadata": {
        "id": "TdMLjoAuXYa1",
        "colab_type": "text"
      },
      "cell_type": "markdown",
      "source": [
        "Create Model"
      ]
    },
    {
      "metadata": {
        "id": "O_Z93HAT8Id1",
        "colab_type": "code",
        "colab": {
          "autoexec": {
            "startup": false,
            "wait_interval": 0
          }
        }
      },
      "cell_type": "code",
      "source": [
        "K.clear_session()\n",
        "model = create_wrn(n=2, k=1)"
      ],
      "execution_count": 0,
      "outputs": []
    },
    {
      "metadata": {
        "id": "BAPjqlMbM-CZ",
        "colab_type": "code",
        "colab": {
          "autoexec": {
            "startup": false,
            "wait_interval": 0
          }
        }
      },
      "cell_type": "code",
      "source": [
        "#!mkdir models\n",
        "dir = './drive/MachineLearning/models/'"
      ],
      "execution_count": 0,
      "outputs": []
    },
    {
      "metadata": {
        "id": "NfZv_gmnQG6P",
        "colab_type": "code",
        "colab": {
          "autoexec": {
            "startup": false,
            "wait_interval": 0
          }
        }
      },
      "cell_type": "code",
      "source": [
        "from keras.utils import plot_model\n",
        "plot_model(model, to_file=dir + 'cifar10_simple_wrn_2_1.png', show_shapes=True)"
      ],
      "execution_count": 0,
      "outputs": []
    },
    {
      "metadata": {
        "id": "bq5-E4XWATQy",
        "colab_type": "code",
        "colab": {
          "autoexec": {
            "startup": false,
            "wait_interval": 0
          }
        }
      },
      "cell_type": "code",
      "source": [
        "from keras import optimizers, losses\n",
        "from keras.preprocessing.image import ImageDataGenerator"
      ],
      "execution_count": 0,
      "outputs": []
    },
    {
      "metadata": {
        "id": "9gG7V0h1AUuL",
        "colab_type": "code",
        "colab": {
          "autoexec": {
            "startup": false,
            "wait_interval": 0
          }
        }
      },
      "cell_type": "code",
      "source": [
        "model.compile(optimizer=optimizers.Adam(),\n",
        "              loss=losses.categorical_crossentropy,\n",
        "              metrics=['accuracy'] )"
      ],
      "execution_count": 0,
      "outputs": []
    },
    {
      "metadata": {
        "id": "rAJXf7rDXf3d",
        "colab_type": "text"
      },
      "cell_type": "markdown",
      "source": [
        "## Run training"
      ]
    },
    {
      "metadata": {
        "id": "jbA_ghlwAtLt",
        "colab_type": "code",
        "colab": {
          "autoexec": {
            "startup": false,
            "wait_interval": 0
          }
        }
      },
      "cell_type": "code",
      "source": [
        "# pre-processing and data agumentation\n",
        "dataGenerator = ImageDataGenerator(featurewise_center=False,\n",
        "                                   samplewise_center=False,\n",
        "                                   featurewise_std_normalization=False, \n",
        "                                   samplewise_std_normalization=False,\n",
        "                                   zca_whitening=False,\n",
        "                                   rotation_range=0,\n",
        "                                   width_shift_range=0.1,\n",
        "                                   height_shift_range=0.1,\n",
        "                                   horizontal_flip=True,\n",
        "                                   vertical_flip=False)"
      ],
      "execution_count": 0,
      "outputs": []
    },
    {
      "metadata": {
        "id": "ccXQG5epSTYB",
        "colab_type": "code",
        "colab": {
          "autoexec": {
            "startup": false,
            "wait_interval": 0
          }
        }
      },
      "cell_type": "code",
      "source": [
        "from keras.callbacks import ModelCheckpoint\n",
        "checkpoint_file = dir + 'cifar10_simple_wrn_2_1.hdf5'\n",
        "checkpoint = ModelCheckpoint(checkpoint_file,\n",
        "                             save_best_only=True)"
      ],
      "execution_count": 0,
      "outputs": []
    },
    {
      "metadata": {
        "id": "sYNo2CSFZog3",
        "colab_type": "code",
        "colab": {
          "autoexec": {
            "startup": false,
            "wait_interval": 0
          }
        }
      },
      "cell_type": "code",
      "source": [
        "# Due to the time limit have to save the history in check point and load it again\n",
        "model.load_weights(checkpoint_file)"
      ],
      "execution_count": 0,
      "outputs": []
    },
    {
      "metadata": {
        "id": "qcLovyR1V5uI",
        "colab_type": "code",
        "colab": {
          "autoexec": {
            "startup": false,
            "wait_interval": 0
          },
          "output_extras": [
            {
              "item_id": 298
            },
            {
              "item_id": 572
            },
            {
              "item_id": 642
            },
            {
              "item_id": 729
            },
            {
              "item_id": 979
            },
            {
              "item_id": 1230
            },
            {
              "item_id": 1481
            },
            {
              "item_id": 1730
            },
            {
              "item_id": 1978
            },
            {
              "item_id": 2223
            },
            {
              "item_id": 2468
            },
            {
              "item_id": 2716
            },
            {
              "item_id": 2962
            },
            {
              "item_id": 3205
            },
            {
              "item_id": 3446
            },
            {
              "item_id": 3690
            },
            {
              "item_id": 3930
            },
            {
              "item_id": 4171
            },
            {
              "item_id": 4409
            },
            {
              "item_id": 4648
            },
            {
              "item_id": 4888
            },
            {
              "item_id": 5125
            },
            {
              "item_id": 5359
            },
            {
              "item_id": 5593
            },
            {
              "item_id": 5822
            },
            {
              "item_id": 6029
            },
            {
              "item_id": 6095
            },
            {
              "item_id": 6159
            },
            {
              "item_id": 6225
            },
            {
              "item_id": 6343
            },
            {
              "item_id": 6569
            },
            {
              "item_id": 6797
            },
            {
              "item_id": 7024
            },
            {
              "item_id": 7250
            },
            {
              "item_id": 7473
            },
            {
              "item_id": 7695
            },
            {
              "item_id": 7916
            },
            {
              "item_id": 8138
            },
            {
              "item_id": 8360
            },
            {
              "item_id": 8580
            },
            {
              "item_id": 8799
            },
            {
              "item_id": 9017
            },
            {
              "item_id": 9234
            },
            {
              "item_id": 9451
            },
            {
              "item_id": 9668
            },
            {
              "item_id": 9886
            },
            {
              "item_id": 10101
            },
            {
              "item_id": 10316
            },
            {
              "item_id": 10530
            },
            {
              "item_id": 10667
            }
          ],
          "base_uri": "https://localhost:8080/",
          "height": 1717
        },
        "outputId": "e79db30d-eb19-414c-db26-2a79311a9373",
        "executionInfo": {
          "status": "ok",
          "timestamp": 1520292313453,
          "user_tz": 0,
          "elapsed": 3417996,
          "user": {
            "displayName": "Rajesh Reddy",
            "photoUrl": "https://lh3.googleusercontent.com/a/default-user=s128",
            "userId": "103144225072240607929"
          }
        }
      },
      "cell_type": "code",
      "source": [
        "dataGenerator.fit(trainImages)\n",
        "history = model.fit_generator(dataGenerator.flow(trainImages,\n",
        "                                                 trainLabels, \n",
        "                                                 batch_size=64),\n",
        "                              epochs=50,\n",
        "                              validation_data=[testImages, testLabels],\n",
        "                              callbacks=[checkpoint])"
      ],
      "execution_count": 31,
      "outputs": [
        {
          "output_type": "stream",
          "text": [
            "Epoch 1/50\n",
            "782/782 [==============================] - 69s 88ms/step - loss: 1.7616 - acc: 0.3470 - val_loss: 1.5965 - val_acc: 0.4221\n",
            "Epoch 2/50\n",
            "127/782 [===>..........................] - ETA: 53s - loss: 1.4405 - acc: 0.4690"
          ],
          "name": "stdout"
        },
        {
          "output_type": "stream",
          "text": [
            "782/782 [==============================] - 67s 86ms/step - loss: 1.3392 - acc: 0.5176 - val_loss: 1.9499 - val_acc: 0.4406\n",
            "Epoch 3/50\n",
            "223/782 [=======>......................] - ETA: 45s - loss: 1.1816 - acc: 0.5769"
          ],
          "name": "stdout"
        },
        {
          "output_type": "stream",
          "text": [
            "782/782 [==============================] - 67s 85ms/step - loss: 1.1357 - acc: 0.5950 - val_loss: 1.1126 - val_acc: 0.6153\n",
            "Epoch 4/50\n",
            "258/782 [========>.....................] - ETA: 42s - loss: 1.0540 - acc: 0.6263"
          ],
          "name": "stdout"
        },
        {
          "output_type": "stream",
          "text": [
            "782/782 [==============================] - 68s 86ms/step - loss: 1.0176 - acc: 0.6402 - val_loss: 0.9932 - val_acc: 0.6481\n",
            "Epoch 5/50\n",
            "272/782 [=========>....................] - ETA: 41s - loss: 0.9543 - acc: 0.6596"
          ],
          "name": "stdout"
        },
        {
          "output_type": "stream",
          "text": [
            "782/782 [==============================] - 67s 86ms/step - loss: 0.9428 - acc: 0.6661 - val_loss: 0.8709 - val_acc: 0.6916\n",
            "Epoch 6/50\n",
            "277/782 [=========>....................] - ETA: 41s - loss: 0.8768 - acc: 0.6863"
          ],
          "name": "stdout"
        },
        {
          "output_type": "stream",
          "text": [
            "782/782 [==============================] - 67s 86ms/step - loss: 0.8701 - acc: 0.6922 - val_loss: 0.9217 - val_acc: 0.6843\n",
            "Epoch 7/50\n",
            "278/782 [=========>....................] - ETA: 41s - loss: 0.8358 - acc: 0.7060"
          ],
          "name": "stdout"
        },
        {
          "output_type": "stream",
          "text": [
            "782/782 [==============================] - 67s 86ms/step - loss: 0.8258 - acc: 0.7107 - val_loss: 0.8484 - val_acc: 0.7095\n",
            "Epoch 8/50\n",
            "278/782 [=========>....................] - ETA: 41s - loss: 0.7815 - acc: 0.7279"
          ],
          "name": "stdout"
        },
        {
          "output_type": "stream",
          "text": [
            "782/782 [==============================] - 67s 86ms/step - loss: 0.7799 - acc: 0.7279 - val_loss: 0.8725 - val_acc: 0.7046\n",
            "Epoch 9/50\n",
            "279/782 [=========>....................] - ETA: 41s - loss: 0.7612 - acc: 0.7331"
          ],
          "name": "stdout"
        },
        {
          "output_type": "stream",
          "text": [
            "782/782 [==============================] - 67s 86ms/step - loss: 0.7535 - acc: 0.7373 - val_loss: 0.7896 - val_acc: 0.7329\n",
            "Epoch 10/50\n",
            "277/782 [=========>....................] - ETA: 41s - loss: 0.7247 - acc: 0.7464"
          ],
          "name": "stdout"
        },
        {
          "output_type": "stream",
          "text": [
            "782/782 [==============================] - 67s 86ms/step - loss: 0.7233 - acc: 0.7478 - val_loss: 0.9566 - val_acc: 0.6821\n",
            "Epoch 11/50\n",
            "278/782 [=========>....................] - ETA: 40s - loss: 0.7088 - acc: 0.7519"
          ],
          "name": "stdout"
        },
        {
          "output_type": "stream",
          "text": [
            "782/782 [==============================] - 67s 86ms/step - loss: 0.6990 - acc: 0.7558 - val_loss: 0.8473 - val_acc: 0.7181\n",
            "Epoch 12/50\n",
            "277/782 [=========>....................] - ETA: 40s - loss: 0.6731 - acc: 0.7660"
          ],
          "name": "stdout"
        },
        {
          "output_type": "stream",
          "text": [
            "782/782 [==============================] - 67s 86ms/step - loss: 0.6775 - acc: 0.7641 - val_loss: 0.7154 - val_acc: 0.7534\n",
            "Epoch 13/50\n",
            "277/782 [=========>....................] - ETA: 41s - loss: 0.6576 - acc: 0.7661"
          ],
          "name": "stdout"
        },
        {
          "output_type": "stream",
          "text": [
            "782/782 [==============================] - 68s 86ms/step - loss: 0.6562 - acc: 0.7718 - val_loss: 0.7018 - val_acc: 0.7623\n",
            "Epoch 14/50\n",
            "277/782 [=========>....................] - ETA: 41s - loss: 0.6413 - acc: 0.7754"
          ],
          "name": "stdout"
        },
        {
          "output_type": "stream",
          "text": [
            "782/782 [==============================] - 67s 86ms/step - loss: 0.6410 - acc: 0.7758 - val_loss: 0.8485 - val_acc: 0.7251\n",
            "Epoch 15/50\n",
            "277/782 [=========>....................] - ETA: 41s - loss: 0.6336 - acc: 0.7797"
          ],
          "name": "stdout"
        },
        {
          "output_type": "stream",
          "text": [
            "782/782 [==============================] - 67s 86ms/step - loss: 0.6313 - acc: 0.7811 - val_loss: 0.7512 - val_acc: 0.7564\n",
            "Epoch 16/50\n",
            "276/782 [=========>....................] - ETA: 41s - loss: 0.6154 - acc: 0.7869"
          ],
          "name": "stdout"
        },
        {
          "output_type": "stream",
          "text": [
            "782/782 [==============================] - 67s 86ms/step - loss: 0.6145 - acc: 0.7867 - val_loss: 0.6819 - val_acc: 0.7666\n",
            "Epoch 17/50\n",
            "277/782 [=========>....................] - ETA: 41s - loss: 0.6004 - acc: 0.7904"
          ],
          "name": "stdout"
        },
        {
          "output_type": "stream",
          "text": [
            "782/782 [==============================] - 67s 86ms/step - loss: 0.5976 - acc: 0.7929 - val_loss: 0.7012 - val_acc: 0.7657\n",
            "Epoch 18/50\n",
            "276/782 [=========>....................] - ETA: 41s - loss: 0.5865 - acc: 0.7960"
          ],
          "name": "stdout"
        },
        {
          "output_type": "stream",
          "text": [
            "782/782 [==============================] - 67s 86ms/step - loss: 0.5871 - acc: 0.7968 - val_loss: 0.6392 - val_acc: 0.7834\n",
            "Epoch 19/50\n",
            "276/782 [=========>....................] - ETA: 41s - loss: 0.5686 - acc: 0.7998"
          ],
          "name": "stdout"
        },
        {
          "output_type": "stream",
          "text": [
            "782/782 [==============================] - 67s 86ms/step - loss: 0.5792 - acc: 0.7978 - val_loss: 0.6174 - val_acc: 0.7841\n",
            "Epoch 20/50\n",
            "276/782 [=========>....................] - ETA: 41s - loss: 0.5587 - acc: 0.8059"
          ],
          "name": "stdout"
        },
        {
          "output_type": "stream",
          "text": [
            "782/782 [==============================] - 68s 87ms/step - loss: 0.5658 - acc: 0.8025 - val_loss: 0.6664 - val_acc: 0.7748\n",
            "Epoch 21/50\n",
            "276/782 [=========>....................] - ETA: 41s - loss: 0.5508 - acc: 0.8099"
          ],
          "name": "stdout"
        },
        {
          "output_type": "stream",
          "text": [
            "782/782 [==============================] - 68s 86ms/step - loss: 0.5604 - acc: 0.8055 - val_loss: 0.5738 - val_acc: 0.8097\n",
            "Epoch 22/50\n",
            "277/782 [=========>....................] - ETA: 41s - loss: 0.5422 - acc: 0.8105"
          ],
          "name": "stdout"
        },
        {
          "output_type": "stream",
          "text": [
            "782/782 [==============================] - 67s 86ms/step - loss: 0.5488 - acc: 0.8088 - val_loss: 0.6923 - val_acc: 0.7803\n",
            "Epoch 23/50\n",
            "278/782 [=========>....................] - ETA: 40s - loss: 0.5289 - acc: 0.8162"
          ],
          "name": "stdout"
        },
        {
          "output_type": "stream",
          "text": [
            "782/782 [==============================] - 67s 85ms/step - loss: 0.5364 - acc: 0.8140 - val_loss: 0.5997 - val_acc: 0.7960\n",
            "Epoch 24/50\n",
            "277/782 [=========>....................] - ETA: 41s - loss: 0.5271 - acc: 0.8144"
          ],
          "name": "stdout"
        },
        {
          "output_type": "stream",
          "text": [
            "782/782 [==============================] - 67s 85ms/step - loss: 0.5316 - acc: 0.8137 - val_loss: 0.6379 - val_acc: 0.7842\n",
            "Epoch 25/50\n",
            "278/782 [=========>....................] - ETA: 41s - loss: 0.5157 - acc: 0.8223"
          ],
          "name": "stdout"
        },
        {
          "output_type": "stream",
          "text": [
            "782/782 [==============================] - 67s 86ms/step - loss: 0.5231 - acc: 0.8187 - val_loss: 0.5969 - val_acc: 0.8004\n",
            "Epoch 26/50\n",
            "277/782 [=========>....................] - ETA: 40s - loss: 0.5127 - acc: 0.8223"
          ],
          "name": "stdout"
        },
        {
          "output_type": "stream",
          "text": [
            "782/782 [==============================] - 67s 85ms/step - loss: 0.5162 - acc: 0.8197 - val_loss: 0.6749 - val_acc: 0.7837\n",
            "Epoch 27/50\n",
            "277/782 [=========>....................] - ETA: 41s - loss: 0.4982 - acc: 0.8291"
          ],
          "name": "stdout"
        },
        {
          "output_type": "stream",
          "text": [
            "782/782 [==============================] - 67s 85ms/step - loss: 0.5060 - acc: 0.8254 - val_loss: 0.5647 - val_acc: 0.8106\n",
            "Epoch 28/50\n",
            "278/782 [=========>....................] - ETA: 40s - loss: 0.4874 - acc: 0.8293"
          ],
          "name": "stdout"
        },
        {
          "output_type": "stream",
          "text": [
            "782/782 [==============================] - 67s 85ms/step - loss: 0.5015 - acc: 0.8256 - val_loss: 0.5790 - val_acc: 0.8063\n",
            "Epoch 29/50\n",
            "277/782 [=========>....................] - ETA: 40s - loss: 0.4978 - acc: 0.8271"
          ],
          "name": "stdout"
        },
        {
          "output_type": "stream",
          "text": [
            "782/782 [==============================] - 67s 85ms/step - loss: 0.5034 - acc: 0.8237 - val_loss: 0.5458 - val_acc: 0.8118\n",
            "Epoch 30/50\n",
            "277/782 [=========>....................] - ETA: 41s - loss: 0.4823 - acc: 0.8322"
          ],
          "name": "stdout"
        },
        {
          "output_type": "stream",
          "text": [
            "782/782 [==============================] - 67s 85ms/step - loss: 0.4906 - acc: 0.8302 - val_loss: 0.5402 - val_acc: 0.8178\n",
            "Epoch 31/50\n",
            "277/782 [=========>....................] - ETA: 41s - loss: 0.4836 - acc: 0.8268"
          ],
          "name": "stdout"
        },
        {
          "output_type": "stream",
          "text": [
            "782/782 [==============================] - 67s 85ms/step - loss: 0.4868 - acc: 0.8288 - val_loss: 0.5761 - val_acc: 0.8070\n",
            "Epoch 32/50\n",
            "277/782 [=========>....................] - ETA: 41s - loss: 0.4666 - acc: 0.8388"
          ],
          "name": "stdout"
        },
        {
          "output_type": "stream",
          "text": [
            "782/782 [==============================] - 67s 86ms/step - loss: 0.4788 - acc: 0.8349 - val_loss: 0.5704 - val_acc: 0.8095\n",
            "Epoch 33/50\n",
            "278/782 [=========>....................] - ETA: 40s - loss: 0.4725 - acc: 0.8357"
          ],
          "name": "stdout"
        },
        {
          "output_type": "stream",
          "text": [
            "782/782 [==============================] - 67s 85ms/step - loss: 0.4717 - acc: 0.8363 - val_loss: 0.5347 - val_acc: 0.8183\n",
            "Epoch 34/50\n",
            "278/782 [=========>....................] - ETA: 41s - loss: 0.4751 - acc: 0.8388"
          ],
          "name": "stdout"
        },
        {
          "output_type": "stream",
          "text": [
            "782/782 [==============================] - 67s 86ms/step - loss: 0.4709 - acc: 0.8374 - val_loss: 0.5880 - val_acc: 0.8048\n",
            "Epoch 35/50\n",
            "277/782 [=========>....................] - ETA: 41s - loss: 0.4511 - acc: 0.8414"
          ],
          "name": "stdout"
        },
        {
          "output_type": "stream",
          "text": [
            "782/782 [==============================] - 67s 85ms/step - loss: 0.4658 - acc: 0.8367 - val_loss: 0.6008 - val_acc: 0.8005\n",
            "Epoch 36/50\n",
            "277/782 [=========>....................] - ETA: 40s - loss: 0.4410 - acc: 0.8466"
          ],
          "name": "stdout"
        },
        {
          "output_type": "stream",
          "text": [
            "782/782 [==============================] - 66s 85ms/step - loss: 0.4573 - acc: 0.8421 - val_loss: 0.5947 - val_acc: 0.8042\n",
            "Epoch 37/50\n",
            "277/782 [=========>....................] - ETA: 40s - loss: 0.4487 - acc: 0.8426"
          ],
          "name": "stdout"
        },
        {
          "output_type": "stream",
          "text": [
            "782/782 [==============================] - 66s 85ms/step - loss: 0.4547 - acc: 0.8414 - val_loss: 0.5432 - val_acc: 0.8224\n",
            "Epoch 38/50\n",
            "277/782 [=========>....................] - ETA: 40s - loss: 0.4378 - acc: 0.8471"
          ],
          "name": "stdout"
        },
        {
          "output_type": "stream",
          "text": [
            "782/782 [==============================] - 67s 85ms/step - loss: 0.4461 - acc: 0.8456 - val_loss: 0.5691 - val_acc: 0.8117\n",
            "Epoch 39/50\n",
            "278/782 [=========>....................] - ETA: 40s - loss: 0.4455 - acc: 0.8480"
          ],
          "name": "stdout"
        },
        {
          "output_type": "stream",
          "text": [
            "782/782 [==============================] - 67s 86ms/step - loss: 0.4436 - acc: 0.8467 - val_loss: 0.5707 - val_acc: 0.8125\n",
            "Epoch 40/50\n",
            "277/782 [=========>....................] - ETA: 40s - loss: 0.4388 - acc: 0.8462"
          ],
          "name": "stdout"
        },
        {
          "output_type": "stream",
          "text": [
            "782/782 [==============================] - 66s 85ms/step - loss: 0.4397 - acc: 0.8473 - val_loss: 0.5095 - val_acc: 0.8273\n",
            "Epoch 41/50\n",
            "278/782 [=========>....................] - ETA: 40s - loss: 0.4376 - acc: 0.8459"
          ],
          "name": "stdout"
        },
        {
          "output_type": "stream",
          "text": [
            "782/782 [==============================] - 66s 85ms/step - loss: 0.4393 - acc: 0.8469 - val_loss: 0.5231 - val_acc: 0.8258\n",
            "Epoch 42/50\n",
            "277/782 [=========>....................] - ETA: 41s - loss: 0.4263 - acc: 0.8563"
          ],
          "name": "stdout"
        },
        {
          "output_type": "stream",
          "text": [
            "782/782 [==============================] - 67s 85ms/step - loss: 0.4286 - acc: 0.8541 - val_loss: 0.6217 - val_acc: 0.8015\n",
            "Epoch 43/50\n",
            "277/782 [=========>....................] - ETA: 40s - loss: 0.4315 - acc: 0.8506"
          ],
          "name": "stdout"
        },
        {
          "output_type": "stream",
          "text": [
            "782/782 [==============================] - 66s 85ms/step - loss: 0.4314 - acc: 0.8498 - val_loss: 0.5204 - val_acc: 0.8290\n",
            "Epoch 44/50\n",
            "278/782 [=========>....................] - ETA: 40s - loss: 0.4244 - acc: 0.8534"
          ],
          "name": "stdout"
        },
        {
          "output_type": "stream",
          "text": [
            "782/782 [==============================] - 67s 85ms/step - loss: 0.4241 - acc: 0.8528 - val_loss: 0.5402 - val_acc: 0.8231\n",
            "Epoch 45/50\n",
            "278/782 [=========>....................] - ETA: 40s - loss: 0.4163 - acc: 0.8559"
          ],
          "name": "stdout"
        },
        {
          "output_type": "stream",
          "text": [
            "782/782 [==============================] - 67s 85ms/step - loss: 0.4200 - acc: 0.8537 - val_loss: 0.5686 - val_acc: 0.8177\n",
            "Epoch 46/50\n",
            "278/782 [=========>....................] - ETA: 40s - loss: 0.4124 - acc: 0.8571"
          ],
          "name": "stdout"
        },
        {
          "output_type": "stream",
          "text": [
            "782/782 [==============================] - 67s 85ms/step - loss: 0.4192 - acc: 0.8544 - val_loss: 0.4704 - val_acc: 0.8420\n",
            "Epoch 47/50\n",
            "277/782 [=========>....................] - ETA: 41s - loss: 0.4060 - acc: 0.8612"
          ],
          "name": "stdout"
        },
        {
          "output_type": "stream",
          "text": [
            "782/782 [==============================] - 67s 86ms/step - loss: 0.4117 - acc: 0.8579 - val_loss: 0.5364 - val_acc: 0.8275\n",
            "Epoch 48/50\n",
            "276/782 [=========>....................] - ETA: 40s - loss: 0.4096 - acc: 0.8572"
          ],
          "name": "stdout"
        },
        {
          "output_type": "stream",
          "text": [
            "782/782 [==============================] - 66s 85ms/step - loss: 0.4095 - acc: 0.8574 - val_loss: 0.4839 - val_acc: 0.8370\n",
            "Epoch 49/50\n",
            "277/782 [=========>....................] - ETA: 41s - loss: 0.4073 - acc: 0.8584"
          ],
          "name": "stdout"
        },
        {
          "output_type": "stream",
          "text": [
            "782/782 [==============================] - 67s 85ms/step - loss: 0.4076 - acc: 0.8586 - val_loss: 0.5585 - val_acc: 0.8203\n",
            "Epoch 50/50\n",
            "276/782 [=========>....................] - ETA: 40s - loss: 0.3937 - acc: 0.8645"
          ],
          "name": "stdout"
        },
        {
          "output_type": "stream",
          "text": [
            "782/782 [==============================] - 67s 85ms/step - loss: 0.4017 - acc: 0.8617 - val_loss: 0.5274 - val_acc: 0.8263\n"
          ],
          "name": "stdout"
        }
      ]
    },
    {
      "metadata": {
        "id": "7Jbqwxp0fzhv",
        "colab_type": "code",
        "colab": {
          "autoexec": {
            "startup": false,
            "wait_interval": 0
          }
        }
      },
      "cell_type": "code",
      "source": [
        "saved_file = dir + 'cifar10_simple_wrn_2_1_model.hdf5'\n",
        "model.save(saved_file)"
      ],
      "execution_count": 0,
      "outputs": []
    },
    {
      "metadata": {
        "id": "lvmKV8czZ-8O",
        "colab_type": "code",
        "colab": {
          "autoexec": {
            "startup": false,
            "wait_interval": 0
          },
          "output_extras": [
            {
              "item_id": 39
            },
            {
              "item_id": 40
            }
          ],
          "base_uri": "https://localhost:8080/",
          "height": 51
        },
        "outputId": "da29c8fe-c08f-45fa-90c3-5dfa41578d0b",
        "executionInfo": {
          "status": "ok",
          "timestamp": 1520292365890,
          "user_tz": 0,
          "elapsed": 9840,
          "user": {
            "displayName": "Rajesh Reddy",
            "photoUrl": "https://lh3.googleusercontent.com/a/default-user=s128",
            "userId": "103144225072240607929"
          }
        }
      },
      "cell_type": "code",
      "source": [
        "model.evaluate(x=testImages, y=testLabels, batch_size=10)"
      ],
      "execution_count": 32,
      "outputs": [
        {
          "output_type": "stream",
          "text": [
            "10000/10000 [==============================] - 9s 942us/step\n"
          ],
          "name": "stdout"
        },
        {
          "output_type": "execute_result",
          "data": {
            "text/plain": [
              "[0.5273698835282121, 0.8262999962568283]"
            ]
          },
          "metadata": {
            "tags": []
          },
          "execution_count": 32
        }
      ]
    },
    {
      "metadata": {
        "id": "I5xSdibVUQ0-",
        "colab_type": "code",
        "colab": {
          "autoexec": {
            "startup": false,
            "wait_interval": 0
          },
          "output_extras": [
            {
              "item_id": 1
            },
            {
              "item_id": 2
            },
            {
              "item_id": 3
            }
          ],
          "base_uri": "https://localhost:8080/",
          "height": 752
        },
        "outputId": "77b7f925-1c7b-4b27-b9e5-954c3d0766a6",
        "executionInfo": {
          "status": "ok",
          "timestamp": 1520292369325,
          "user_tz": 0,
          "elapsed": 1078,
          "user": {
            "displayName": "Rajesh Reddy",
            "photoUrl": "https://lh3.googleusercontent.com/a/default-user=s128",
            "userId": "103144225072240607929"
          }
        }
      },
      "cell_type": "code",
      "source": [
        "# Plot the graph\n",
        "print(history.history.keys())\n",
        "plt.plot(history.history['acc'])\n",
        "plt.plot(history.history['val_acc'])\n",
        "plt.title('model accuracy')\n",
        "plt.ylabel('accuracy')\n",
        "plt.xlabel('epoch')\n",
        "plt.legend(['train', 'test'], loc='upper left')\n",
        "plt.show()\n",
        "# summarize history for loss\n",
        "plt.plot(history.history['loss'])\n",
        "plt.plot(history.history['val_loss'])\n",
        "plt.title('model loss')\n",
        "plt.ylabel('loss')\n",
        "plt.xlabel('epoch')\n",
        "plt.legend(['train', 'test'], loc='upper left')\n",
        "plt.show()"
      ],
      "execution_count": 33,
      "outputs": [
        {
          "output_type": "stream",
          "text": [
            "dict_keys(['val_loss', 'val_acc', 'loss', 'acc'])\n"
          ],
          "name": "stdout"
        },
        {
          "output_type": "display_data",
          "data": {
            "image/png": "[encoded data removed]",
            "text/plain": [
              "<matplotlib.figure.Figure at 0x7fbb328ba208>"
            ]
          },
          "metadata": {
            "tags": []
          }
        },
        {
          "output_type": "display_data",
          "data": {
            "image/png": "[encoded data removed]",
            "text/plain": [
              "<matplotlib.figure.Figure at 0x7fbb328e2f98>"
            ]
          },
          "metadata": {
            "tags": []
          }
        }
      ]
    },
    {
      "metadata": {
        "id": "DQbcIYD18jRe",
        "colab_type": "code",
        "colab": {
          "autoexec": {
            "startup": false,
            "wait_interval": 0
          },
          "output_extras": [
            {
              "item_id": 1
            }
          ],
          "base_uri": "https://localhost:8080/",
          "height": 2151
        },
        "outputId": "0d61a76b-8e61-4c45-854d-b4197a552efa",
        "executionInfo": {
          "status": "ok",
          "timestamp": 1520288556751,
          "user_tz": 0,
          "elapsed": 492,
          "user": {
            "displayName": "Rajesh Reddy",
            "photoUrl": "https://lh3.googleusercontent.com/a/default-user=s128",
            "userId": "103144225072240607929"
          }
        }
      },
      "cell_type": "code",
      "source": [
        "model.summary()"
      ],
      "execution_count": 64,
      "outputs": [
        {
          "output_type": "stream",
          "text": [
            "__________________________________________________________________________________________________\n",
            "Layer (type)                    Output Shape         Param #     Connected to                     \n",
            "==================================================================================================\n",
            "input_1 (InputLayer)            (None, 32, 32, 3)    0                                            \n",
            "__________________________________________________________________________________________________\n",
            "batch_normalization_1 (BatchNor (None, 32, 32, 3)    12          input_1[0][0]                    \n",
            "__________________________________________________________________________________________________\n",
            "conv2d_1 (Conv2D)               (None, 32, 32, 16)   448         batch_normalization_1[0][0]      \n",
            "__________________________________________________________________________________________________\n",
            "batch_normalization_2 (BatchNor (None, 32, 32, 16)   64          conv2d_1[0][0]                   \n",
            "__________________________________________________________________________________________________\n",
            "activation_1 (Activation)       (None, 32, 32, 16)   0           batch_normalization_2[0][0]      \n",
            "__________________________________________________________________________________________________\n",
            "conv2d_2 (Conv2D)               (None, 32, 32, 16)   2320        activation_1[0][0]               \n",
            "__________________________________________________________________________________________________\n",
            "dropout_1 (Dropout)             (None, 32, 32, 16)   0           conv2d_2[0][0]                   \n",
            "__________________________________________________________________________________________________\n",
            "activation_2 (Activation)       (None, 32, 32, 16)   0           dropout_1[0][0]                  \n",
            "__________________________________________________________________________________________________\n",
            "conv2d_3 (Conv2D)               (None, 28, 28, 16)   6416        activation_2[0][0]               \n",
            "__________________________________________________________________________________________________\n",
            "conv2d_4 (Conv2D)               (None, 28, 28, 16)   6416        activation_1[0][0]               \n",
            "__________________________________________________________________________________________________\n",
            "add_1 (Add)                     (None, 28, 28, 16)   0           conv2d_3[0][0]                   \n",
            "                                                                 conv2d_4[0][0]                   \n",
            "__________________________________________________________________________________________________\n",
            "batch_normalization_3 (BatchNor (None, 28, 28, 16)   64          add_1[0][0]                      \n",
            "__________________________________________________________________________________________________\n",
            "activation_3 (Activation)       (None, 28, 28, 16)   0           batch_normalization_3[0][0]      \n",
            "__________________________________________________________________________________________________\n",
            "conv2d_5 (Conv2D)               (None, 28, 28, 16)   2320        activation_3[0][0]               \n",
            "__________________________________________________________________________________________________\n",
            "dropout_2 (Dropout)             (None, 28, 28, 16)   0           conv2d_5[0][0]                   \n",
            "__________________________________________________________________________________________________\n",
            "activation_4 (Activation)       (None, 28, 28, 16)   0           dropout_2[0][0]                  \n",
            "__________________________________________________________________________________________________\n",
            "conv2d_6 (Conv2D)               (None, 24, 24, 16)   6416        activation_4[0][0]               \n",
            "__________________________________________________________________________________________________\n",
            "conv2d_7 (Conv2D)               (None, 24, 24, 16)   6416        activation_3[0][0]               \n",
            "__________________________________________________________________________________________________\n",
            "add_2 (Add)                     (None, 24, 24, 16)   0           conv2d_6[0][0]                   \n",
            "                                                                 conv2d_7[0][0]                   \n",
            "__________________________________________________________________________________________________\n",
            "batch_normalization_4 (BatchNor (None, 24, 24, 16)   64          add_2[0][0]                      \n",
            "__________________________________________________________________________________________________\n",
            "activation_5 (Activation)       (None, 24, 24, 16)   0           batch_normalization_4[0][0]      \n",
            "__________________________________________________________________________________________________\n",
            "conv2d_8 (Conv2D)               (None, 24, 24, 32)   4640        activation_5[0][0]               \n",
            "__________________________________________________________________________________________________\n",
            "dropout_3 (Dropout)             (None, 24, 24, 32)   0           conv2d_8[0][0]                   \n",
            "__________________________________________________________________________________________________\n",
            "activation_6 (Activation)       (None, 24, 24, 32)   0           dropout_3[0][0]                  \n",
            "__________________________________________________________________________________________________\n",
            "conv2d_9 (Conv2D)               (None, 20, 20, 32)   25632       activation_6[0][0]               \n",
            "__________________________________________________________________________________________________\n",
            "conv2d_10 (Conv2D)              (None, 20, 20, 32)   12832       activation_5[0][0]               \n",
            "__________________________________________________________________________________________________\n",
            "add_3 (Add)                     (None, 20, 20, 32)   0           conv2d_9[0][0]                   \n",
            "                                                                 conv2d_10[0][0]                  \n",
            "__________________________________________________________________________________________________\n",
            "batch_normalization_5 (BatchNor (None, 20, 20, 32)   128         add_3[0][0]                      \n",
            "__________________________________________________________________________________________________\n",
            "activation_7 (Activation)       (None, 20, 20, 32)   0           batch_normalization_5[0][0]      \n",
            "__________________________________________________________________________________________________\n",
            "conv2d_11 (Conv2D)              (None, 20, 20, 32)   9248        activation_7[0][0]               \n",
            "__________________________________________________________________________________________________\n",
            "dropout_4 (Dropout)             (None, 20, 20, 32)   0           conv2d_11[0][0]                  \n",
            "__________________________________________________________________________________________________\n",
            "activation_8 (Activation)       (None, 20, 20, 32)   0           dropout_4[0][0]                  \n",
            "__________________________________________________________________________________________________\n",
            "conv2d_12 (Conv2D)              (None, 16, 16, 32)   25632       activation_8[0][0]               \n",
            "__________________________________________________________________________________________________\n",
            "conv2d_13 (Conv2D)              (None, 16, 16, 32)   25632       activation_7[0][0]               \n",
            "__________________________________________________________________________________________________\n",
            "add_4 (Add)                     (None, 16, 16, 32)   0           conv2d_12[0][0]                  \n",
            "                                                                 conv2d_13[0][0]                  \n",
            "__________________________________________________________________________________________________\n",
            "batch_normalization_6 (BatchNor (None, 16, 16, 32)   128         add_4[0][0]                      \n",
            "__________________________________________________________________________________________________\n",
            "activation_9 (Activation)       (None, 16, 16, 32)   0           batch_normalization_6[0][0]      \n",
            "__________________________________________________________________________________________________\n",
            "conv2d_14 (Conv2D)              (None, 16, 16, 64)   18496       activation_9[0][0]               \n",
            "__________________________________________________________________________________________________\n",
            "dropout_5 (Dropout)             (None, 16, 16, 64)   0           conv2d_14[0][0]                  \n",
            "__________________________________________________________________________________________________\n",
            "activation_10 (Activation)      (None, 16, 16, 64)   0           dropout_5[0][0]                  \n",
            "__________________________________________________________________________________________________\n",
            "conv2d_15 (Conv2D)              (None, 12, 12, 64)   102464      activation_10[0][0]              \n",
            "__________________________________________________________________________________________________\n",
            "conv2d_16 (Conv2D)              (None, 12, 12, 64)   51264       activation_9[0][0]               \n",
            "__________________________________________________________________________________________________\n",
            "add_5 (Add)                     (None, 12, 12, 64)   0           conv2d_15[0][0]                  \n",
            "                                                                 conv2d_16[0][0]                  \n",
            "__________________________________________________________________________________________________\n",
            "batch_normalization_7 (BatchNor (None, 12, 12, 64)   256         add_5[0][0]                      \n",
            "__________________________________________________________________________________________________\n",
            "activation_11 (Activation)      (None, 12, 12, 64)   0           batch_normalization_7[0][0]      \n",
            "__________________________________________________________________________________________________\n",
            "conv2d_17 (Conv2D)              (None, 12, 12, 64)   36928       activation_11[0][0]              \n",
            "__________________________________________________________________________________________________\n",
            "dropout_6 (Dropout)             (None, 12, 12, 64)   0           conv2d_17[0][0]                  \n",
            "__________________________________________________________________________________________________\n",
            "activation_12 (Activation)      (None, 12, 12, 64)   0           dropout_6[0][0]                  \n",
            "__________________________________________________________________________________________________\n",
            "conv2d_18 (Conv2D)              (None, 8, 8, 64)     102464      activation_12[0][0]              \n",
            "__________________________________________________________________________________________________\n",
            "conv2d_19 (Conv2D)              (None, 8, 8, 64)     102464      activation_11[0][0]              \n",
            "__________________________________________________________________________________________________\n",
            "add_6 (Add)                     (None, 8, 8, 64)     0           conv2d_18[0][0]                  \n",
            "                                                                 conv2d_19[0][0]                  \n",
            "__________________________________________________________________________________________________\n",
            "batch_normalization_8 (BatchNor (None, 8, 8, 64)     256         add_6[0][0]                      \n",
            "__________________________________________________________________________________________________\n",
            "activation_13 (Activation)      (None, 8, 8, 64)     0           batch_normalization_8[0][0]      \n",
            "__________________________________________________________________________________________________\n",
            "max_pooling2d_1 (MaxPooling2D)  (None, 1, 1, 64)     0           activation_13[0][0]              \n",
            "__________________________________________________________________________________________________\n",
            "flatten_1 (Flatten)             (None, 64)           0           max_pooling2d_1[0][0]            \n",
            "__________________________________________________________________________________________________\n",
            "dense_1 (Dense)                 (None, 10)           650         flatten_1[0][0]                  \n",
            "__________________________________________________________________________________________________\n",
            "activation_14 (Activation)      (None, 10)           0           dense_1[0][0]                    \n",
            "==================================================================================================\n",
            "Total params: 550,070\n",
            "Trainable params: 549,584\n",
            "Non-trainable params: 486\n",
            "__________________________________________________________________________________________________\n"
          ],
          "name": "stdout"
        }
      ]
    }
  ]
}
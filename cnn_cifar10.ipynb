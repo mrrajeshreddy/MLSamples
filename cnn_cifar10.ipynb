{
  "nbformat": 4,
  "nbformat_minor": 0,
  "metadata": {
    "colab": {
      "name": "cnn_cifar10.ipynb",
      "version": "0.3.2",
      "views": {},
      "default_view": {},
      "provenance": [],
      "collapsed_sections": []
    },
    "kernelspec": {
      "name": "python3",
      "display_name": "Python 3"
    },
    "accelerator": "GPU"
  },
  "cells": [
    {
      "metadata": {
        "id": "JxKYWpVeYe6e",
        "colab_type": "text"
      },
      "cell_type": "markdown",
      "source": [
        "# CIFAR-10 data classification using CNN"
      ]
    },
    {
      "metadata": {
        "id": "sZYnASRBYkcy",
        "colab_type": "text"
      },
      "cell_type": "markdown",
      "source": [
        "## Load CIFAR data from Keras"
      ]
    },
    {
      "metadata": {
        "id": "sVPzZJAuBZcK",
        "colab_type": "code",
        "colab": {
          "autoexec": {
            "startup": false,
            "wait_interval": 0
          },
          "output_extras": [
            {
              "item_id": 5
            }
          ],
          "base_uri": "https://localhost:8080/",
          "height": 168
        },
        "outputId": "474d5b72-4a73-4835-f9ea-311ef0c1f198",
        "executionInfo": {
          "status": "ok",
          "timestamp": 1519937225709,
          "user_tz": 0,
          "elapsed": 2869,
          "user": {
            "displayName": "Rajesh Reddy",
            "photoUrl": "//lh3.googleusercontent.com/-Cw04_nciGC0/AAAAAAAAAAI/AAAAAAABD-0/wfiNoPHmgi4/s50-c-k-no/photo.jpg",
            "userId": "106015002215140560112"
          }
        }
      },
      "cell_type": "code",
      "source": [
        "!pip install keras"
      ],
      "execution_count": 1,
      "outputs": [
        {
          "output_type": "stream",
          "text": [
            "Collecting keras\n",
            "  Downloading Keras-2.1.4-py2.py3-none-any.whl (322kB)\n",
            "\u001b[K    100% |████████████████████████████████| 327kB 2.4MB/s \n",
            "\u001b[?25hRequirement already satisfied: six>=1.9.0 in /usr/local/lib/python3.6/dist-packages (from keras)\n",
            "Requirement already satisfied: numpy>=1.9.1 in /usr/local/lib/python3.6/dist-packages (from keras)\n",
            "Requirement already satisfied: pyyaml in /usr/local/lib/python3.6/dist-packages (from keras)\n",
            "Requirement already satisfied: scipy>=0.14 in /usr/local/lib/python3.6/dist-packages (from keras)\n",
            "Installing collected packages: keras\n",
            "Successfully installed keras-2.1.4\n"
          ],
          "name": "stdout"
        }
      ]
    },
    {
      "metadata": {
        "id": "tZBVZNsfB3wj",
        "colab_type": "code",
        "colab": {
          "autoexec": {
            "startup": false,
            "wait_interval": 0
          },
          "output_extras": [
            {
              "item_id": 1
            }
          ],
          "base_uri": "https://localhost:8080/",
          "height": 34
        },
        "outputId": "1a0417bf-e897-481a-abd2-c1a1e3aef9f3",
        "executionInfo": {
          "status": "ok",
          "timestamp": 1520016267480,
          "user_tz": 0,
          "elapsed": 2194,
          "user": {
            "displayName": "Rajesh Reddy",
            "photoUrl": "//lh3.googleusercontent.com/-Cw04_nciGC0/AAAAAAAAAAI/AAAAAAABD-0/wfiNoPHmgi4/s50-c-k-no/photo.jpg",
            "userId": "106015002215140560112"
          }
        }
      },
      "cell_type": "code",
      "source": [
        "import tensorflow as tf\n",
        "device_name = tf.test.gpu_device_name()\n",
        "if device_name != '/device:GPU:0':\n",
        "  raise SystemError('GPU device not found')\n",
        "print('Found GPU at: {}'.format(device_name))"
      ],
      "execution_count": 1,
      "outputs": [
        {
          "output_type": "stream",
          "text": [
            "Found GPU at: /device:GPU:0\n"
          ],
          "name": "stdout"
        }
      ]
    },
    {
      "metadata": {
        "id": "6JWHZTodBlK6",
        "colab_type": "code",
        "colab": {
          "autoexec": {
            "startup": false,
            "wait_interval": 0
          },
          "output_extras": [
            {
              "item_id": 1
            }
          ],
          "base_uri": "https://localhost:8080/",
          "height": 34
        },
        "outputId": "b10eea66-f275-41da-cea0-71695e93c533",
        "executionInfo": {
          "status": "ok",
          "timestamp": 1519937233312,
          "user_tz": 0,
          "elapsed": 7568,
          "user": {
            "displayName": "Rajesh Reddy",
            "photoUrl": "//lh3.googleusercontent.com/-Cw04_nciGC0/AAAAAAAAAAI/AAAAAAABD-0/wfiNoPHmgi4/s50-c-k-no/photo.jpg",
            "userId": "106015002215140560112"
          }
        }
      },
      "cell_type": "code",
      "source": [
        "import numpy as np\n",
        "import matplotlib.pyplot as plt\n",
        "import pickle\n",
        "from keras.datasets import cifar10"
      ],
      "execution_count": 2,
      "outputs": [
        {
          "output_type": "stream",
          "text": [
            "Using TensorFlow backend.\n"
          ],
          "name": "stderr"
        }
      ]
    },
    {
      "metadata": {
        "id": "IJlmDIXrB_JY",
        "colab_type": "code",
        "colab": {
          "autoexec": {
            "startup": false,
            "wait_interval": 0
          },
          "output_extras": [
            {
              "item_id": 88
            }
          ],
          "base_uri": "https://localhost:8080/",
          "height": 51
        },
        "outputId": "384197f5-984e-4603-c407-6df644d428f4",
        "executionInfo": {
          "status": "ok",
          "timestamp": 1519937257761,
          "user_tz": 0,
          "elapsed": 24437,
          "user": {
            "displayName": "Rajesh Reddy",
            "photoUrl": "//lh3.googleusercontent.com/-Cw04_nciGC0/AAAAAAAAAAI/AAAAAAABD-0/wfiNoPHmgi4/s50-c-k-no/photo.jpg",
            "userId": "106015002215140560112"
          }
        }
      },
      "cell_type": "code",
      "source": [
        "(trainImages, trainLabels), (testImages, testLabels) = cifar10.load_data()"
      ],
      "execution_count": 3,
      "outputs": [
        {
          "output_type": "stream",
          "text": [
            "Downloading data from https://www.cs.toronto.edu/~kriz/cifar-10-python.tar.gz\n",
            "170500096/170498071 [==============================] - 22s 0us/step\n"
          ],
          "name": "stdout"
        }
      ]
    },
    {
      "metadata": {
        "id": "DdfHQmC8CrHM",
        "colab_type": "code",
        "colab": {
          "autoexec": {
            "startup": false,
            "wait_interval": 0
          },
          "output_extras": [
            {
              "item_id": 1
            }
          ],
          "base_uri": "https://localhost:8080/",
          "height": 51
        },
        "outputId": "0f538c96-8781-4f9d-8459-ff38775612bd",
        "executionInfo": {
          "status": "ok",
          "timestamp": 1519937258081,
          "user_tz": 0,
          "elapsed": 300,
          "user": {
            "displayName": "Rajesh Reddy",
            "photoUrl": "//lh3.googleusercontent.com/-Cw04_nciGC0/AAAAAAAAAAI/AAAAAAABD-0/wfiNoPHmgi4/s50-c-k-no/photo.jpg",
            "userId": "106015002215140560112"
          }
        }
      },
      "cell_type": "code",
      "source": [
        "print(('Training Images', trainImages.shape),('Training Labels',trainLabels.shape))\n",
        "print(('Test Images', testImages.shape),('Test Labels',testLabels.shape))"
      ],
      "execution_count": 4,
      "outputs": [
        {
          "output_type": "stream",
          "text": [
            "('Training Images', (50000, 32, 32, 3)) ('Training Labels', (50000, 1))\n",
            "('Test Images', (10000, 32, 32, 3)) ('Test Labels', (10000, 1))\n"
          ],
          "name": "stdout"
        }
      ]
    },
    {
      "metadata": {
        "id": "2jIJpfjfMBuA",
        "colab_type": "code",
        "colab": {
          "autoexec": {
            "startup": false,
            "wait_interval": 0
          }
        }
      },
      "cell_type": "code",
      "source": [
        "def load_labels():\n",
        "  #execute this command for the path\n",
        "  #!ls ~/.keras/datasets/cifar-10-batches-py/batches.meta \n",
        "  filename = '/content/.keras/datasets/cifar-10-batches-py/batches.meta'\n",
        "  labelsdict = None\n",
        "  labels = []\n",
        "  with open(filename, 'rb') as file:\n",
        "    labelsdict = pickle.load(file,encoding='bytes')\n",
        "  labels = [ x.decode('utf-8') for x in labelsdict[b'label_names'] ]\n",
        "  return labels"
      ],
      "execution_count": 0,
      "outputs": []
    },
    {
      "metadata": {
        "id": "pT4Sxv96MVhO",
        "colab_type": "code",
        "colab": {
          "autoexec": {
            "startup": false,
            "wait_interval": 0
          },
          "output_extras": [
            {
              "item_id": 1
            }
          ],
          "base_uri": "https://localhost:8080/",
          "height": 34
        },
        "outputId": "ff678088-d1a2-4b20-8655-e00df09e02a7",
        "executionInfo": {
          "status": "ok",
          "timestamp": 1519937259067,
          "user_tz": 0,
          "elapsed": 395,
          "user": {
            "displayName": "Rajesh Reddy",
            "photoUrl": "//lh3.googleusercontent.com/-Cw04_nciGC0/AAAAAAAAAAI/AAAAAAABD-0/wfiNoPHmgi4/s50-c-k-no/photo.jpg",
            "userId": "106015002215140560112"
          }
        }
      },
      "cell_type": "code",
      "source": [
        "labels = load_labels()\n",
        "print(labels)"
      ],
      "execution_count": 6,
      "outputs": [
        {
          "output_type": "stream",
          "text": [
            "['airplane', 'automobile', 'bird', 'cat', 'deer', 'dog', 'frog', 'horse', 'ship', 'truck']\n"
          ],
          "name": "stdout"
        }
      ]
    },
    {
      "metadata": {
        "id": "6miirwtDCK35",
        "colab_type": "code",
        "colab": {
          "autoexec": {
            "startup": false,
            "wait_interval": 0
          },
          "output_extras": [
            {
              "item_id": 1
            }
          ],
          "base_uri": "https://localhost:8080/",
          "height": 226
        },
        "outputId": "c22914a3-f61d-473e-b244-f9d1420dd882",
        "executionInfo": {
          "status": "ok",
          "timestamp": 1519937260121,
          "user_tz": 0,
          "elapsed": 934,
          "user": {
            "displayName": "Rajesh Reddy",
            "photoUrl": "//lh3.googleusercontent.com/-Cw04_nciGC0/AAAAAAAAAAI/AAAAAAABD-0/wfiNoPHmgi4/s50-c-k-no/photo.jpg",
            "userId": "106015002215140560112"
          }
        }
      },
      "cell_type": "code",
      "source": [
        "fig = plt.figure(figsize=(3,3))\n",
        "figrows = 2\n",
        "figcols = 2\n",
        "fig.add_subplot(figrows, figcols, 1)\n",
        "plt.imshow(trainImages[1000])\n",
        "plt.title(labels[trainLabels[1000][0]])\n",
        "fig.add_subplot(figrows, figcols, 2)\n",
        "plt.imshow(trainImages[10000])\n",
        "plt.title(labels[trainLabels[10000][0]])\n",
        "fig.add_subplot(figrows, figcols, 3)\n",
        "plt.imshow(testImages[1000])\n",
        "plt.title(labels[testLabels[1000][0]])\n",
        "fig.add_subplot(figrows, figcols, 4)\n",
        "plt.imshow(testImages[5000])\n",
        "plt.title(labels[testLabels[5000][0]])\n",
        "fig.subplots_adjust(hspace=0.5)\n",
        "plt.show()"
      ],
      "execution_count": 7,
      "outputs": [
        {
          "output_type": "display_data",
          "data": {
            "image/png": "[encoded data removed]",
            "text/plain": [
              "<matplotlib.figure.Figure at 0x7f9bfcf23400>"
            ]
          },
          "metadata": {
            "tags": []
          }
        }
      ]
    },
    {
      "metadata": {
        "id": "wv1--KN5Yc2b",
        "colab_type": "text"
      },
      "cell_type": "markdown",
      "source": [
        "## Prepare data for training"
      ]
    },
    {
      "metadata": {
        "id": "vqkVU6HuYcTc",
        "colab_type": "code",
        "colab": {
          "autoexec": {
            "startup": false,
            "wait_interval": 0
          }
        }
      },
      "cell_type": "code",
      "source": [
        "from keras.utils import to_categorical"
      ],
      "execution_count": 0,
      "outputs": []
    },
    {
      "metadata": {
        "id": "9BC9A1c1iqMS",
        "colab_type": "code",
        "colab": {
          "autoexec": {
            "startup": false,
            "wait_interval": 0
          }
        }
      },
      "cell_type": "code",
      "source": [
        "trainImages = trainImages.astype(np.float32) / 255\n",
        "trainLabels = to_categorical(trainLabels, num_classes=10)\n",
        "testImages = testImages.astype(np.float32) / 255\n",
        "testLabels = to_categorical(testLabels, num_classes=10)"
      ],
      "execution_count": 0,
      "outputs": []
    },
    {
      "metadata": {
        "id": "g2pOYnUFlnRu",
        "colab_type": "code",
        "colab": {
          "autoexec": {
            "startup": false,
            "wait_interval": 0
          },
          "output_extras": [
            {
              "item_id": 1
            }
          ],
          "base_uri": "https://localhost:8080/",
          "height": 51
        },
        "outputId": "3d6d8fc7-a2bb-468d-8f68-e61a63589823",
        "executionInfo": {
          "status": "ok",
          "timestamp": 1519937262081,
          "user_tz": 0,
          "elapsed": 399,
          "user": {
            "displayName": "Rajesh Reddy",
            "photoUrl": "//lh3.googleusercontent.com/-Cw04_nciGC0/AAAAAAAAAAI/AAAAAAABD-0/wfiNoPHmgi4/s50-c-k-no/photo.jpg",
            "userId": "106015002215140560112"
          }
        }
      },
      "cell_type": "code",
      "source": [
        "print(('Train Images', trainImages.shape), ('Train Labels', trainLabels.shape))\n",
        "print(('Test Images', testImages.shape), ('Test Labels', testLabels.shape))"
      ],
      "execution_count": 10,
      "outputs": [
        {
          "output_type": "stream",
          "text": [
            "('Train Images', (50000, 32, 32, 3)) ('Train Labels', (50000, 10))\n",
            "('Test Images', (10000, 32, 32, 3)) ('Test Labels', (10000, 10))\n"
          ],
          "name": "stdout"
        }
      ]
    },
    {
      "metadata": {
        "id": "ngpCG57Grm9g",
        "colab_type": "text"
      },
      "cell_type": "markdown",
      "source": [
        "## Build model"
      ]
    },
    {
      "metadata": {
        "id": "K3z7rhtNruol",
        "colab_type": "code",
        "colab": {
          "autoexec": {
            "startup": false,
            "wait_interval": 0
          }
        }
      },
      "cell_type": "code",
      "source": [
        "from keras.layers import Input, ZeroPadding2D\n",
        "from keras.layers import Conv2D, Activation\n",
        "from keras.layers import MaxPooling2D, Dropout, BatchNormalization\n",
        "from keras.layers import Flatten, Dense\n",
        "from keras.models import Model\n",
        "import keras.backend as K"
      ],
      "execution_count": 0,
      "outputs": []
    },
    {
      "metadata": {
        "id": "4-LkbIvSsgcl",
        "colab_type": "code",
        "colab": {
          "autoexec": {
            "startup": false,
            "wait_interval": 0
          }
        }
      },
      "cell_type": "code",
      "source": [
        "K.set_image_data_format('channels_last')"
      ],
      "execution_count": 0,
      "outputs": []
    },
    {
      "metadata": {
        "id": "3PFtkk97sqZg",
        "colab_type": "code",
        "colab": {
          "autoexec": {
            "startup": false,
            "wait_interval": 0
          }
        }
      },
      "cell_type": "code",
      "source": [
        "def build_model(input_shape=(32, 32, 3), num_classes=10):\n",
        "  X = Input(input_shape)\n",
        "  \n",
        "  Y = ZeroPadding2D(padding=(3,3))(X)\n",
        "  \n",
        "  Y = Conv2D(64, (3,3), padding='same')(Y)\n",
        "  Y = BatchNormalization(axis=-1)(Y)\n",
        "  Y = Activation('relu')(Y)\n",
        "  Y = Conv2D(64, (3,3), padding='valid')(Y)\n",
        "  Y = BatchNormalization(axis=-1)(Y)\n",
        "  Y = Activation('relu')(Y)\n",
        "  Y = MaxPooling2D()(Y)\n",
        "  \n",
        "  Y = Dropout(0.1)(Y)\n",
        "  Y = Conv2D(128, (3,3), padding='same')(Y)\n",
        "  Y = BatchNormalization(axis=-1)(Y)\n",
        "  Y = Activation('relu')(Y)\n",
        "  Y = Conv2D(128, (3,3), padding='valid')(Y)\n",
        "  Y = BatchNormalization(axis=-1)(Y)\n",
        "  Y = Activation('relu')(Y)\n",
        "  Y = MaxPooling2D()(Y)\n",
        "  \n",
        "  Y = Dropout(0.25)(Y)\n",
        "  Y = Conv2D(512, (3,3), padding='same')(Y)\n",
        "  Y = BatchNormalization(axis=-1)(Y)\n",
        "  Y = Activation('relu')(Y)\n",
        "  Y = Conv2D(512, (3,3), padding='valid')(Y)\n",
        "  Y = BatchNormalization(axis=-1)(Y)\n",
        "  Y = Activation('relu')(Y)\n",
        "  Y = MaxPooling2D()(Y)\n",
        "  \n",
        "  Y = Dropout(0.25)(Y)\n",
        "  Y = Flatten()(Y)\n",
        "  Y = Dense(512)(Y)\n",
        "  Y = Activation('relu')(Y)\n",
        "  \n",
        "  Y = Dropout(0.5)(Y)\n",
        "  Y = Dense(10)(Y)\n",
        "  Y = Activation('softmax')(Y)\n",
        "  \n",
        "  model = Model(inputs=X, outputs=Y)\n",
        "  return model\n",
        "  "
      ],
      "execution_count": 0,
      "outputs": []
    },
    {
      "metadata": {
        "id": "vqKAYd8yxdYc",
        "colab_type": "text"
      },
      "cell_type": "markdown",
      "source": [
        "Build and compile model"
      ]
    },
    {
      "metadata": {
        "id": "vLQP8h8OxatV",
        "colab_type": "code",
        "colab": {
          "autoexec": {
            "startup": false,
            "wait_interval": 0
          }
        }
      },
      "cell_type": "code",
      "source": [
        "from keras import optimizers, losses"
      ],
      "execution_count": 0,
      "outputs": []
    },
    {
      "metadata": {
        "id": "vAjMHp_KxkGf",
        "colab_type": "code",
        "colab": {
          "autoexec": {
            "startup": false,
            "wait_interval": 0
          }
        }
      },
      "cell_type": "code",
      "source": [
        "K.clear_session()\n",
        "model = build_model()"
      ],
      "execution_count": 0,
      "outputs": []
    },
    {
      "metadata": {
        "id": "M7IBMpHExvJg",
        "colab_type": "code",
        "colab": {
          "autoexec": {
            "startup": false,
            "wait_interval": 0
          }
        }
      },
      "cell_type": "code",
      "source": [
        "model.compile(optimizer=optimizers.RMSprop(), loss=losses.categorical_crossentropy, metrics=['accuracy'])"
      ],
      "execution_count": 0,
      "outputs": []
    },
    {
      "metadata": {
        "id": "_uxRRKnTyW16",
        "colab_type": "code",
        "colab": {
          "autoexec": {
            "startup": false,
            "wait_interval": 0
          },
          "output_extras": [
            {
              "item_id": 261
            },
            {
              "item_id": 422
            },
            {
              "item_id": 487
            },
            {
              "item_id": 560
            },
            {
              "item_id": 634
            },
            {
              "item_id": 719
            },
            {
              "item_id": 795
            },
            {
              "item_id": 870
            },
            {
              "item_id": 947
            },
            {
              "item_id": 1023
            },
            {
              "item_id": 1098
            },
            {
              "item_id": 1175
            },
            {
              "item_id": 1250
            },
            {
              "item_id": 1325
            },
            {
              "item_id": 1402
            },
            {
              "item_id": 1477
            },
            {
              "item_id": 1553
            },
            {
              "item_id": 1630
            },
            {
              "item_id": 1705
            },
            {
              "item_id": 1775
            },
            {
              "item_id": 1851
            },
            {
              "item_id": 1926
            },
            {
              "item_id": 2001
            },
            {
              "item_id": 2076
            },
            {
              "item_id": 2153
            },
            {
              "item_id": 2205
            }
          ],
          "base_uri": "https://localhost:8080/",
          "height": 894
        },
        "outputId": "eadac4cc-f807-459e-82eb-44b0448b70bb",
        "executionInfo": {
          "status": "ok",
          "timestamp": 1519939229963,
          "user_tz": 0,
          "elapsed": 1963382,
          "user": {
            "displayName": "Rajesh Reddy",
            "photoUrl": "//lh3.googleusercontent.com/-Cw04_nciGC0/AAAAAAAAAAI/AAAAAAABD-0/wfiNoPHmgi4/s50-c-k-no/photo.jpg",
            "userId": "106015002215140560112"
          }
        }
      },
      "cell_type": "code",
      "source": [
        "history = model.fit(x=trainImages, y=trainLabels, batch_size=64, epochs=25, validation_data=(testImages, testLabels))"
      ],
      "execution_count": 17,
      "outputs": [
        {
          "output_type": "stream",
          "text": [
            "Train on 50000 samples, validate on 10000 samples\n",
            "Epoch 1/25\n",
            "43776/50000 [=========================>....] - ETA: 9s - loss: 2.0138 - acc: 0.3451"
          ],
          "name": "stdout"
        },
        {
          "output_type": "stream",
          "text": [
            "50000/50000 [==============================] - 82s 2ms/step - loss: 1.9451 - acc: 0.3610 - val_loss: 1.5505 - val_acc: 0.4770\n",
            "Epoch 2/25\n",
            "26432/50000 [==============>...............] - ETA: 34s - loss: 1.3365 - acc: 0.5204"
          ],
          "name": "stdout"
        },
        {
          "output_type": "stream",
          "text": [
            "50000/50000 [==============================] - 78s 2ms/step - loss: 1.2754 - acc: 0.5456 - val_loss: 1.3268 - val_acc: 0.5713\n",
            "Epoch 3/25\n",
            "19840/50000 [==========>...................] - ETA: 44s - loss: 1.1067 - acc: 0.6081"
          ],
          "name": "stdout"
        },
        {
          "output_type": "stream",
          "text": [
            "50000/50000 [==============================] - 78s 2ms/step - loss: 1.0528 - acc: 0.6299 - val_loss: 1.1543 - val_acc: 0.5757\n",
            "Epoch 4/25\n",
            "17408/50000 [=========>....................] - ETA: 48s - loss: 0.9200 - acc: 0.6782"
          ],
          "name": "stdout"
        },
        {
          "output_type": "stream",
          "text": [
            "50000/50000 [==============================] - 78s 2ms/step - loss: 0.8737 - acc: 0.6985 - val_loss: 0.9445 - val_acc: 0.6763\n",
            "Epoch 5/25\n",
            "16448/50000 [========>.....................] - ETA: 49s - loss: 0.7463 - acc: 0.7461"
          ],
          "name": "stdout"
        },
        {
          "output_type": "stream",
          "text": [
            "50000/50000 [==============================] - 78s 2ms/step - loss: 0.7257 - acc: 0.7561 - val_loss: 0.9129 - val_acc: 0.6876\n",
            "Epoch 6/25\n",
            "16064/50000 [========>.....................] - ETA: 50s - loss: 0.6209 - acc: 0.7928"
          ],
          "name": "stdout"
        },
        {
          "output_type": "stream",
          "text": [
            "50000/50000 [==============================] - 78s 2ms/step - loss: 0.6209 - acc: 0.7935 - val_loss: 0.8597 - val_acc: 0.7016\n",
            "Epoch 7/25\n",
            "15936/50000 [========>.....................] - ETA: 50s - loss: 0.5477 - acc: 0.8157"
          ],
          "name": "stdout"
        },
        {
          "output_type": "stream",
          "text": [
            "50000/50000 [==============================] - 78s 2ms/step - loss: 0.5567 - acc: 0.8147 - val_loss: 0.7611 - val_acc: 0.7519\n",
            "Epoch 8/25\n",
            "15808/50000 [========>.....................] - ETA: 50s - loss: 0.4994 - acc: 0.8360"
          ],
          "name": "stdout"
        },
        {
          "output_type": "stream",
          "text": [
            "50000/50000 [==============================] - 78s 2ms/step - loss: 0.5106 - acc: 0.8349 - val_loss: 0.7634 - val_acc: 0.7473\n",
            "Epoch 9/25\n",
            "15872/50000 [========>.....................] - ETA: 50s - loss: 0.4518 - acc: 0.8504"
          ],
          "name": "stdout"
        },
        {
          "output_type": "stream",
          "text": [
            "50000/50000 [==============================] - 78s 2ms/step - loss: 0.4717 - acc: 0.8474 - val_loss: 0.7898 - val_acc: 0.7314\n",
            "Epoch 10/25\n",
            "15808/50000 [========>.....................] - ETA: 50s - loss: 0.4355 - acc: 0.8580"
          ],
          "name": "stdout"
        },
        {
          "output_type": "stream",
          "text": [
            "50000/50000 [==============================] - 78s 2ms/step - loss: 0.4498 - acc: 0.8559 - val_loss: 0.8050 - val_acc: 0.7319\n",
            "Epoch 11/25\n",
            "15744/50000 [========>.....................] - ETA: 50s - loss: 0.4120 - acc: 0.8716"
          ],
          "name": "stdout"
        },
        {
          "output_type": "stream",
          "text": [
            "50000/50000 [==============================] - 78s 2ms/step - loss: 0.4274 - acc: 0.8651 - val_loss: 0.5853 - val_acc: 0.8102\n",
            "Epoch 12/25\n",
            "15744/50000 [========>.....................] - ETA: 50s - loss: 0.4083 - acc: 0.8716"
          ],
          "name": "stdout"
        },
        {
          "output_type": "stream",
          "text": [
            "50000/50000 [==============================] - 78s 2ms/step - loss: 0.4207 - acc: 0.8708 - val_loss: 0.5296 - val_acc: 0.8369\n",
            "Epoch 13/25\n",
            "15744/50000 [========>.....................] - ETA: 50s - loss: 0.3839 - acc: 0.8783"
          ],
          "name": "stdout"
        },
        {
          "output_type": "stream",
          "text": [
            "50000/50000 [==============================] - 78s 2ms/step - loss: 0.4122 - acc: 0.8745 - val_loss: 0.6014 - val_acc: 0.8096\n",
            "Epoch 14/25\n",
            "15680/50000 [========>.....................] - ETA: 50s - loss: 0.3979 - acc: 0.8833"
          ],
          "name": "stdout"
        },
        {
          "output_type": "stream",
          "text": [
            "50000/50000 [==============================] - 78s 2ms/step - loss: 0.4213 - acc: 0.8763 - val_loss: 0.6061 - val_acc: 0.8139\n",
            "Epoch 15/25\n",
            "15744/50000 [========>.....................] - ETA: 50s - loss: 0.3864 - acc: 0.8887"
          ],
          "name": "stdout"
        },
        {
          "output_type": "stream",
          "text": [
            "50000/50000 [==============================] - 78s 2ms/step - loss: 0.3992 - acc: 0.8819 - val_loss: 0.6938 - val_acc: 0.7941\n",
            "Epoch 16/25\n",
            "15744/50000 [========>.....................] - ETA: 50s - loss: 0.4085 - acc: 0.8870"
          ],
          "name": "stdout"
        },
        {
          "output_type": "stream",
          "text": [
            "50000/50000 [==============================] - 78s 2ms/step - loss: 0.4051 - acc: 0.8864 - val_loss: 0.5799 - val_acc: 0.8366\n",
            "Epoch 17/25\n",
            "15744/50000 [========>.....................] - ETA: 50s - loss: 0.3654 - acc: 0.8965"
          ],
          "name": "stdout"
        },
        {
          "output_type": "stream",
          "text": [
            "50000/50000 [==============================] - 78s 2ms/step - loss: 0.3935 - acc: 0.8867 - val_loss: 0.5611 - val_acc: 0.8302\n",
            "Epoch 18/25\n",
            "15616/50000 [========>.....................] - ETA: 50s - loss: 0.3459 - acc: 0.8984"
          ],
          "name": "stdout"
        },
        {
          "output_type": "stream",
          "text": [
            "50000/50000 [==============================] - 78s 2ms/step - loss: 0.3839 - acc: 0.8914 - val_loss: 0.8151 - val_acc: 0.7708\n",
            "Epoch 19/25\n",
            "15552/50000 [========>.....................] - ETA: 50s - loss: 0.3525 - acc: 0.8979"
          ],
          "name": "stdout"
        },
        {
          "output_type": "stream",
          "text": [
            "50000/50000 [==============================] - 78s 2ms/step - loss: 0.3690 - acc: 0.8948 - val_loss: 0.6996 - val_acc: 0.8059\n",
            "Epoch 20/25\n",
            "15552/50000 [========>.....................] - ETA: 50s - loss: 0.3831 - acc: 0.8946"
          ],
          "name": "stdout"
        },
        {
          "output_type": "stream",
          "text": [
            "50000/50000 [==============================] - 78s 2ms/step - loss: 0.4591 - acc: 0.8913 - val_loss: 0.8170 - val_acc: 0.8189\n",
            "Epoch 21/25\n",
            "15616/50000 [========>.....................] - ETA: 50s - loss: 0.6462 - acc: 0.8815"
          ],
          "name": "stdout"
        },
        {
          "output_type": "stream",
          "text": [
            "50000/50000 [==============================] - 78s 2ms/step - loss: 0.4617 - acc: 0.8924 - val_loss: 0.7302 - val_acc: 0.8276\n",
            "Epoch 22/25\n",
            "15680/50000 [========>.....................] - ETA: 50s - loss: 0.3569 - acc: 0.9063"
          ],
          "name": "stdout"
        },
        {
          "output_type": "stream",
          "text": [
            "50000/50000 [==============================] - 78s 2ms/step - loss: 0.3930 - acc: 0.8979 - val_loss: 0.8165 - val_acc: 0.8127\n",
            "Epoch 23/25\n",
            "15616/50000 [========>.....................] - ETA: 50s - loss: 0.3331 - acc: 0.9057"
          ],
          "name": "stdout"
        },
        {
          "output_type": "stream",
          "text": [
            "50000/50000 [==============================] - 78s 2ms/step - loss: 0.3559 - acc: 0.9030 - val_loss: 0.4979 - val_acc: 0.8418\n",
            "Epoch 24/25\n",
            "15552/50000 [========>.....................] - ETA: 51s - loss: 0.3824 - acc: 0.9041"
          ],
          "name": "stdout"
        },
        {
          "output_type": "stream",
          "text": [
            "50000/50000 [==============================] - 78s 2ms/step - loss: 0.3951 - acc: 0.9028 - val_loss: 0.5385 - val_acc: 0.8456\n",
            "Epoch 25/25\n",
            "15552/50000 [========>.....................] - ETA: 50s - loss: 0.3474 - acc: 0.9045"
          ],
          "name": "stdout"
        },
        {
          "output_type": "stream",
          "text": [
            "50000/50000 [==============================] - 78s 2ms/step - loss: 0.3805 - acc: 0.9048 - val_loss: 0.6512 - val_acc: 0.7995\n"
          ],
          "name": "stdout"
        }
      ]
    },
    {
      "metadata": {
        "id": "lb_lTSx80PpC",
        "colab_type": "code",
        "colab": {
          "autoexec": {
            "startup": false,
            "wait_interval": 0
          },
          "output_extras": [
            {
              "item_id": 1
            },
            {
              "item_id": 2
            },
            {
              "item_id": 3
            }
          ],
          "base_uri": "https://localhost:8080/",
          "height": 752
        },
        "outputId": "cf6e7c50-19d3-4f90-9cd7-50518b85fe50",
        "executionInfo": {
          "status": "ok",
          "timestamp": 1519939231014,
          "user_tz": 0,
          "elapsed": 1030,
          "user": {
            "displayName": "Rajesh Reddy",
            "photoUrl": "//lh3.googleusercontent.com/-Cw04_nciGC0/AAAAAAAAAAI/AAAAAAABD-0/wfiNoPHmgi4/s50-c-k-no/photo.jpg",
            "userId": "106015002215140560112"
          }
        }
      },
      "cell_type": "code",
      "source": [
        "# Plot the graph\n",
        "print(history.history.keys())\n",
        "plt.plot(history.history['acc'])\n",
        "plt.plot(history.history['val_acc'])\n",
        "plt.title('model accuracy')\n",
        "plt.ylabel('accuracy')\n",
        "plt.xlabel('epoch')\n",
        "plt.legend(['train', 'test'], loc='upper left')\n",
        "plt.show()\n",
        "# summarize history for loss\n",
        "plt.plot(history.history['loss'])\n",
        "plt.plot(history.history['val_loss'])\n",
        "plt.title('model loss')\n",
        "plt.ylabel('loss')\n",
        "plt.xlabel('epoch')\n",
        "plt.legend(['train', 'test'], loc='upper left')\n",
        "plt.show()"
      ],
      "execution_count": 18,
      "outputs": [
        {
          "output_type": "stream",
          "text": [
            "dict_keys(['val_loss', 'val_acc', 'loss', 'acc'])\n"
          ],
          "name": "stdout"
        },
        {
          "output_type": "display_data",
          "data": {
            "image/png": "[encoded data removed]",
            "text/plain": [
              "<matplotlib.figure.Figure at 0x7f9bb38e5f60>"
            ]
          },
          "metadata": {
            "tags": []
          }
        },
        {
          "output_type": "display_data",
          "data": {
            "image/png": "[encoded data removed]",
            "text/plain": [
              "<matplotlib.figure.Figure at 0x7f9bb2ad9400>"
            ]
          },
          "metadata": {
            "tags": []
          }
        }
      ]
    }
  ]
}